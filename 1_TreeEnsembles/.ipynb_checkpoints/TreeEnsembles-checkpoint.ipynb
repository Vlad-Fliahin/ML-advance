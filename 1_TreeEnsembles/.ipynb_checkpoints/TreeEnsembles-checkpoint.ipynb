{
 "cells": [
  {
   "cell_type": "code",
   "execution_count": 85,
   "id": "3c214c3e-c1f5-4556-ba09-6dfa235fc344",
   "metadata": {},
   "outputs": [],
   "source": [
    "import numpy as np\n",
    "import pandas as pd\n",
    "\n",
    "from sklearn.ensemble import RandomForestClassifier\n",
    "from sklearn.tree import DecisionTreeClassifier\n",
    "from sklearn.model_selection import train_test_split\n",
    "from sklearn.impute import SimpleImputer\n",
    "from sklearn.metrics import accuracy_score\n",
    "from sklearn.metrics import roc_auc_score\n",
    "from sklearn.model_selection import RandomizedSearchCV\n",
    "from sklearn.model_selection import GridSearchCV\n",
    "from lightgbm import LGBMClassifier"
   ]
  },
  {
   "cell_type": "code",
   "execution_count": 3,
   "id": "b5487da2-27cd-498a-afd6-16b009a198bd",
   "metadata": {},
   "outputs": [],
   "source": [
    "train_data = pd.read_csv('train.csv')"
   ]
  },
  {
   "cell_type": "code",
   "execution_count": 4,
   "id": "1a5bc9b7-d67c-4577-bd2d-073aec15e99f",
   "metadata": {},
   "outputs": [],
   "source": [
    "test_data = pd.read_csv('test.csv')"
   ]
  },
  {
   "cell_type": "code",
   "execution_count": 5,
   "id": "aa07a02b-2a57-40e1-af31-9f302cad8869",
   "metadata": {},
   "outputs": [
    {
     "data": {
      "text/html": [
       "<div>\n",
       "<style scoped>\n",
       "    .dataframe tbody tr th:only-of-type {\n",
       "        vertical-align: middle;\n",
       "    }\n",
       "\n",
       "    .dataframe tbody tr th {\n",
       "        vertical-align: top;\n",
       "    }\n",
       "\n",
       "    .dataframe thead th {\n",
       "        text-align: right;\n",
       "    }\n",
       "</style>\n",
       "<table border=\"1\" class=\"dataframe\">\n",
       "  <thead>\n",
       "    <tr style=\"text-align: right;\">\n",
       "      <th></th>\n",
       "      <th>id</th>\n",
       "      <th>f1</th>\n",
       "      <th>f2</th>\n",
       "      <th>f3</th>\n",
       "      <th>f4</th>\n",
       "      <th>f5</th>\n",
       "      <th>f6</th>\n",
       "      <th>f7</th>\n",
       "      <th>f8</th>\n",
       "      <th>f9</th>\n",
       "      <th>...</th>\n",
       "      <th>f110</th>\n",
       "      <th>f111</th>\n",
       "      <th>f112</th>\n",
       "      <th>f113</th>\n",
       "      <th>f114</th>\n",
       "      <th>f115</th>\n",
       "      <th>f116</th>\n",
       "      <th>f117</th>\n",
       "      <th>f118</th>\n",
       "      <th>claim</th>\n",
       "    </tr>\n",
       "  </thead>\n",
       "  <tbody>\n",
       "    <tr>\n",
       "      <th>count</th>\n",
       "      <td>957919.000000</td>\n",
       "      <td>942672.000000</td>\n",
       "      <td>942729.000000</td>\n",
       "      <td>942428.000000</td>\n",
       "      <td>942359.000000</td>\n",
       "      <td>942514.000000</td>\n",
       "      <td>942398.000000</td>\n",
       "      <td>942415.000000</td>\n",
       "      <td>9.425460e+05</td>\n",
       "      <td>9.426700e+05</td>\n",
       "      <td>...</td>\n",
       "      <td>942554.000000</td>\n",
       "      <td>942420.000000</td>\n",
       "      <td>942509.000000</td>\n",
       "      <td>942686.000000</td>\n",
       "      <td>942481.000000</td>\n",
       "      <td>942360.000000</td>\n",
       "      <td>9.423300e+05</td>\n",
       "      <td>942512.000000</td>\n",
       "      <td>942707.000000</td>\n",
       "      <td>957919.000000</td>\n",
       "    </tr>\n",
       "    <tr>\n",
       "      <th>mean</th>\n",
       "      <td>478959.000000</td>\n",
       "      <td>0.090201</td>\n",
       "      <td>0.345964</td>\n",
       "      <td>4068.744207</td>\n",
       "      <td>0.201214</td>\n",
       "      <td>0.304869</td>\n",
       "      <td>-0.071458</td>\n",
       "      <td>1620.843815</td>\n",
       "      <td>3.771642e+05</td>\n",
       "      <td>1.806054e+15</td>\n",
       "      <td>...</td>\n",
       "      <td>-19.926398</td>\n",
       "      <td>2.074530</td>\n",
       "      <td>23.885245</td>\n",
       "      <td>1.748777</td>\n",
       "      <td>63152.973540</td>\n",
       "      <td>1.208876</td>\n",
       "      <td>4.276905e+16</td>\n",
       "      <td>3959.204669</td>\n",
       "      <td>0.559267</td>\n",
       "      <td>0.498492</td>\n",
       "    </tr>\n",
       "    <tr>\n",
       "      <th>std</th>\n",
       "      <td>276527.540591</td>\n",
       "      <td>0.043564</td>\n",
       "      <td>0.146251</td>\n",
       "      <td>6415.829440</td>\n",
       "      <td>0.212510</td>\n",
       "      <td>0.145343</td>\n",
       "      <td>2.123777</td>\n",
       "      <td>1276.281403</td>\n",
       "      <td>3.454325e+05</td>\n",
       "      <td>2.335204e+15</td>\n",
       "      <td>...</td>\n",
       "      <td>18.578439</td>\n",
       "      <td>0.895793</td>\n",
       "      <td>45.581360</td>\n",
       "      <td>10.088848</td>\n",
       "      <td>92435.016241</td>\n",
       "      <td>0.114959</td>\n",
       "      <td>6.732441e+16</td>\n",
       "      <td>3155.991777</td>\n",
       "      <td>0.408426</td>\n",
       "      <td>0.499998</td>\n",
       "    </tr>\n",
       "    <tr>\n",
       "      <th>min</th>\n",
       "      <td>0.000000</td>\n",
       "      <td>-0.149910</td>\n",
       "      <td>-0.019044</td>\n",
       "      <td>-9421.700000</td>\n",
       "      <td>-0.082122</td>\n",
       "      <td>-0.006990</td>\n",
       "      <td>-12.791000</td>\n",
       "      <td>-224.800000</td>\n",
       "      <td>-2.984300e+04</td>\n",
       "      <td>-1.153300e+15</td>\n",
       "      <td>...</td>\n",
       "      <td>-105.860000</td>\n",
       "      <td>0.277040</td>\n",
       "      <td>-27.691000</td>\n",
       "      <td>-26.589000</td>\n",
       "      <td>-81977.000000</td>\n",
       "      <td>0.905270</td>\n",
       "      <td>-8.944400e+15</td>\n",
       "      <td>-415.240000</td>\n",
       "      <td>-0.151240</td>\n",
       "      <td>0.000000</td>\n",
       "    </tr>\n",
       "    <tr>\n",
       "      <th>25%</th>\n",
       "      <td>239479.500000</td>\n",
       "      <td>0.070227</td>\n",
       "      <td>0.283050</td>\n",
       "      <td>418.430000</td>\n",
       "      <td>0.035086</td>\n",
       "      <td>0.240520</td>\n",
       "      <td>-1.120700</td>\n",
       "      <td>481.545000</td>\n",
       "      <td>9.120900e+04</td>\n",
       "      <td>1.153100e+13</td>\n",
       "      <td>...</td>\n",
       "      <td>-28.812000</td>\n",
       "      <td>1.487700</td>\n",
       "      <td>-0.628880</td>\n",
       "      <td>-4.473975</td>\n",
       "      <td>2443.200000</td>\n",
       "      <td>1.146800</td>\n",
       "      <td>2.321100e+14</td>\n",
       "      <td>1306.200000</td>\n",
       "      <td>0.276560</td>\n",
       "      <td>0.000000</td>\n",
       "    </tr>\n",
       "    <tr>\n",
       "      <th>50%</th>\n",
       "      <td>478959.000000</td>\n",
       "      <td>0.090135</td>\n",
       "      <td>0.389100</td>\n",
       "      <td>1279.500000</td>\n",
       "      <td>0.137000</td>\n",
       "      <td>0.327790</td>\n",
       "      <td>-0.380110</td>\n",
       "      <td>1446.100000</td>\n",
       "      <td>2.896700e+05</td>\n",
       "      <td>5.043050e+14</td>\n",
       "      <td>...</td>\n",
       "      <td>-14.636000</td>\n",
       "      <td>1.662100</td>\n",
       "      <td>1.727700</td>\n",
       "      <td>0.885710</td>\n",
       "      <td>19479.000000</td>\n",
       "      <td>1.177200</td>\n",
       "      <td>1.327500e+16</td>\n",
       "      <td>3228.000000</td>\n",
       "      <td>0.473440</td>\n",
       "      <td>0.000000</td>\n",
       "    </tr>\n",
       "    <tr>\n",
       "      <th>75%</th>\n",
       "      <td>718438.500000</td>\n",
       "      <td>0.116500</td>\n",
       "      <td>0.458450</td>\n",
       "      <td>4444.400000</td>\n",
       "      <td>0.297100</td>\n",
       "      <td>0.412830</td>\n",
       "      <td>0.921940</td>\n",
       "      <td>2495.900000</td>\n",
       "      <td>5.605600e+05</td>\n",
       "      <td>3.103100e+15</td>\n",
       "      <td>...</td>\n",
       "      <td>-5.325300</td>\n",
       "      <td>2.522325</td>\n",
       "      <td>18.991000</td>\n",
       "      <td>6.840775</td>\n",
       "      <td>88488.000000</td>\n",
       "      <td>1.242000</td>\n",
       "      <td>5.278700e+16</td>\n",
       "      <td>6137.900000</td>\n",
       "      <td>0.746210</td>\n",
       "      <td>1.000000</td>\n",
       "    </tr>\n",
       "    <tr>\n",
       "      <th>max</th>\n",
       "      <td>957918.000000</td>\n",
       "      <td>0.415170</td>\n",
       "      <td>0.518990</td>\n",
       "      <td>39544.000000</td>\n",
       "      <td>1.319900</td>\n",
       "      <td>0.554750</td>\n",
       "      <td>11.202000</td>\n",
       "      <td>5426.600000</td>\n",
       "      <td>1.913700e+06</td>\n",
       "      <td>1.042400e+16</td>\n",
       "      <td>...</td>\n",
       "      <td>1.613400</td>\n",
       "      <td>4.565900</td>\n",
       "      <td>217.840000</td>\n",
       "      <td>47.757000</td>\n",
       "      <td>526050.000000</td>\n",
       "      <td>1.886700</td>\n",
       "      <td>3.249900e+17</td>\n",
       "      <td>13151.000000</td>\n",
       "      <td>2.743600</td>\n",
       "      <td>1.000000</td>\n",
       "    </tr>\n",
       "  </tbody>\n",
       "</table>\n",
       "<p>8 rows × 120 columns</p>\n",
       "</div>"
      ],
      "text/plain": [
       "                  id             f1             f2             f3  \\\n",
       "count  957919.000000  942672.000000  942729.000000  942428.000000   \n",
       "mean   478959.000000       0.090201       0.345964    4068.744207   \n",
       "std    276527.540591       0.043564       0.146251    6415.829440   \n",
       "min         0.000000      -0.149910      -0.019044   -9421.700000   \n",
       "25%    239479.500000       0.070227       0.283050     418.430000   \n",
       "50%    478959.000000       0.090135       0.389100    1279.500000   \n",
       "75%    718438.500000       0.116500       0.458450    4444.400000   \n",
       "max    957918.000000       0.415170       0.518990   39544.000000   \n",
       "\n",
       "                  f4             f5             f6             f7  \\\n",
       "count  942359.000000  942514.000000  942398.000000  942415.000000   \n",
       "mean        0.201214       0.304869      -0.071458    1620.843815   \n",
       "std         0.212510       0.145343       2.123777    1276.281403   \n",
       "min        -0.082122      -0.006990     -12.791000    -224.800000   \n",
       "25%         0.035086       0.240520      -1.120700     481.545000   \n",
       "50%         0.137000       0.327790      -0.380110    1446.100000   \n",
       "75%         0.297100       0.412830       0.921940    2495.900000   \n",
       "max         1.319900       0.554750      11.202000    5426.600000   \n",
       "\n",
       "                 f8            f9  ...           f110           f111  \\\n",
       "count  9.425460e+05  9.426700e+05  ...  942554.000000  942420.000000   \n",
       "mean   3.771642e+05  1.806054e+15  ...     -19.926398       2.074530   \n",
       "std    3.454325e+05  2.335204e+15  ...      18.578439       0.895793   \n",
       "min   -2.984300e+04 -1.153300e+15  ...    -105.860000       0.277040   \n",
       "25%    9.120900e+04  1.153100e+13  ...     -28.812000       1.487700   \n",
       "50%    2.896700e+05  5.043050e+14  ...     -14.636000       1.662100   \n",
       "75%    5.605600e+05  3.103100e+15  ...      -5.325300       2.522325   \n",
       "max    1.913700e+06  1.042400e+16  ...       1.613400       4.565900   \n",
       "\n",
       "                f112           f113           f114           f115  \\\n",
       "count  942509.000000  942686.000000  942481.000000  942360.000000   \n",
       "mean       23.885245       1.748777   63152.973540       1.208876   \n",
       "std        45.581360      10.088848   92435.016241       0.114959   \n",
       "min       -27.691000     -26.589000  -81977.000000       0.905270   \n",
       "25%        -0.628880      -4.473975    2443.200000       1.146800   \n",
       "50%         1.727700       0.885710   19479.000000       1.177200   \n",
       "75%        18.991000       6.840775   88488.000000       1.242000   \n",
       "max       217.840000      47.757000  526050.000000       1.886700   \n",
       "\n",
       "               f116           f117           f118          claim  \n",
       "count  9.423300e+05  942512.000000  942707.000000  957919.000000  \n",
       "mean   4.276905e+16    3959.204669       0.559267       0.498492  \n",
       "std    6.732441e+16    3155.991777       0.408426       0.499998  \n",
       "min   -8.944400e+15    -415.240000      -0.151240       0.000000  \n",
       "25%    2.321100e+14    1306.200000       0.276560       0.000000  \n",
       "50%    1.327500e+16    3228.000000       0.473440       0.000000  \n",
       "75%    5.278700e+16    6137.900000       0.746210       1.000000  \n",
       "max    3.249900e+17   13151.000000       2.743600       1.000000  \n",
       "\n",
       "[8 rows x 120 columns]"
      ]
     },
     "execution_count": 5,
     "metadata": {},
     "output_type": "execute_result"
    }
   ],
   "source": [
    "train_data.describe()"
   ]
  },
  {
   "cell_type": "code",
   "execution_count": 6,
   "id": "05205260-a766-44ea-a47d-d44607bd2180",
   "metadata": {},
   "outputs": [
    {
     "data": {
      "text/plain": [
       "(957919, 120)"
      ]
     },
     "execution_count": 6,
     "metadata": {},
     "output_type": "execute_result"
    }
   ],
   "source": [
    "train_data.shape"
   ]
  },
  {
   "cell_type": "code",
   "execution_count": 7,
   "id": "c6339602-e9af-4c4a-853b-d3354cd7097b",
   "metadata": {},
   "outputs": [
    {
     "data": {
      "text/plain": [
       "(493474, 119)"
      ]
     },
     "execution_count": 7,
     "metadata": {},
     "output_type": "execute_result"
    }
   ],
   "source": [
    "test_data.shape"
   ]
  },
  {
   "cell_type": "code",
   "execution_count": 8,
   "id": "d339281f-07b2-4883-9917-ea93f64d5e08",
   "metadata": {},
   "outputs": [
    {
     "data": {
      "text/html": [
       "<div>\n",
       "<style scoped>\n",
       "    .dataframe tbody tr th:only-of-type {\n",
       "        vertical-align: middle;\n",
       "    }\n",
       "\n",
       "    .dataframe tbody tr th {\n",
       "        vertical-align: top;\n",
       "    }\n",
       "\n",
       "    .dataframe thead th {\n",
       "        text-align: right;\n",
       "    }\n",
       "</style>\n",
       "<table border=\"1\" class=\"dataframe\">\n",
       "  <thead>\n",
       "    <tr style=\"text-align: right;\">\n",
       "      <th></th>\n",
       "      <th>id</th>\n",
       "      <th>f1</th>\n",
       "      <th>f2</th>\n",
       "      <th>f3</th>\n",
       "      <th>f4</th>\n",
       "      <th>f5</th>\n",
       "      <th>f6</th>\n",
       "      <th>f7</th>\n",
       "      <th>f8</th>\n",
       "      <th>f9</th>\n",
       "      <th>...</th>\n",
       "      <th>f110</th>\n",
       "      <th>f111</th>\n",
       "      <th>f112</th>\n",
       "      <th>f113</th>\n",
       "      <th>f114</th>\n",
       "      <th>f115</th>\n",
       "      <th>f116</th>\n",
       "      <th>f117</th>\n",
       "      <th>f118</th>\n",
       "      <th>claim</th>\n",
       "    </tr>\n",
       "  </thead>\n",
       "  <tbody>\n",
       "    <tr>\n",
       "      <th>0</th>\n",
       "      <td>0</td>\n",
       "      <td>0.10859</td>\n",
       "      <td>0.004314</td>\n",
       "      <td>-37.566</td>\n",
       "      <td>0.017364</td>\n",
       "      <td>0.28915</td>\n",
       "      <td>-10.25100</td>\n",
       "      <td>135.12</td>\n",
       "      <td>168900.0</td>\n",
       "      <td>3.992400e+14</td>\n",
       "      <td>...</td>\n",
       "      <td>-12.2280</td>\n",
       "      <td>1.7482</td>\n",
       "      <td>1.90960</td>\n",
       "      <td>-7.11570</td>\n",
       "      <td>4378.80</td>\n",
       "      <td>1.2096</td>\n",
       "      <td>8.613400e+14</td>\n",
       "      <td>140.1</td>\n",
       "      <td>1.01770</td>\n",
       "      <td>1</td>\n",
       "    </tr>\n",
       "    <tr>\n",
       "      <th>1</th>\n",
       "      <td>1</td>\n",
       "      <td>0.10090</td>\n",
       "      <td>0.299610</td>\n",
       "      <td>11822.000</td>\n",
       "      <td>0.276500</td>\n",
       "      <td>0.45970</td>\n",
       "      <td>-0.83733</td>\n",
       "      <td>1721.90</td>\n",
       "      <td>119810.0</td>\n",
       "      <td>3.874100e+15</td>\n",
       "      <td>...</td>\n",
       "      <td>-56.7580</td>\n",
       "      <td>4.1684</td>\n",
       "      <td>0.34808</td>\n",
       "      <td>4.14200</td>\n",
       "      <td>913.23</td>\n",
       "      <td>1.2464</td>\n",
       "      <td>7.575100e+15</td>\n",
       "      <td>1861.0</td>\n",
       "      <td>0.28359</td>\n",
       "      <td>0</td>\n",
       "    </tr>\n",
       "    <tr>\n",
       "      <th>2</th>\n",
       "      <td>2</td>\n",
       "      <td>0.17803</td>\n",
       "      <td>-0.006980</td>\n",
       "      <td>907.270</td>\n",
       "      <td>0.272140</td>\n",
       "      <td>0.45948</td>\n",
       "      <td>0.17327</td>\n",
       "      <td>2298.00</td>\n",
       "      <td>360650.0</td>\n",
       "      <td>1.224500e+13</td>\n",
       "      <td>...</td>\n",
       "      <td>-5.7688</td>\n",
       "      <td>1.2042</td>\n",
       "      <td>0.26290</td>\n",
       "      <td>8.13120</td>\n",
       "      <td>45119.00</td>\n",
       "      <td>1.1764</td>\n",
       "      <td>3.218100e+14</td>\n",
       "      <td>3838.2</td>\n",
       "      <td>0.40690</td>\n",
       "      <td>1</td>\n",
       "    </tr>\n",
       "    <tr>\n",
       "      <th>3</th>\n",
       "      <td>3</td>\n",
       "      <td>0.15236</td>\n",
       "      <td>0.007259</td>\n",
       "      <td>780.100</td>\n",
       "      <td>0.025179</td>\n",
       "      <td>0.51947</td>\n",
       "      <td>7.49140</td>\n",
       "      <td>112.51</td>\n",
       "      <td>259490.0</td>\n",
       "      <td>7.781400e+13</td>\n",
       "      <td>...</td>\n",
       "      <td>-34.8580</td>\n",
       "      <td>2.0694</td>\n",
       "      <td>0.79631</td>\n",
       "      <td>-16.33600</td>\n",
       "      <td>4952.40</td>\n",
       "      <td>1.1784</td>\n",
       "      <td>4.533000e+12</td>\n",
       "      <td>4889.1</td>\n",
       "      <td>0.51486</td>\n",
       "      <td>1</td>\n",
       "    </tr>\n",
       "    <tr>\n",
       "      <th>4</th>\n",
       "      <td>4</td>\n",
       "      <td>0.11623</td>\n",
       "      <td>0.502900</td>\n",
       "      <td>-109.150</td>\n",
       "      <td>0.297910</td>\n",
       "      <td>0.34490</td>\n",
       "      <td>-0.40932</td>\n",
       "      <td>2538.90</td>\n",
       "      <td>65332.0</td>\n",
       "      <td>1.907200e+15</td>\n",
       "      <td>...</td>\n",
       "      <td>-13.6410</td>\n",
       "      <td>1.5298</td>\n",
       "      <td>1.14640</td>\n",
       "      <td>-0.43124</td>\n",
       "      <td>3856.50</td>\n",
       "      <td>1.4830</td>\n",
       "      <td>-8.991300e+12</td>\n",
       "      <td>NaN</td>\n",
       "      <td>0.23049</td>\n",
       "      <td>1</td>\n",
       "    </tr>\n",
       "  </tbody>\n",
       "</table>\n",
       "<p>5 rows × 120 columns</p>\n",
       "</div>"
      ],
      "text/plain": [
       "   id       f1        f2         f3        f4       f5        f6       f7  \\\n",
       "0   0  0.10859  0.004314    -37.566  0.017364  0.28915 -10.25100   135.12   \n",
       "1   1  0.10090  0.299610  11822.000  0.276500  0.45970  -0.83733  1721.90   \n",
       "2   2  0.17803 -0.006980    907.270  0.272140  0.45948   0.17327  2298.00   \n",
       "3   3  0.15236  0.007259    780.100  0.025179  0.51947   7.49140   112.51   \n",
       "4   4  0.11623  0.502900   -109.150  0.297910  0.34490  -0.40932  2538.90   \n",
       "\n",
       "         f8            f9  ...     f110    f111     f112      f113      f114  \\\n",
       "0  168900.0  3.992400e+14  ... -12.2280  1.7482  1.90960  -7.11570   4378.80   \n",
       "1  119810.0  3.874100e+15  ... -56.7580  4.1684  0.34808   4.14200    913.23   \n",
       "2  360650.0  1.224500e+13  ...  -5.7688  1.2042  0.26290   8.13120  45119.00   \n",
       "3  259490.0  7.781400e+13  ... -34.8580  2.0694  0.79631 -16.33600   4952.40   \n",
       "4   65332.0  1.907200e+15  ... -13.6410  1.5298  1.14640  -0.43124   3856.50   \n",
       "\n",
       "     f115          f116    f117     f118  claim  \n",
       "0  1.2096  8.613400e+14   140.1  1.01770      1  \n",
       "1  1.2464  7.575100e+15  1861.0  0.28359      0  \n",
       "2  1.1764  3.218100e+14  3838.2  0.40690      1  \n",
       "3  1.1784  4.533000e+12  4889.1  0.51486      1  \n",
       "4  1.4830 -8.991300e+12     NaN  0.23049      1  \n",
       "\n",
       "[5 rows x 120 columns]"
      ]
     },
     "execution_count": 8,
     "metadata": {},
     "output_type": "execute_result"
    }
   ],
   "source": [
    "train_data.head()"
   ]
  },
  {
   "cell_type": "code",
   "execution_count": 9,
   "id": "6495cf68-9b83-484d-91be-968803094595",
   "metadata": {
    "tags": []
   },
   "outputs": [
    {
     "data": {
      "text/plain": [
       "id           0\n",
       "f1       15247\n",
       "f2       15190\n",
       "f3       15491\n",
       "f4       15560\n",
       "         ...  \n",
       "f115     15559\n",
       "f116     15589\n",
       "f117     15407\n",
       "f118     15212\n",
       "claim        0\n",
       "Length: 120, dtype: int64"
      ]
     },
     "execution_count": 9,
     "metadata": {},
     "output_type": "execute_result"
    }
   ],
   "source": [
    "train_data.isnull().sum()"
   ]
  },
  {
   "cell_type": "code",
   "execution_count": 10,
   "id": "3098e95a-356e-40e5-9f12-7cabedcc2733",
   "metadata": {},
   "outputs": [],
   "source": [
    "imp_mean = SimpleImputer(missing_values=np.nan, strategy='mean')"
   ]
  },
  {
   "cell_type": "code",
   "execution_count": 11,
   "id": "865e94f7-0423-4e16-a81c-d3013b714c6b",
   "metadata": {},
   "outputs": [],
   "source": [
    "impured_train = pd.DataFrame(imp_mean.fit_transform(train_data), columns=train_data.columns)\n",
    "impured_test = pd.DataFrame(imp_mean.fit_transform(test_data), columns=test_data.columns)"
   ]
  },
  {
   "cell_type": "code",
   "execution_count": 12,
   "id": "f888d7ae-d1c6-486e-90ad-1b962d1a31e2",
   "metadata": {
    "tags": []
   },
   "outputs": [
    {
     "data": {
      "text/plain": [
       "id       0\n",
       "f1       0\n",
       "f2       0\n",
       "f3       0\n",
       "f4       0\n",
       "        ..\n",
       "f115     0\n",
       "f116     0\n",
       "f117     0\n",
       "f118     0\n",
       "claim    0\n",
       "Length: 120, dtype: int64"
      ]
     },
     "execution_count": 12,
     "metadata": {},
     "output_type": "execute_result"
    }
   ],
   "source": [
    "impured_train.isnull().sum()"
   ]
  },
  {
   "cell_type": "code",
   "execution_count": 13,
   "id": "9d214b16-7b84-4a9f-9919-45fcb6cb8f3f",
   "metadata": {},
   "outputs": [
    {
     "data": {
      "text/plain": [
       "id      0\n",
       "f1      0\n",
       "f2      0\n",
       "f3      0\n",
       "f4      0\n",
       "       ..\n",
       "f114    0\n",
       "f115    0\n",
       "f116    0\n",
       "f117    0\n",
       "f118    0\n",
       "Length: 119, dtype: int64"
      ]
     },
     "execution_count": 13,
     "metadata": {},
     "output_type": "execute_result"
    }
   ],
   "source": [
    "impured_test.isnull().sum()"
   ]
  },
  {
   "cell_type": "code",
   "execution_count": 14,
   "id": "1bbf688e-47c1-487f-b926-47567895db46",
   "metadata": {},
   "outputs": [
    {
     "data": {
      "text/html": [
       "<div>\n",
       "<style scoped>\n",
       "    .dataframe tbody tr th:only-of-type {\n",
       "        vertical-align: middle;\n",
       "    }\n",
       "\n",
       "    .dataframe tbody tr th {\n",
       "        vertical-align: top;\n",
       "    }\n",
       "\n",
       "    .dataframe thead th {\n",
       "        text-align: right;\n",
       "    }\n",
       "</style>\n",
       "<table border=\"1\" class=\"dataframe\">\n",
       "  <thead>\n",
       "    <tr style=\"text-align: right;\">\n",
       "      <th></th>\n",
       "      <th>id</th>\n",
       "      <th>f1</th>\n",
       "      <th>f2</th>\n",
       "      <th>f3</th>\n",
       "      <th>f4</th>\n",
       "      <th>f5</th>\n",
       "      <th>f6</th>\n",
       "      <th>f7</th>\n",
       "      <th>f8</th>\n",
       "      <th>f9</th>\n",
       "      <th>...</th>\n",
       "      <th>f110</th>\n",
       "      <th>f111</th>\n",
       "      <th>f112</th>\n",
       "      <th>f113</th>\n",
       "      <th>f114</th>\n",
       "      <th>f115</th>\n",
       "      <th>f116</th>\n",
       "      <th>f117</th>\n",
       "      <th>f118</th>\n",
       "      <th>claim</th>\n",
       "    </tr>\n",
       "  </thead>\n",
       "  <tbody>\n",
       "    <tr>\n",
       "      <th>0</th>\n",
       "      <td>0.0</td>\n",
       "      <td>0.10859</td>\n",
       "      <td>0.004314</td>\n",
       "      <td>-37.566</td>\n",
       "      <td>0.017364</td>\n",
       "      <td>0.28915</td>\n",
       "      <td>-10.25100</td>\n",
       "      <td>135.12</td>\n",
       "      <td>168900.0</td>\n",
       "      <td>3.992400e+14</td>\n",
       "      <td>...</td>\n",
       "      <td>-12.2280</td>\n",
       "      <td>1.7482</td>\n",
       "      <td>1.90960</td>\n",
       "      <td>-7.11570</td>\n",
       "      <td>4378.80</td>\n",
       "      <td>1.2096</td>\n",
       "      <td>8.613400e+14</td>\n",
       "      <td>140.100000</td>\n",
       "      <td>1.01770</td>\n",
       "      <td>1.0</td>\n",
       "    </tr>\n",
       "    <tr>\n",
       "      <th>1</th>\n",
       "      <td>1.0</td>\n",
       "      <td>0.10090</td>\n",
       "      <td>0.299610</td>\n",
       "      <td>11822.000</td>\n",
       "      <td>0.276500</td>\n",
       "      <td>0.45970</td>\n",
       "      <td>-0.83733</td>\n",
       "      <td>1721.90</td>\n",
       "      <td>119810.0</td>\n",
       "      <td>3.874100e+15</td>\n",
       "      <td>...</td>\n",
       "      <td>-56.7580</td>\n",
       "      <td>4.1684</td>\n",
       "      <td>0.34808</td>\n",
       "      <td>4.14200</td>\n",
       "      <td>913.23</td>\n",
       "      <td>1.2464</td>\n",
       "      <td>7.575100e+15</td>\n",
       "      <td>1861.000000</td>\n",
       "      <td>0.28359</td>\n",
       "      <td>0.0</td>\n",
       "    </tr>\n",
       "    <tr>\n",
       "      <th>2</th>\n",
       "      <td>2.0</td>\n",
       "      <td>0.17803</td>\n",
       "      <td>-0.006980</td>\n",
       "      <td>907.270</td>\n",
       "      <td>0.272140</td>\n",
       "      <td>0.45948</td>\n",
       "      <td>0.17327</td>\n",
       "      <td>2298.00</td>\n",
       "      <td>360650.0</td>\n",
       "      <td>1.224500e+13</td>\n",
       "      <td>...</td>\n",
       "      <td>-5.7688</td>\n",
       "      <td>1.2042</td>\n",
       "      <td>0.26290</td>\n",
       "      <td>8.13120</td>\n",
       "      <td>45119.00</td>\n",
       "      <td>1.1764</td>\n",
       "      <td>3.218100e+14</td>\n",
       "      <td>3838.200000</td>\n",
       "      <td>0.40690</td>\n",
       "      <td>1.0</td>\n",
       "    </tr>\n",
       "    <tr>\n",
       "      <th>3</th>\n",
       "      <td>3.0</td>\n",
       "      <td>0.15236</td>\n",
       "      <td>0.007259</td>\n",
       "      <td>780.100</td>\n",
       "      <td>0.025179</td>\n",
       "      <td>0.51947</td>\n",
       "      <td>7.49140</td>\n",
       "      <td>112.51</td>\n",
       "      <td>259490.0</td>\n",
       "      <td>7.781400e+13</td>\n",
       "      <td>...</td>\n",
       "      <td>-34.8580</td>\n",
       "      <td>2.0694</td>\n",
       "      <td>0.79631</td>\n",
       "      <td>-16.33600</td>\n",
       "      <td>4952.40</td>\n",
       "      <td>1.1784</td>\n",
       "      <td>4.533000e+12</td>\n",
       "      <td>4889.100000</td>\n",
       "      <td>0.51486</td>\n",
       "      <td>1.0</td>\n",
       "    </tr>\n",
       "    <tr>\n",
       "      <th>4</th>\n",
       "      <td>4.0</td>\n",
       "      <td>0.11623</td>\n",
       "      <td>0.502900</td>\n",
       "      <td>-109.150</td>\n",
       "      <td>0.297910</td>\n",
       "      <td>0.34490</td>\n",
       "      <td>-0.40932</td>\n",
       "      <td>2538.90</td>\n",
       "      <td>65332.0</td>\n",
       "      <td>1.907200e+15</td>\n",
       "      <td>...</td>\n",
       "      <td>-13.6410</td>\n",
       "      <td>1.5298</td>\n",
       "      <td>1.14640</td>\n",
       "      <td>-0.43124</td>\n",
       "      <td>3856.50</td>\n",
       "      <td>1.4830</td>\n",
       "      <td>-8.991300e+12</td>\n",
       "      <td>3959.204669</td>\n",
       "      <td>0.23049</td>\n",
       "      <td>1.0</td>\n",
       "    </tr>\n",
       "  </tbody>\n",
       "</table>\n",
       "<p>5 rows × 120 columns</p>\n",
       "</div>"
      ],
      "text/plain": [
       "    id       f1        f2         f3        f4       f5        f6       f7  \\\n",
       "0  0.0  0.10859  0.004314    -37.566  0.017364  0.28915 -10.25100   135.12   \n",
       "1  1.0  0.10090  0.299610  11822.000  0.276500  0.45970  -0.83733  1721.90   \n",
       "2  2.0  0.17803 -0.006980    907.270  0.272140  0.45948   0.17327  2298.00   \n",
       "3  3.0  0.15236  0.007259    780.100  0.025179  0.51947   7.49140   112.51   \n",
       "4  4.0  0.11623  0.502900   -109.150  0.297910  0.34490  -0.40932  2538.90   \n",
       "\n",
       "         f8            f9  ...     f110    f111     f112      f113      f114  \\\n",
       "0  168900.0  3.992400e+14  ... -12.2280  1.7482  1.90960  -7.11570   4378.80   \n",
       "1  119810.0  3.874100e+15  ... -56.7580  4.1684  0.34808   4.14200    913.23   \n",
       "2  360650.0  1.224500e+13  ...  -5.7688  1.2042  0.26290   8.13120  45119.00   \n",
       "3  259490.0  7.781400e+13  ... -34.8580  2.0694  0.79631 -16.33600   4952.40   \n",
       "4   65332.0  1.907200e+15  ... -13.6410  1.5298  1.14640  -0.43124   3856.50   \n",
       "\n",
       "     f115          f116         f117     f118  claim  \n",
       "0  1.2096  8.613400e+14   140.100000  1.01770    1.0  \n",
       "1  1.2464  7.575100e+15  1861.000000  0.28359    0.0  \n",
       "2  1.1764  3.218100e+14  3838.200000  0.40690    1.0  \n",
       "3  1.1784  4.533000e+12  4889.100000  0.51486    1.0  \n",
       "4  1.4830 -8.991300e+12  3959.204669  0.23049    1.0  \n",
       "\n",
       "[5 rows x 120 columns]"
      ]
     },
     "execution_count": 14,
     "metadata": {},
     "output_type": "execute_result"
    }
   ],
   "source": [
    "impured_train.head()"
   ]
  },
  {
   "cell_type": "code",
   "execution_count": 161,
   "id": "0cea6af1-44ea-4a8b-909f-ee44bdabeb4f",
   "metadata": {},
   "outputs": [],
   "source": [
    "impured_train_X = impured_train.iloc[:, 1:-1]\n",
    "impured_test = impured_test.iloc[:, 1:]\n",
    "\n",
    "impured_train_y = pd.DataFrame(impured_train.iloc[:, 119])"
   ]
  },
  {
   "cell_type": "code",
   "execution_count": 16,
   "id": "526dfd3b-9f3a-41b5-97e2-0463dbcd84de",
   "metadata": {},
   "outputs": [
    {
     "data": {
      "text/html": [
       "<div>\n",
       "<style scoped>\n",
       "    .dataframe tbody tr th:only-of-type {\n",
       "        vertical-align: middle;\n",
       "    }\n",
       "\n",
       "    .dataframe tbody tr th {\n",
       "        vertical-align: top;\n",
       "    }\n",
       "\n",
       "    .dataframe thead th {\n",
       "        text-align: right;\n",
       "    }\n",
       "</style>\n",
       "<table border=\"1\" class=\"dataframe\">\n",
       "  <thead>\n",
       "    <tr style=\"text-align: right;\">\n",
       "      <th></th>\n",
       "      <th>f1</th>\n",
       "      <th>f2</th>\n",
       "      <th>f3</th>\n",
       "      <th>f4</th>\n",
       "      <th>f5</th>\n",
       "      <th>f6</th>\n",
       "      <th>f7</th>\n",
       "      <th>f8</th>\n",
       "      <th>f9</th>\n",
       "      <th>f10</th>\n",
       "      <th>...</th>\n",
       "      <th>f109</th>\n",
       "      <th>f110</th>\n",
       "      <th>f111</th>\n",
       "      <th>f112</th>\n",
       "      <th>f113</th>\n",
       "      <th>f114</th>\n",
       "      <th>f115</th>\n",
       "      <th>f116</th>\n",
       "      <th>f117</th>\n",
       "      <th>f118</th>\n",
       "    </tr>\n",
       "  </thead>\n",
       "  <tbody>\n",
       "    <tr>\n",
       "      <th>0</th>\n",
       "      <td>0.10859</td>\n",
       "      <td>0.004314</td>\n",
       "      <td>-37.566</td>\n",
       "      <td>0.017364</td>\n",
       "      <td>0.28915</td>\n",
       "      <td>-10.25100</td>\n",
       "      <td>135.12</td>\n",
       "      <td>168900.0</td>\n",
       "      <td>3.992400e+14</td>\n",
       "      <td>86.489</td>\n",
       "      <td>...</td>\n",
       "      <td>0.11093</td>\n",
       "      <td>-12.2280</td>\n",
       "      <td>1.7482</td>\n",
       "      <td>1.90960</td>\n",
       "      <td>-7.11570</td>\n",
       "      <td>4378.80</td>\n",
       "      <td>1.2096</td>\n",
       "      <td>8.613400e+14</td>\n",
       "      <td>140.100000</td>\n",
       "      <td>1.01770</td>\n",
       "    </tr>\n",
       "    <tr>\n",
       "      <th>1</th>\n",
       "      <td>0.10090</td>\n",
       "      <td>0.299610</td>\n",
       "      <td>11822.000</td>\n",
       "      <td>0.276500</td>\n",
       "      <td>0.45970</td>\n",
       "      <td>-0.83733</td>\n",
       "      <td>1721.90</td>\n",
       "      <td>119810.0</td>\n",
       "      <td>3.874100e+15</td>\n",
       "      <td>9953.600</td>\n",
       "      <td>...</td>\n",
       "      <td>0.97673</td>\n",
       "      <td>-56.7580</td>\n",
       "      <td>4.1684</td>\n",
       "      <td>0.34808</td>\n",
       "      <td>4.14200</td>\n",
       "      <td>913.23</td>\n",
       "      <td>1.2464</td>\n",
       "      <td>7.575100e+15</td>\n",
       "      <td>1861.000000</td>\n",
       "      <td>0.28359</td>\n",
       "    </tr>\n",
       "    <tr>\n",
       "      <th>2</th>\n",
       "      <td>0.17803</td>\n",
       "      <td>-0.006980</td>\n",
       "      <td>907.270</td>\n",
       "      <td>0.272140</td>\n",
       "      <td>0.45948</td>\n",
       "      <td>0.17327</td>\n",
       "      <td>2298.00</td>\n",
       "      <td>360650.0</td>\n",
       "      <td>1.224500e+13</td>\n",
       "      <td>15827.000</td>\n",
       "      <td>...</td>\n",
       "      <td>0.20102</td>\n",
       "      <td>-5.7688</td>\n",
       "      <td>1.2042</td>\n",
       "      <td>0.26290</td>\n",
       "      <td>8.13120</td>\n",
       "      <td>45119.00</td>\n",
       "      <td>1.1764</td>\n",
       "      <td>3.218100e+14</td>\n",
       "      <td>3838.200000</td>\n",
       "      <td>0.40690</td>\n",
       "    </tr>\n",
       "    <tr>\n",
       "      <th>3</th>\n",
       "      <td>0.15236</td>\n",
       "      <td>0.007259</td>\n",
       "      <td>780.100</td>\n",
       "      <td>0.025179</td>\n",
       "      <td>0.51947</td>\n",
       "      <td>7.49140</td>\n",
       "      <td>112.51</td>\n",
       "      <td>259490.0</td>\n",
       "      <td>7.781400e+13</td>\n",
       "      <td>-36.837</td>\n",
       "      <td>...</td>\n",
       "      <td>-0.01182</td>\n",
       "      <td>-34.8580</td>\n",
       "      <td>2.0694</td>\n",
       "      <td>0.79631</td>\n",
       "      <td>-16.33600</td>\n",
       "      <td>4952.40</td>\n",
       "      <td>1.1784</td>\n",
       "      <td>4.533000e+12</td>\n",
       "      <td>4889.100000</td>\n",
       "      <td>0.51486</td>\n",
       "    </tr>\n",
       "    <tr>\n",
       "      <th>4</th>\n",
       "      <td>0.11623</td>\n",
       "      <td>0.502900</td>\n",
       "      <td>-109.150</td>\n",
       "      <td>0.297910</td>\n",
       "      <td>0.34490</td>\n",
       "      <td>-0.40932</td>\n",
       "      <td>2538.90</td>\n",
       "      <td>65332.0</td>\n",
       "      <td>1.907200e+15</td>\n",
       "      <td>144.120</td>\n",
       "      <td>...</td>\n",
       "      <td>0.92739</td>\n",
       "      <td>-13.6410</td>\n",
       "      <td>1.5298</td>\n",
       "      <td>1.14640</td>\n",
       "      <td>-0.43124</td>\n",
       "      <td>3856.50</td>\n",
       "      <td>1.4830</td>\n",
       "      <td>-8.991300e+12</td>\n",
       "      <td>3959.204669</td>\n",
       "      <td>0.23049</td>\n",
       "    </tr>\n",
       "  </tbody>\n",
       "</table>\n",
       "<p>5 rows × 118 columns</p>\n",
       "</div>"
      ],
      "text/plain": [
       "        f1        f2         f3        f4       f5        f6       f7  \\\n",
       "0  0.10859  0.004314    -37.566  0.017364  0.28915 -10.25100   135.12   \n",
       "1  0.10090  0.299610  11822.000  0.276500  0.45970  -0.83733  1721.90   \n",
       "2  0.17803 -0.006980    907.270  0.272140  0.45948   0.17327  2298.00   \n",
       "3  0.15236  0.007259    780.100  0.025179  0.51947   7.49140   112.51   \n",
       "4  0.11623  0.502900   -109.150  0.297910  0.34490  -0.40932  2538.90   \n",
       "\n",
       "         f8            f9        f10  ...     f109     f110    f111     f112  \\\n",
       "0  168900.0  3.992400e+14     86.489  ...  0.11093 -12.2280  1.7482  1.90960   \n",
       "1  119810.0  3.874100e+15   9953.600  ...  0.97673 -56.7580  4.1684  0.34808   \n",
       "2  360650.0  1.224500e+13  15827.000  ...  0.20102  -5.7688  1.2042  0.26290   \n",
       "3  259490.0  7.781400e+13    -36.837  ... -0.01182 -34.8580  2.0694  0.79631   \n",
       "4   65332.0  1.907200e+15    144.120  ...  0.92739 -13.6410  1.5298  1.14640   \n",
       "\n",
       "       f113      f114    f115          f116         f117     f118  \n",
       "0  -7.11570   4378.80  1.2096  8.613400e+14   140.100000  1.01770  \n",
       "1   4.14200    913.23  1.2464  7.575100e+15  1861.000000  0.28359  \n",
       "2   8.13120  45119.00  1.1764  3.218100e+14  3838.200000  0.40690  \n",
       "3 -16.33600   4952.40  1.1784  4.533000e+12  4889.100000  0.51486  \n",
       "4  -0.43124   3856.50  1.4830 -8.991300e+12  3959.204669  0.23049  \n",
       "\n",
       "[5 rows x 118 columns]"
      ]
     },
     "execution_count": 16,
     "metadata": {},
     "output_type": "execute_result"
    }
   ],
   "source": [
    "impured_train_X.head()"
   ]
  },
  {
   "cell_type": "code",
   "execution_count": 17,
   "id": "365291f7-0179-4f69-94b3-378899badb40",
   "metadata": {},
   "outputs": [],
   "source": [
    "train_X, valid_X, train_y, valid_y = train_test_split(impured_train_X, impured_train_y, test_size=0.33)"
   ]
  },
  {
   "cell_type": "code",
   "execution_count": 18,
   "id": "72be4d69-0ab2-47c3-bf15-868f0f65f34f",
   "metadata": {},
   "outputs": [
    {
     "data": {
      "text/plain": [
       "(641805, 118)"
      ]
     },
     "execution_count": 18,
     "metadata": {},
     "output_type": "execute_result"
    }
   ],
   "source": [
    "train_X.shape"
   ]
  },
  {
   "cell_type": "code",
   "execution_count": 19,
   "id": "46fd5c0f-3bb5-4162-acb4-e674b487f1fb",
   "metadata": {},
   "outputs": [
    {
     "data": {
      "text/html": [
       "<div>\n",
       "<style scoped>\n",
       "    .dataframe tbody tr th:only-of-type {\n",
       "        vertical-align: middle;\n",
       "    }\n",
       "\n",
       "    .dataframe tbody tr th {\n",
       "        vertical-align: top;\n",
       "    }\n",
       "\n",
       "    .dataframe thead th {\n",
       "        text-align: right;\n",
       "    }\n",
       "</style>\n",
       "<table border=\"1\" class=\"dataframe\">\n",
       "  <thead>\n",
       "    <tr style=\"text-align: right;\">\n",
       "      <th></th>\n",
       "      <th>f1</th>\n",
       "      <th>f2</th>\n",
       "      <th>f3</th>\n",
       "      <th>f4</th>\n",
       "      <th>f5</th>\n",
       "      <th>f6</th>\n",
       "      <th>f7</th>\n",
       "      <th>f8</th>\n",
       "      <th>f9</th>\n",
       "      <th>f10</th>\n",
       "      <th>...</th>\n",
       "      <th>f109</th>\n",
       "      <th>f110</th>\n",
       "      <th>f111</th>\n",
       "      <th>f112</th>\n",
       "      <th>f113</th>\n",
       "      <th>f114</th>\n",
       "      <th>f115</th>\n",
       "      <th>f116</th>\n",
       "      <th>f117</th>\n",
       "      <th>f118</th>\n",
       "    </tr>\n",
       "  </thead>\n",
       "  <tbody>\n",
       "    <tr>\n",
       "      <th>952720</th>\n",
       "      <td>0.099510</td>\n",
       "      <td>0.35222</td>\n",
       "      <td>-83.961</td>\n",
       "      <td>0.184240</td>\n",
       "      <td>0.228770</td>\n",
       "      <td>-1.71520</td>\n",
       "      <td>2104.800</td>\n",
       "      <td>17045.0</td>\n",
       "      <td>4.453700e+15</td>\n",
       "      <td>925.430</td>\n",
       "      <td>...</td>\n",
       "      <td>0.42962</td>\n",
       "      <td>-19.926398</td>\n",
       "      <td>4.00490</td>\n",
       "      <td>-1.3367</td>\n",
       "      <td>15.9560</td>\n",
       "      <td>56259.00</td>\n",
       "      <td>1.1868</td>\n",
       "      <td>4.276905e+16</td>\n",
       "      <td>4296.400000</td>\n",
       "      <td>0.18248</td>\n",
       "    </tr>\n",
       "    <tr>\n",
       "      <th>663490</th>\n",
       "      <td>0.066520</td>\n",
       "      <td>0.25686</td>\n",
       "      <td>5780.600</td>\n",
       "      <td>0.005926</td>\n",
       "      <td>-0.000764</td>\n",
       "      <td>1.39420</td>\n",
       "      <td>1848.600</td>\n",
       "      <td>72084.0</td>\n",
       "      <td>6.007100e+14</td>\n",
       "      <td>4952.300</td>\n",
       "      <td>...</td>\n",
       "      <td>0.27150</td>\n",
       "      <td>-62.015000</td>\n",
       "      <td>2.07453</td>\n",
       "      <td>0.2325</td>\n",
       "      <td>-3.3878</td>\n",
       "      <td>81037.00</td>\n",
       "      <td>1.1375</td>\n",
       "      <td>4.345100e+15</td>\n",
       "      <td>5660.800000</td>\n",
       "      <td>0.82403</td>\n",
       "    </tr>\n",
       "    <tr>\n",
       "      <th>105947</th>\n",
       "      <td>0.080324</td>\n",
       "      <td>0.46275</td>\n",
       "      <td>1583.100</td>\n",
       "      <td>0.220060</td>\n",
       "      <td>0.256410</td>\n",
       "      <td>1.63830</td>\n",
       "      <td>80.008</td>\n",
       "      <td>116310.0</td>\n",
       "      <td>8.304600e+15</td>\n",
       "      <td>293.180</td>\n",
       "      <td>...</td>\n",
       "      <td>0.80136</td>\n",
       "      <td>-25.375000</td>\n",
       "      <td>1.46590</td>\n",
       "      <td>8.2292</td>\n",
       "      <td>5.8778</td>\n",
       "      <td>10523.00</td>\n",
       "      <td>1.1715</td>\n",
       "      <td>3.763700e+16</td>\n",
       "      <td>2457.300000</td>\n",
       "      <td>0.19560</td>\n",
       "    </tr>\n",
       "    <tr>\n",
       "      <th>627427</th>\n",
       "      <td>0.142540</td>\n",
       "      <td>0.29078</td>\n",
       "      <td>4665.300</td>\n",
       "      <td>0.358810</td>\n",
       "      <td>0.304869</td>\n",
       "      <td>-1.40510</td>\n",
       "      <td>584.930</td>\n",
       "      <td>796670.0</td>\n",
       "      <td>6.189400e+15</td>\n",
       "      <td>97.834</td>\n",
       "      <td>...</td>\n",
       "      <td>0.11802</td>\n",
       "      <td>-24.976000</td>\n",
       "      <td>2.31950</td>\n",
       "      <td>2.7838</td>\n",
       "      <td>-3.5508</td>\n",
       "      <td>322.56</td>\n",
       "      <td>1.1812</td>\n",
       "      <td>-2.133100e+14</td>\n",
       "      <td>3959.204669</td>\n",
       "      <td>0.24272</td>\n",
       "    </tr>\n",
       "    <tr>\n",
       "      <th>413352</th>\n",
       "      <td>0.090645</td>\n",
       "      <td>0.28649</td>\n",
       "      <td>313.520</td>\n",
       "      <td>0.372750</td>\n",
       "      <td>-0.000543</td>\n",
       "      <td>-0.67566</td>\n",
       "      <td>184.080</td>\n",
       "      <td>243370.0</td>\n",
       "      <td>1.889500e+15</td>\n",
       "      <td>586.380</td>\n",
       "      <td>...</td>\n",
       "      <td>0.45009</td>\n",
       "      <td>-9.334900</td>\n",
       "      <td>1.64710</td>\n",
       "      <td>-1.5790</td>\n",
       "      <td>29.8380</td>\n",
       "      <td>168890.00</td>\n",
       "      <td>1.0343</td>\n",
       "      <td>2.007400e+16</td>\n",
       "      <td>1454.500000</td>\n",
       "      <td>0.63143</td>\n",
       "    </tr>\n",
       "  </tbody>\n",
       "</table>\n",
       "<p>5 rows × 118 columns</p>\n",
       "</div>"
      ],
      "text/plain": [
       "              f1       f2        f3        f4        f5       f6        f7  \\\n",
       "952720  0.099510  0.35222   -83.961  0.184240  0.228770 -1.71520  2104.800   \n",
       "663490  0.066520  0.25686  5780.600  0.005926 -0.000764  1.39420  1848.600   \n",
       "105947  0.080324  0.46275  1583.100  0.220060  0.256410  1.63830    80.008   \n",
       "627427  0.142540  0.29078  4665.300  0.358810  0.304869 -1.40510   584.930   \n",
       "413352  0.090645  0.28649   313.520  0.372750 -0.000543 -0.67566   184.080   \n",
       "\n",
       "              f8            f9       f10  ...     f109       f110     f111  \\\n",
       "952720   17045.0  4.453700e+15   925.430  ...  0.42962 -19.926398  4.00490   \n",
       "663490   72084.0  6.007100e+14  4952.300  ...  0.27150 -62.015000  2.07453   \n",
       "105947  116310.0  8.304600e+15   293.180  ...  0.80136 -25.375000  1.46590   \n",
       "627427  796670.0  6.189400e+15    97.834  ...  0.11802 -24.976000  2.31950   \n",
       "413352  243370.0  1.889500e+15   586.380  ...  0.45009  -9.334900  1.64710   \n",
       "\n",
       "          f112     f113       f114    f115          f116         f117     f118  \n",
       "952720 -1.3367  15.9560   56259.00  1.1868  4.276905e+16  4296.400000  0.18248  \n",
       "663490  0.2325  -3.3878   81037.00  1.1375  4.345100e+15  5660.800000  0.82403  \n",
       "105947  8.2292   5.8778   10523.00  1.1715  3.763700e+16  2457.300000  0.19560  \n",
       "627427  2.7838  -3.5508     322.56  1.1812 -2.133100e+14  3959.204669  0.24272  \n",
       "413352 -1.5790  29.8380  168890.00  1.0343  2.007400e+16  1454.500000  0.63143  \n",
       "\n",
       "[5 rows x 118 columns]"
      ]
     },
     "execution_count": 19,
     "metadata": {},
     "output_type": "execute_result"
    }
   ],
   "source": [
    "train_X.head()"
   ]
  },
  {
   "cell_type": "code",
   "execution_count": 20,
   "id": "be24c48a-0d7b-42c0-a791-79c0e3f5ddc7",
   "metadata": {},
   "outputs": [
    {
     "data": {
      "text/html": [
       "<div>\n",
       "<style scoped>\n",
       "    .dataframe tbody tr th:only-of-type {\n",
       "        vertical-align: middle;\n",
       "    }\n",
       "\n",
       "    .dataframe tbody tr th {\n",
       "        vertical-align: top;\n",
       "    }\n",
       "\n",
       "    .dataframe thead th {\n",
       "        text-align: right;\n",
       "    }\n",
       "</style>\n",
       "<table border=\"1\" class=\"dataframe\">\n",
       "  <thead>\n",
       "    <tr style=\"text-align: right;\">\n",
       "      <th></th>\n",
       "      <th>claim</th>\n",
       "    </tr>\n",
       "  </thead>\n",
       "  <tbody>\n",
       "    <tr>\n",
       "      <th>952720</th>\n",
       "      <td>0.0</td>\n",
       "    </tr>\n",
       "    <tr>\n",
       "      <th>663490</th>\n",
       "      <td>1.0</td>\n",
       "    </tr>\n",
       "    <tr>\n",
       "      <th>105947</th>\n",
       "      <td>1.0</td>\n",
       "    </tr>\n",
       "    <tr>\n",
       "      <th>627427</th>\n",
       "      <td>1.0</td>\n",
       "    </tr>\n",
       "    <tr>\n",
       "      <th>413352</th>\n",
       "      <td>0.0</td>\n",
       "    </tr>\n",
       "  </tbody>\n",
       "</table>\n",
       "</div>"
      ],
      "text/plain": [
       "        claim\n",
       "952720    0.0\n",
       "663490    1.0\n",
       "105947    1.0\n",
       "627427    1.0\n",
       "413352    0.0"
      ]
     },
     "execution_count": 20,
     "metadata": {},
     "output_type": "execute_result"
    }
   ],
   "source": [
    "train_y.head()"
   ]
  },
  {
   "cell_type": "code",
   "execution_count": 21,
   "id": "6ef3db8b-7b50-47d2-8584-f00a3890c49a",
   "metadata": {},
   "outputs": [
    {
     "data": {
      "text/plain": [
       "(641805, 1)"
      ]
     },
     "execution_count": 21,
     "metadata": {},
     "output_type": "execute_result"
    }
   ],
   "source": [
    "train_y.shape"
   ]
  },
  {
   "cell_type": "code",
   "execution_count": 183,
   "id": "863ba2b0-d9b9-473a-8714-602db1f01c37",
   "metadata": {},
   "outputs": [],
   "source": [
    "class MyRandomForestClassifier:\n",
    "    def __init__(self, n_estimators=100, criterion='gini',\n",
    "                 max_depth=None, min_samples_split=2,\n",
    "                 min_samples_leaf=1, min_weight_fraction_leaf=0.0,\n",
    "                 max_features='auto', max_leaf_nodes=None, min_impurity_decrease=0.0,\n",
    "                 min_impurity_split=None, bootstrap=True, random_state=None, max_samples=None):\n",
    "        self.n_estimators = n_estimators\n",
    "        self.criterion = criterion\n",
    "        self.max_depth = max_depth\n",
    "        self.min_samples_split = min_samples_split\n",
    "        self.min_samples_leaf = min_samples_leaf\n",
    "        self.min_weight_fraction_leaf = min_weight_fraction_leaf\n",
    "        self.max_features = max_features\n",
    "        self.max_leaf_nodes = max_leaf_nodes\n",
    "        self.min_impurity_decrease = min_impurity_decrease\n",
    "        # self.min_impurity_split = min_impurity_split\n",
    "        self.bootstrap = bootstrap\n",
    "        self.random_state = random_state\n",
    "        self.max_samples = max_samples\n",
    "\n",
    "        self.estimators = []\n",
    "        for i in range(self.n_estimators):\n",
    "            self.estimators.append(\n",
    "                DecisionTreeClassifier(criterion=self.criterion, max_depth=self.max_depth,\n",
    "                                       min_samples_split=self.min_samples_split, min_samples_leaf=self.min_samples_leaf,\n",
    "                                       min_weight_fraction_leaf=self.min_weight_fraction_leaf,\n",
    "                                       max_features=self.max_features,\n",
    "                                       max_leaf_nodes=self.max_leaf_nodes,\n",
    "                                       min_impurity_decrease=self.min_impurity_decrease,\n",
    "                                       random_state=self.random_state))\n",
    "\n",
    "    def fit(self, x, y):\n",
    "        samples_count = x.shape[0]\n",
    "        if self.max_samples is not None:\n",
    "            samples_count = self.max_samples\n",
    "\n",
    "        bootstrapped_x = pd.DataFrame()\n",
    "        bootstrapped_y = pd.DataFrame()\n",
    "\n",
    "        bootstrapped_rows = np.random.choice(x.shape[0], samples_count, replace=self.bootstrap)\n",
    "        bootstrapped_x = x.iloc[bootstrapped_rows]\n",
    "        bootstrapped_y = y.iloc[bootstrapped_rows]\n",
    "\n",
    "        for clf in self.estimators:\n",
    "            clf.fit(bootstrapped_x, bootstrapped_y)\n",
    "\n",
    "    def predict(self, x):\n",
    "        ones = [0 for i in range(x.shape[0])]\n",
    "\n",
    "        for i, clf in enumerate(self.estimators):\n",
    "            predictions = list(clf.predict(x))\n",
    "            for val in predictions:\n",
    "                if val == 1:\n",
    "                    ones[i] += 1\n",
    "\n",
    "        return pd.Series(ones)\n",
    "\n",
    "    def predict_proba(self, x):\n",
    "        ones = [0 for i in range(x.shape[0])]\n",
    "\n",
    "        for i, clf in enumerate(self.estimators):\n",
    "            predictions = list(clf.predict(x))\n",
    "            for val in predictions:\n",
    "                if val == 1:\n",
    "                    ones[i] += 1\n",
    "\n",
    "        ones_probabilities = [p / x.shape[0] for p in ones]\n",
    "        zeroes_probabilities = [1 - p for p in ones_probabilities]\n",
    "        probabilities = np.array([zeroes_probabilities, ones_probabilities])\n",
    "        return probabilities.transpose()"
   ]
  },
  {
   "cell_type": "code",
   "execution_count": 184,
   "id": "17ac6db9-7344-408a-911a-94e0801d1804",
   "metadata": {
    "tags": []
   },
   "outputs": [],
   "source": [
    "my_clf = MyRandomForestClassifier(n_estimators=10, bootstrap=True, max_samples=1000)"
   ]
  },
  {
   "cell_type": "code",
   "execution_count": 185,
   "id": "cbf3b4ea-5f3a-444a-9c10-c9fee2be51f6",
   "metadata": {},
   "outputs": [],
   "source": [
    "my_clf.fit(train_X, train_y)"
   ]
  },
  {
   "cell_type": "code",
   "execution_count": 89,
   "id": "1f91f023-99c7-422f-90f1-2bcab0778398",
   "metadata": {},
   "outputs": [],
   "source": [
    "y_pred = my_clf.predict(valid_X)"
   ]
  },
  {
   "cell_type": "code",
   "execution_count": 90,
   "id": "74e03eb1-e82c-48fc-b227-002eee086160",
   "metadata": {},
   "outputs": [
    {
     "data": {
      "text/plain": [
       "0.5009395344717412"
      ]
     },
     "execution_count": 90,
     "metadata": {},
     "output_type": "execute_result"
    }
   ],
   "source": [
    "accuracy_score(valid_y, y_pred)"
   ]
  },
  {
   "cell_type": "code",
   "execution_count": 189,
   "id": "976f2349-b2d4-4830-b01a-d9cf0ecae5d2",
   "metadata": {},
   "outputs": [],
   "source": [
    "y_pred = my_clf.predict_proba(valid_X)"
   ]
  },
  {
   "cell_type": "code",
   "execution_count": 190,
   "id": "f784012e-27fb-4e4b-bb47-5688c45c219b",
   "metadata": {},
   "outputs": [
    {
     "data": {
      "text/plain": [
       "array([[0.47268391, 0.52731609],\n",
       "       [0.50104709, 0.49895291],\n",
       "       [0.49413503, 0.50586497],\n",
       "       ...,\n",
       "       [1.        , 0.        ],\n",
       "       [1.        , 0.        ],\n",
       "       [1.        , 0.        ]])"
      ]
     },
     "execution_count": 190,
     "metadata": {},
     "output_type": "execute_result"
    }
   ],
   "source": [
    "y_pred"
   ]
  },
  {
   "cell_type": "code",
   "execution_count": 191,
   "id": "e7407d07-952c-4ad7-a345-b3a5d3129f0f",
   "metadata": {},
   "outputs": [
    {
     "data": {
      "text/plain": [
       "0.5000127136518436"
      ]
     },
     "execution_count": 191,
     "metadata": {},
     "output_type": "execute_result"
    }
   ],
   "source": [
    "roc_auc_score(valid_y, y_pred[:, 1])"
   ]
  },
  {
   "cell_type": "code",
   "execution_count": 94,
   "id": "5cbd9c14-fb6f-4b34-946a-777e5cf80ac6",
   "metadata": {},
   "outputs": [],
   "source": [
    "rfc_sklearn = RandomForestClassifier(n_estimators=10, criterion='gini', \n",
    "                                     max_depth=None, min_samples_split=2, \n",
    "                                     min_samples_leaf=1, min_weight_fraction_leaf=0.0, \n",
    "                                     max_features='auto', max_leaf_nodes=None, \n",
    "                                     min_impurity_decrease=0.0, min_impurity_split=None,\n",
    "                                     bootstrap=True, random_state=None, max_samples=None, verbose=2)"
   ]
  },
  {
   "cell_type": "code",
   "execution_count": 95,
   "id": "aec4cbba-419f-428a-b238-ae6077b47022",
   "metadata": {
    "tags": []
   },
   "outputs": [
    {
     "name": "stderr",
     "output_type": "stream",
     "text": [
      "[Parallel(n_jobs=1)]: Using backend SequentialBackend with 1 concurrent workers.\n"
     ]
    },
    {
     "name": "stdout",
     "output_type": "stream",
     "text": [
      "building tree 1 of 10\n"
     ]
    },
    {
     "name": "stderr",
     "output_type": "stream",
     "text": [
      "[Parallel(n_jobs=1)]: Done   1 out of   1 | elapsed:   13.4s remaining:    0.0s\n"
     ]
    },
    {
     "name": "stdout",
     "output_type": "stream",
     "text": [
      "building tree 2 of 10\n",
      "building tree 3 of 10\n",
      "building tree 4 of 10\n",
      "building tree 5 of 10\n",
      "building tree 6 of 10\n",
      "building tree 7 of 10\n",
      "building tree 8 of 10\n",
      "building tree 9 of 10\n",
      "building tree 10 of 10\n"
     ]
    },
    {
     "name": "stderr",
     "output_type": "stream",
     "text": [
      "[Parallel(n_jobs=1)]: Done  10 out of  10 | elapsed:  2.2min finished\n"
     ]
    },
    {
     "data": {
      "text/plain": [
       "RandomForestClassifier(n_estimators=10, verbose=2)"
      ]
     },
     "execution_count": 95,
     "metadata": {},
     "output_type": "execute_result"
    }
   ],
   "source": [
    "rfc_sklearn.fit(train_X, np.ravel(train_y))"
   ]
  },
  {
   "cell_type": "code",
   "execution_count": 96,
   "id": "f7ee7b19-d9ad-4698-b425-abda843c1e43",
   "metadata": {},
   "outputs": [
    {
     "name": "stderr",
     "output_type": "stream",
     "text": [
      "[Parallel(n_jobs=1)]: Using backend SequentialBackend with 1 concurrent workers.\n",
      "[Parallel(n_jobs=1)]: Done   1 out of   1 | elapsed:    0.4s remaining:    0.0s\n",
      "[Parallel(n_jobs=1)]: Done  10 out of  10 | elapsed:    3.6s finished\n"
     ]
    }
   ],
   "source": [
    "y_pred = rfc_sklearn.predict(valid_X)"
   ]
  },
  {
   "cell_type": "code",
   "execution_count": 97,
   "id": "4f8ddbf2-7945-4258-a630-88cd47b6bbb7",
   "metadata": {},
   "outputs": [
    {
     "data": {
      "text/plain": [
       "0.5159467786937624"
      ]
     },
     "execution_count": 97,
     "metadata": {},
     "output_type": "execute_result"
    }
   ],
   "source": [
    "accuracy_score(valid_y, y_pred)"
   ]
  },
  {
   "cell_type": "code",
   "execution_count": 98,
   "id": "d9e11ff3-bff1-4182-87f7-b1188e7bcaeb",
   "metadata": {},
   "outputs": [
    {
     "name": "stderr",
     "output_type": "stream",
     "text": [
      "[Parallel(n_jobs=1)]: Using backend SequentialBackend with 1 concurrent workers.\n",
      "[Parallel(n_jobs=1)]: Done   1 out of   1 | elapsed:    0.2s remaining:    0.0s\n",
      "[Parallel(n_jobs=1)]: Done  10 out of  10 | elapsed:    2.2s finished\n"
     ]
    }
   ],
   "source": [
    "y_pred = rfc_sklearn.predict_proba(valid_X)"
   ]
  },
  {
   "cell_type": "code",
   "execution_count": 106,
   "id": "09dc1012-6f76-4105-a40f-fb78c6a8d403",
   "metadata": {},
   "outputs": [
    {
     "data": {
      "text/plain": [
       "0.5230826553899438"
      ]
     },
     "execution_count": 106,
     "metadata": {},
     "output_type": "execute_result"
    }
   ],
   "source": [
    "roc_auc_score(valid_y, y_pred[:, 1])"
   ]
  },
  {
   "cell_type": "code",
   "execution_count": 109,
   "id": "8b766b30-8764-4790-ae05-d76cfbabcf6d",
   "metadata": {},
   "outputs": [],
   "source": [
    "lightgbm_rfc = LGBMClassifier(n_estimators=100, criterion='gini', \n",
    "                              max_depth=None, min_samples_split=2, \n",
    "                              min_samples_leaf=1, min_weight_fraction_leaf=0.0, \n",
    "                              max_features='auto', max_leaf_nodes=None, \n",
    "                              min_impurity_decrease=0.0, min_impurity_split=None,\n",
    "                              bootstrap=True, random_state=None, max_samples=None, verbose=0)"
   ]
  },
  {
   "cell_type": "code",
   "execution_count": 110,
   "id": "c6c88cc6-72d7-4b19-80a6-99494e21cbd7",
   "metadata": {
    "tags": []
   },
   "outputs": [
    {
     "name": "stdout",
     "output_type": "stream",
     "text": [
      "[LightGBM] [Warning] Unknown parameter: max_features\n",
      "[LightGBM] [Warning] Unknown parameter: min_impurity_decrease\n",
      "[LightGBM] [Warning] Unknown parameter: min_weight_fraction_leaf\n",
      "[LightGBM] [Warning] Unknown parameter: min_samples_split\n",
      "[LightGBM] [Warning] Unknown parameter: bootstrap\n",
      "[LightGBM] [Warning] min_data_in_leaf is set with min_samples_leaf=1, min_child_samples=20 will be ignored. Current value: min_data_in_leaf=1\n",
      "[LightGBM] [Warning] Unknown parameter: criterion\n",
      "[LightGBM] [Warning] Unknown parameter: max_features\n",
      "[LightGBM] [Warning] Unknown parameter: min_impurity_decrease\n",
      "[LightGBM] [Warning] Unknown parameter: min_weight_fraction_leaf\n",
      "[LightGBM] [Warning] Unknown parameter: min_samples_split\n",
      "[LightGBM] [Warning] Unknown parameter: bootstrap\n",
      "[LightGBM] [Warning] min_data_in_leaf is set with min_samples_leaf=1, min_child_samples=20 will be ignored. Current value: min_data_in_leaf=1\n",
      "[LightGBM] [Warning] Unknown parameter: criterion\n",
      "[LightGBM] [Warning] Auto-choosing col-wise multi-threading, the overhead of testing was 0.479539 seconds.\n",
      "You can set `force_col_wise=true` to remove the overhead.\n"
     ]
    },
    {
     "data": {
      "text/plain": [
       "LGBMClassifier(bootstrap=True, criterion='gini', max_depth=None,\n",
       "               max_features='auto', max_leaf_nodes=None, max_samples=None,\n",
       "               min_impurity_decrease=0.0, min_impurity_split=None,\n",
       "               min_samples_leaf=1, min_samples_split=2,\n",
       "               min_weight_fraction_leaf=0.0, verbose=0)"
      ]
     },
     "execution_count": 110,
     "metadata": {},
     "output_type": "execute_result"
    }
   ],
   "source": [
    "lightgbm_rfc.fit(train_X, np.ravel(train_y))"
   ]
  },
  {
   "cell_type": "code",
   "execution_count": 111,
   "id": "c223e034-35f3-4d96-b023-b53f949fb939",
   "metadata": {
    "tags": []
   },
   "outputs": [],
   "source": [
    "y_pred = lightgbm_rfc.predict(valid_X)"
   ]
  },
  {
   "cell_type": "code",
   "execution_count": 112,
   "id": "aa870326-7d08-4f66-a8cd-044b7d4270db",
   "metadata": {},
   "outputs": [
    {
     "data": {
      "text/plain": [
       "0.700260032772987"
      ]
     },
     "execution_count": 112,
     "metadata": {},
     "output_type": "execute_result"
    }
   ],
   "source": [
    "accuracy_score(valid_y, y_pred)"
   ]
  },
  {
   "cell_type": "code",
   "execution_count": 113,
   "id": "830a0a83-8244-48a2-9e79-3ade4139a630",
   "metadata": {},
   "outputs": [],
   "source": [
    "y_pred = lightgbm_rfc.predict_proba(valid_X)"
   ]
  },
  {
   "cell_type": "code",
   "execution_count": 116,
   "id": "9a9adb54-4174-45e6-b864-63754500f99b",
   "metadata": {},
   "outputs": [
    {
     "data": {
      "text/plain": [
       "0.7626460481768772"
      ]
     },
     "execution_count": 116,
     "metadata": {},
     "output_type": "execute_result"
    }
   ],
   "source": [
    "roc_auc_score(valid_y, y_pred[:, 1])"
   ]
  },
  {
   "cell_type": "code",
   "execution_count": 33,
   "id": "469c89e6-4e6b-4d4f-9969-659e23eb12c3",
   "metadata": {},
   "outputs": [],
   "source": [
    "params = {\n",
    "    'n_estimators': range(1, 300),\n",
    "    'max_depth': range(1, 10),\n",
    "    'min_samples_split': range(2, 50),\n",
    "    'min_samples_leaf': range(1, 100),\n",
    "    'max_leaf_nodes': range(10, 200),\n",
    "    'max_samples': range(10, 10000)\n",
    "}"
   ]
  },
  {
   "cell_type": "code",
   "execution_count": 123,
   "id": "dc61066f-a62b-4ecb-bb4e-98aa86c9f1f7",
   "metadata": {},
   "outputs": [],
   "source": [
    "clf = RandomizedSearchCV(lightgbm_rfc, params, cv=5, verbose=2)"
   ]
  },
  {
   "cell_type": "code",
   "execution_count": 122,
   "id": "ca32a3d9-e7b0-4297-9e31-378522e1d85d",
   "metadata": {
    "tags": []
   },
   "outputs": [
    {
     "name": "stdout",
     "output_type": "stream",
     "text": [
      "Fitting 5 folds for each of 10 candidates, totalling 50 fits\n",
      "[LightGBM] [Warning] Unknown parameter: min_impurity_decrease\n",
      "[LightGBM] [Warning] Unknown parameter: min_weight_fraction_leaf\n",
      "[LightGBM] [Warning] Unknown parameter: min_samples_split\n",
      "[LightGBM] [Warning] Unknown parameter: max_features\n",
      "[LightGBM] [Warning] Unknown parameter: max_samples\n",
      "[LightGBM] [Warning] Unknown parameter: bootstrap\n",
      "[LightGBM] [Warning] min_data_in_leaf is set with min_samples_leaf=10, min_child_samples=20 will be ignored. Current value: min_data_in_leaf=10\n",
      "[LightGBM] [Warning] Unknown parameter: criterion\n",
      "[LightGBM] [Warning] num_leaves is set=31, max_leaf_nodes=140 will be ignored. Current value: num_leaves=31\n",
      "[LightGBM] [Warning] Unknown parameter: min_impurity_decrease\n",
      "[LightGBM] [Warning] Unknown parameter: min_weight_fraction_leaf\n",
      "[LightGBM] [Warning] Unknown parameter: min_samples_split\n",
      "[LightGBM] [Warning] Unknown parameter: max_features\n",
      "[LightGBM] [Warning] Unknown parameter: max_samples\n",
      "[LightGBM] [Warning] Unknown parameter: bootstrap\n",
      "[LightGBM] [Warning] min_data_in_leaf is set with min_samples_leaf=10, min_child_samples=20 will be ignored. Current value: min_data_in_leaf=10\n",
      "[LightGBM] [Warning] Unknown parameter: criterion\n",
      "[LightGBM] [Warning] num_leaves is set=31, max_leaf_nodes=140 will be ignored. Current value: num_leaves=31\n",
      "[LightGBM] [Warning] Auto-choosing col-wise multi-threading, the overhead of testing was 0.407853 seconds.\n",
      "You can set `force_col_wise=true` to remove the overhead.\n"
     ]
    },
    {
     "name": "stderr",
     "output_type": "stream",
     "text": [
      "/Users/fliahin/opt/anaconda3/lib/python3.8/site-packages/sklearn/utils/validation.py:70: FutureWarning: Pass average=[0. 1. 1. ... 0. 0. 0.] as keyword args. From version 1.0 (renaming of 0.25) passing these as positional arguments will result in an error\n",
      "  warnings.warn(f\"Pass {args_msg} as keyword args. From version \"\n",
      "/Users/fliahin/opt/anaconda3/lib/python3.8/site-packages/sklearn/model_selection/_validation.py:683: UserWarning: Scoring failed. The score on this train-test partition for these parameters will be set to nan. Details: \n",
      "Traceback (most recent call last):\n",
      "  File \"/Users/fliahin/opt/anaconda3/lib/python3.8/site-packages/sklearn/model_selection/_validation.py\", line 674, in _score\n",
      "    scores = scorer(estimator, X_test, y_test)\n",
      "  File \"/Users/fliahin/opt/anaconda3/lib/python3.8/site-packages/sklearn/utils/validation.py\", line 74, in inner_f\n",
      "    return f(**kwargs)\n",
      "  File \"/Users/fliahin/opt/anaconda3/lib/python3.8/site-packages/sklearn/metrics/_ranking.py\", line 522, in roc_auc_score\n",
      "    y_type = type_of_target(y_true)\n",
      "  File \"/Users/fliahin/opt/anaconda3/lib/python3.8/site-packages/sklearn/utils/multiclass.py\", line 254, in type_of_target\n",
      "    raise ValueError('Expected array-like (array or non-string sequence), '\n",
      "ValueError: Expected array-like (array or non-string sequence), got LGBMClassifier(bootstrap=True, criterion='gini', max_depth=3,\n",
      "               max_features='auto', max_leaf_nodes=140, max_samples=3694,\n",
      "               min_impurity_decrease=0.0, min_impurity_split=None,\n",
      "               min_samples_leaf=10, min_samples_split=20,\n",
      "               min_weight_fraction_leaf=0.0, n_estimators=261, verbose=0)\n",
      "\n",
      "  warnings.warn(\n"
     ]
    },
    {
     "name": "stdout",
     "output_type": "stream",
     "text": [
      "[CV] END max_depth=3, max_leaf_nodes=140, max_samples=3694, min_samples_leaf=10, min_samples_split=20, n_estimators=261; total time=  29.0s\n",
      "[LightGBM] [Warning] Unknown parameter: min_impurity_decrease\n",
      "[LightGBM] [Warning] Unknown parameter: min_weight_fraction_leaf\n",
      "[LightGBM] [Warning] Unknown parameter: min_samples_split\n",
      "[LightGBM] [Warning] Unknown parameter: max_features\n",
      "[LightGBM] [Warning] Unknown parameter: max_samples\n",
      "[LightGBM] [Warning] Unknown parameter: bootstrap\n",
      "[LightGBM] [Warning] min_data_in_leaf is set with min_samples_leaf=10, min_child_samples=20 will be ignored. Current value: min_data_in_leaf=10\n",
      "[LightGBM] [Warning] Unknown parameter: criterion\n",
      "[LightGBM] [Warning] num_leaves is set=31, max_leaf_nodes=140 will be ignored. Current value: num_leaves=31\n",
      "[LightGBM] [Warning] Unknown parameter: min_impurity_decrease\n",
      "[LightGBM] [Warning] Unknown parameter: min_weight_fraction_leaf\n",
      "[LightGBM] [Warning] Unknown parameter: min_samples_split\n",
      "[LightGBM] [Warning] Unknown parameter: max_features\n",
      "[LightGBM] [Warning] Unknown parameter: max_samples\n",
      "[LightGBM] [Warning] Unknown parameter: bootstrap\n",
      "[LightGBM] [Warning] min_data_in_leaf is set with min_samples_leaf=10, min_child_samples=20 will be ignored. Current value: min_data_in_leaf=10\n",
      "[LightGBM] [Warning] Unknown parameter: criterion\n",
      "[LightGBM] [Warning] num_leaves is set=31, max_leaf_nodes=140 will be ignored. Current value: num_leaves=31\n",
      "[LightGBM] [Warning] Auto-choosing col-wise multi-threading, the overhead of testing was 0.394727 seconds.\n",
      "You can set `force_col_wise=true` to remove the overhead.\n"
     ]
    },
    {
     "name": "stderr",
     "output_type": "stream",
     "text": [
      "/Users/fliahin/opt/anaconda3/lib/python3.8/site-packages/sklearn/utils/validation.py:70: FutureWarning: Pass average=[1. 1. 1. ... 0. 0. 0.] as keyword args. From version 1.0 (renaming of 0.25) passing these as positional arguments will result in an error\n",
      "  warnings.warn(f\"Pass {args_msg} as keyword args. From version \"\n",
      "/Users/fliahin/opt/anaconda3/lib/python3.8/site-packages/sklearn/model_selection/_validation.py:683: UserWarning: Scoring failed. The score on this train-test partition for these parameters will be set to nan. Details: \n",
      "Traceback (most recent call last):\n",
      "  File \"/Users/fliahin/opt/anaconda3/lib/python3.8/site-packages/sklearn/model_selection/_validation.py\", line 674, in _score\n",
      "    scores = scorer(estimator, X_test, y_test)\n",
      "  File \"/Users/fliahin/opt/anaconda3/lib/python3.8/site-packages/sklearn/utils/validation.py\", line 74, in inner_f\n",
      "    return f(**kwargs)\n",
      "  File \"/Users/fliahin/opt/anaconda3/lib/python3.8/site-packages/sklearn/metrics/_ranking.py\", line 522, in roc_auc_score\n",
      "    y_type = type_of_target(y_true)\n",
      "  File \"/Users/fliahin/opt/anaconda3/lib/python3.8/site-packages/sklearn/utils/multiclass.py\", line 254, in type_of_target\n",
      "    raise ValueError('Expected array-like (array or non-string sequence), '\n",
      "ValueError: Expected array-like (array or non-string sequence), got LGBMClassifier(bootstrap=True, criterion='gini', max_depth=3,\n",
      "               max_features='auto', max_leaf_nodes=140, max_samples=3694,\n",
      "               min_impurity_decrease=0.0, min_impurity_split=None,\n",
      "               min_samples_leaf=10, min_samples_split=20,\n",
      "               min_weight_fraction_leaf=0.0, n_estimators=261, verbose=0)\n",
      "\n",
      "  warnings.warn(\n"
     ]
    },
    {
     "name": "stdout",
     "output_type": "stream",
     "text": [
      "[CV] END max_depth=3, max_leaf_nodes=140, max_samples=3694, min_samples_leaf=10, min_samples_split=20, n_estimators=261; total time=  25.1s\n",
      "[LightGBM] [Warning] Unknown parameter: min_impurity_decrease\n",
      "[LightGBM] [Warning] Unknown parameter: min_weight_fraction_leaf\n",
      "[LightGBM] [Warning] Unknown parameter: min_samples_split\n",
      "[LightGBM] [Warning] Unknown parameter: max_features\n",
      "[LightGBM] [Warning] Unknown parameter: max_samples\n",
      "[LightGBM] [Warning] Unknown parameter: bootstrap\n",
      "[LightGBM] [Warning] min_data_in_leaf is set with min_samples_leaf=10, min_child_samples=20 will be ignored. Current value: min_data_in_leaf=10\n",
      "[LightGBM] [Warning] Unknown parameter: criterion\n",
      "[LightGBM] [Warning] num_leaves is set=31, max_leaf_nodes=140 will be ignored. Current value: num_leaves=31\n",
      "[LightGBM] [Warning] Unknown parameter: min_impurity_decrease\n",
      "[LightGBM] [Warning] Unknown parameter: min_weight_fraction_leaf\n",
      "[LightGBM] [Warning] Unknown parameter: min_samples_split\n",
      "[LightGBM] [Warning] Unknown parameter: max_features\n",
      "[LightGBM] [Warning] Unknown parameter: max_samples\n",
      "[LightGBM] [Warning] Unknown parameter: bootstrap\n",
      "[LightGBM] [Warning] min_data_in_leaf is set with min_samples_leaf=10, min_child_samples=20 will be ignored. Current value: min_data_in_leaf=10\n",
      "[LightGBM] [Warning] Unknown parameter: criterion\n",
      "[LightGBM] [Warning] num_leaves is set=31, max_leaf_nodes=140 will be ignored. Current value: num_leaves=31\n",
      "[LightGBM] [Warning] Auto-choosing col-wise multi-threading, the overhead of testing was 0.430573 seconds.\n",
      "You can set `force_col_wise=true` to remove the overhead.\n"
     ]
    },
    {
     "name": "stderr",
     "output_type": "stream",
     "text": [
      "/Users/fliahin/opt/anaconda3/lib/python3.8/site-packages/sklearn/utils/validation.py:70: FutureWarning: Pass average=[1. 1. 1. ... 0. 0. 0.] as keyword args. From version 1.0 (renaming of 0.25) passing these as positional arguments will result in an error\n",
      "  warnings.warn(f\"Pass {args_msg} as keyword args. From version \"\n",
      "/Users/fliahin/opt/anaconda3/lib/python3.8/site-packages/sklearn/model_selection/_validation.py:683: UserWarning: Scoring failed. The score on this train-test partition for these parameters will be set to nan. Details: \n",
      "Traceback (most recent call last):\n",
      "  File \"/Users/fliahin/opt/anaconda3/lib/python3.8/site-packages/sklearn/model_selection/_validation.py\", line 674, in _score\n",
      "    scores = scorer(estimator, X_test, y_test)\n",
      "  File \"/Users/fliahin/opt/anaconda3/lib/python3.8/site-packages/sklearn/utils/validation.py\", line 74, in inner_f\n",
      "    return f(**kwargs)\n",
      "  File \"/Users/fliahin/opt/anaconda3/lib/python3.8/site-packages/sklearn/metrics/_ranking.py\", line 522, in roc_auc_score\n",
      "    y_type = type_of_target(y_true)\n",
      "  File \"/Users/fliahin/opt/anaconda3/lib/python3.8/site-packages/sklearn/utils/multiclass.py\", line 254, in type_of_target\n",
      "    raise ValueError('Expected array-like (array or non-string sequence), '\n",
      "ValueError: Expected array-like (array or non-string sequence), got LGBMClassifier(bootstrap=True, criterion='gini', max_depth=3,\n",
      "               max_features='auto', max_leaf_nodes=140, max_samples=3694,\n",
      "               min_impurity_decrease=0.0, min_impurity_split=None,\n",
      "               min_samples_leaf=10, min_samples_split=20,\n",
      "               min_weight_fraction_leaf=0.0, n_estimators=261, verbose=0)\n",
      "\n",
      "  warnings.warn(\n"
     ]
    },
    {
     "name": "stdout",
     "output_type": "stream",
     "text": [
      "[CV] END max_depth=3, max_leaf_nodes=140, max_samples=3694, min_samples_leaf=10, min_samples_split=20, n_estimators=261; total time=  25.7s\n",
      "[LightGBM] [Warning] Unknown parameter: min_impurity_decrease\n",
      "[LightGBM] [Warning] Unknown parameter: min_weight_fraction_leaf\n",
      "[LightGBM] [Warning] Unknown parameter: min_samples_split\n",
      "[LightGBM] [Warning] Unknown parameter: max_features\n",
      "[LightGBM] [Warning] Unknown parameter: max_samples\n",
      "[LightGBM] [Warning] Unknown parameter: bootstrap\n",
      "[LightGBM] [Warning] min_data_in_leaf is set with min_samples_leaf=10, min_child_samples=20 will be ignored. Current value: min_data_in_leaf=10\n",
      "[LightGBM] [Warning] Unknown parameter: criterion\n",
      "[LightGBM] [Warning] num_leaves is set=31, max_leaf_nodes=140 will be ignored. Current value: num_leaves=31\n"
     ]
    },
    {
     "ename": "KeyboardInterrupt",
     "evalue": "",
     "output_type": "error",
     "traceback": [
      "\u001b[0;31m---------------------------------------------------------------------------\u001b[0m",
      "\u001b[0;31mKeyboardInterrupt\u001b[0m                         Traceback (most recent call last)",
      "\u001b[0;32m<ipython-input-122-7c8e7e3256c3>\u001b[0m in \u001b[0;36m<module>\u001b[0;34m\u001b[0m\n\u001b[0;32m----> 1\u001b[0;31m \u001b[0mclf\u001b[0m\u001b[0;34m.\u001b[0m\u001b[0mfit\u001b[0m\u001b[0;34m(\u001b[0m\u001b[0mtrain_X\u001b[0m\u001b[0;34m,\u001b[0m \u001b[0mnp\u001b[0m\u001b[0;34m.\u001b[0m\u001b[0mravel\u001b[0m\u001b[0;34m(\u001b[0m\u001b[0mtrain_y\u001b[0m\u001b[0;34m)\u001b[0m\u001b[0;34m)\u001b[0m\u001b[0;34m\u001b[0m\u001b[0;34m\u001b[0m\u001b[0m\n\u001b[0m",
      "\u001b[0;32m~/opt/anaconda3/lib/python3.8/site-packages/sklearn/utils/validation.py\u001b[0m in \u001b[0;36minner_f\u001b[0;34m(*args, **kwargs)\u001b[0m\n\u001b[1;32m     61\u001b[0m             \u001b[0mextra_args\u001b[0m \u001b[0;34m=\u001b[0m \u001b[0mlen\u001b[0m\u001b[0;34m(\u001b[0m\u001b[0margs\u001b[0m\u001b[0;34m)\u001b[0m \u001b[0;34m-\u001b[0m \u001b[0mlen\u001b[0m\u001b[0;34m(\u001b[0m\u001b[0mall_args\u001b[0m\u001b[0;34m)\u001b[0m\u001b[0;34m\u001b[0m\u001b[0;34m\u001b[0m\u001b[0m\n\u001b[1;32m     62\u001b[0m             \u001b[0;32mif\u001b[0m \u001b[0mextra_args\u001b[0m \u001b[0;34m<=\u001b[0m \u001b[0;36m0\u001b[0m\u001b[0;34m:\u001b[0m\u001b[0;34m\u001b[0m\u001b[0;34m\u001b[0m\u001b[0m\n\u001b[0;32m---> 63\u001b[0;31m                 \u001b[0;32mreturn\u001b[0m \u001b[0mf\u001b[0m\u001b[0;34m(\u001b[0m\u001b[0;34m*\u001b[0m\u001b[0margs\u001b[0m\u001b[0;34m,\u001b[0m \u001b[0;34m**\u001b[0m\u001b[0mkwargs\u001b[0m\u001b[0;34m)\u001b[0m\u001b[0;34m\u001b[0m\u001b[0;34m\u001b[0m\u001b[0m\n\u001b[0m\u001b[1;32m     64\u001b[0m \u001b[0;34m\u001b[0m\u001b[0m\n\u001b[1;32m     65\u001b[0m             \u001b[0;31m# extra_args > 0\u001b[0m\u001b[0;34m\u001b[0m\u001b[0;34m\u001b[0m\u001b[0;34m\u001b[0m\u001b[0m\n",
      "\u001b[0;32m~/opt/anaconda3/lib/python3.8/site-packages/sklearn/model_selection/_search.py\u001b[0m in \u001b[0;36mfit\u001b[0;34m(self, X, y, groups, **fit_params)\u001b[0m\n\u001b[1;32m    839\u001b[0m                 \u001b[0;32mreturn\u001b[0m \u001b[0mresults\u001b[0m\u001b[0;34m\u001b[0m\u001b[0;34m\u001b[0m\u001b[0m\n\u001b[1;32m    840\u001b[0m \u001b[0;34m\u001b[0m\u001b[0m\n\u001b[0;32m--> 841\u001b[0;31m             \u001b[0mself\u001b[0m\u001b[0;34m.\u001b[0m\u001b[0m_run_search\u001b[0m\u001b[0;34m(\u001b[0m\u001b[0mevaluate_candidates\u001b[0m\u001b[0;34m)\u001b[0m\u001b[0;34m\u001b[0m\u001b[0;34m\u001b[0m\u001b[0m\n\u001b[0m\u001b[1;32m    842\u001b[0m \u001b[0;34m\u001b[0m\u001b[0m\n\u001b[1;32m    843\u001b[0m             \u001b[0;31m# multimetric is determined here because in the case of a callable\u001b[0m\u001b[0;34m\u001b[0m\u001b[0;34m\u001b[0m\u001b[0;34m\u001b[0m\u001b[0m\n",
      "\u001b[0;32m~/opt/anaconda3/lib/python3.8/site-packages/sklearn/model_selection/_search.py\u001b[0m in \u001b[0;36m_run_search\u001b[0;34m(self, evaluate_candidates)\u001b[0m\n\u001b[1;32m   1617\u001b[0m     \u001b[0;32mdef\u001b[0m \u001b[0m_run_search\u001b[0m\u001b[0;34m(\u001b[0m\u001b[0mself\u001b[0m\u001b[0;34m,\u001b[0m \u001b[0mevaluate_candidates\u001b[0m\u001b[0;34m)\u001b[0m\u001b[0;34m:\u001b[0m\u001b[0;34m\u001b[0m\u001b[0;34m\u001b[0m\u001b[0m\n\u001b[1;32m   1618\u001b[0m         \u001b[0;34m\"\"\"Search n_iter candidates from param_distributions\"\"\"\u001b[0m\u001b[0;34m\u001b[0m\u001b[0;34m\u001b[0m\u001b[0m\n\u001b[0;32m-> 1619\u001b[0;31m         evaluate_candidates(ParameterSampler(\n\u001b[0m\u001b[1;32m   1620\u001b[0m             \u001b[0mself\u001b[0m\u001b[0;34m.\u001b[0m\u001b[0mparam_distributions\u001b[0m\u001b[0;34m,\u001b[0m \u001b[0mself\u001b[0m\u001b[0;34m.\u001b[0m\u001b[0mn_iter\u001b[0m\u001b[0;34m,\u001b[0m\u001b[0;34m\u001b[0m\u001b[0;34m\u001b[0m\u001b[0m\n\u001b[1;32m   1621\u001b[0m             random_state=self.random_state))\n",
      "\u001b[0;32m~/opt/anaconda3/lib/python3.8/site-packages/sklearn/model_selection/_search.py\u001b[0m in \u001b[0;36mevaluate_candidates\u001b[0;34m(candidate_params, cv, more_results)\u001b[0m\n\u001b[1;32m    793\u001b[0m                               n_splits, n_candidates, n_candidates * n_splits))\n\u001b[1;32m    794\u001b[0m \u001b[0;34m\u001b[0m\u001b[0m\n\u001b[0;32m--> 795\u001b[0;31m                 out = parallel(delayed(_fit_and_score)(clone(base_estimator),\n\u001b[0m\u001b[1;32m    796\u001b[0m                                                        \u001b[0mX\u001b[0m\u001b[0;34m,\u001b[0m \u001b[0my\u001b[0m\u001b[0;34m,\u001b[0m\u001b[0;34m\u001b[0m\u001b[0;34m\u001b[0m\u001b[0m\n\u001b[1;32m    797\u001b[0m                                                        \u001b[0mtrain\u001b[0m\u001b[0;34m=\u001b[0m\u001b[0mtrain\u001b[0m\u001b[0;34m,\u001b[0m \u001b[0mtest\u001b[0m\u001b[0;34m=\u001b[0m\u001b[0mtest\u001b[0m\u001b[0;34m,\u001b[0m\u001b[0;34m\u001b[0m\u001b[0;34m\u001b[0m\u001b[0m\n",
      "\u001b[0;32m~/opt/anaconda3/lib/python3.8/site-packages/joblib/parallel.py\u001b[0m in \u001b[0;36m__call__\u001b[0;34m(self, iterable)\u001b[0m\n\u001b[1;32m   1042\u001b[0m                 \u001b[0mself\u001b[0m\u001b[0;34m.\u001b[0m\u001b[0m_iterating\u001b[0m \u001b[0;34m=\u001b[0m \u001b[0mself\u001b[0m\u001b[0;34m.\u001b[0m\u001b[0m_original_iterator\u001b[0m \u001b[0;32mis\u001b[0m \u001b[0;32mnot\u001b[0m \u001b[0;32mNone\u001b[0m\u001b[0;34m\u001b[0m\u001b[0;34m\u001b[0m\u001b[0m\n\u001b[1;32m   1043\u001b[0m \u001b[0;34m\u001b[0m\u001b[0m\n\u001b[0;32m-> 1044\u001b[0;31m             \u001b[0;32mwhile\u001b[0m \u001b[0mself\u001b[0m\u001b[0;34m.\u001b[0m\u001b[0mdispatch_one_batch\u001b[0m\u001b[0;34m(\u001b[0m\u001b[0miterator\u001b[0m\u001b[0;34m)\u001b[0m\u001b[0;34m:\u001b[0m\u001b[0;34m\u001b[0m\u001b[0;34m\u001b[0m\u001b[0m\n\u001b[0m\u001b[1;32m   1045\u001b[0m                 \u001b[0;32mpass\u001b[0m\u001b[0;34m\u001b[0m\u001b[0;34m\u001b[0m\u001b[0m\n\u001b[1;32m   1046\u001b[0m \u001b[0;34m\u001b[0m\u001b[0m\n",
      "\u001b[0;32m~/opt/anaconda3/lib/python3.8/site-packages/joblib/parallel.py\u001b[0m in \u001b[0;36mdispatch_one_batch\u001b[0;34m(self, iterator)\u001b[0m\n\u001b[1;32m    857\u001b[0m                 \u001b[0;32mreturn\u001b[0m \u001b[0;32mFalse\u001b[0m\u001b[0;34m\u001b[0m\u001b[0;34m\u001b[0m\u001b[0m\n\u001b[1;32m    858\u001b[0m             \u001b[0;32melse\u001b[0m\u001b[0;34m:\u001b[0m\u001b[0;34m\u001b[0m\u001b[0;34m\u001b[0m\u001b[0m\n\u001b[0;32m--> 859\u001b[0;31m                 \u001b[0mself\u001b[0m\u001b[0;34m.\u001b[0m\u001b[0m_dispatch\u001b[0m\u001b[0;34m(\u001b[0m\u001b[0mtasks\u001b[0m\u001b[0;34m)\u001b[0m\u001b[0;34m\u001b[0m\u001b[0;34m\u001b[0m\u001b[0m\n\u001b[0m\u001b[1;32m    860\u001b[0m                 \u001b[0;32mreturn\u001b[0m \u001b[0;32mTrue\u001b[0m\u001b[0;34m\u001b[0m\u001b[0;34m\u001b[0m\u001b[0m\n\u001b[1;32m    861\u001b[0m \u001b[0;34m\u001b[0m\u001b[0m\n",
      "\u001b[0;32m~/opt/anaconda3/lib/python3.8/site-packages/joblib/parallel.py\u001b[0m in \u001b[0;36m_dispatch\u001b[0;34m(self, batch)\u001b[0m\n\u001b[1;32m    775\u001b[0m         \u001b[0;32mwith\u001b[0m \u001b[0mself\u001b[0m\u001b[0;34m.\u001b[0m\u001b[0m_lock\u001b[0m\u001b[0;34m:\u001b[0m\u001b[0;34m\u001b[0m\u001b[0;34m\u001b[0m\u001b[0m\n\u001b[1;32m    776\u001b[0m             \u001b[0mjob_idx\u001b[0m \u001b[0;34m=\u001b[0m \u001b[0mlen\u001b[0m\u001b[0;34m(\u001b[0m\u001b[0mself\u001b[0m\u001b[0;34m.\u001b[0m\u001b[0m_jobs\u001b[0m\u001b[0;34m)\u001b[0m\u001b[0;34m\u001b[0m\u001b[0;34m\u001b[0m\u001b[0m\n\u001b[0;32m--> 777\u001b[0;31m             \u001b[0mjob\u001b[0m \u001b[0;34m=\u001b[0m \u001b[0mself\u001b[0m\u001b[0;34m.\u001b[0m\u001b[0m_backend\u001b[0m\u001b[0;34m.\u001b[0m\u001b[0mapply_async\u001b[0m\u001b[0;34m(\u001b[0m\u001b[0mbatch\u001b[0m\u001b[0;34m,\u001b[0m \u001b[0mcallback\u001b[0m\u001b[0;34m=\u001b[0m\u001b[0mcb\u001b[0m\u001b[0;34m)\u001b[0m\u001b[0;34m\u001b[0m\u001b[0;34m\u001b[0m\u001b[0m\n\u001b[0m\u001b[1;32m    778\u001b[0m             \u001b[0;31m# A job can complete so quickly than its callback is\u001b[0m\u001b[0;34m\u001b[0m\u001b[0;34m\u001b[0m\u001b[0;34m\u001b[0m\u001b[0m\n\u001b[1;32m    779\u001b[0m             \u001b[0;31m# called before we get here, causing self._jobs to\u001b[0m\u001b[0;34m\u001b[0m\u001b[0;34m\u001b[0m\u001b[0;34m\u001b[0m\u001b[0m\n",
      "\u001b[0;32m~/opt/anaconda3/lib/python3.8/site-packages/joblib/_parallel_backends.py\u001b[0m in \u001b[0;36mapply_async\u001b[0;34m(self, func, callback)\u001b[0m\n\u001b[1;32m    206\u001b[0m     \u001b[0;32mdef\u001b[0m \u001b[0mapply_async\u001b[0m\u001b[0;34m(\u001b[0m\u001b[0mself\u001b[0m\u001b[0;34m,\u001b[0m \u001b[0mfunc\u001b[0m\u001b[0;34m,\u001b[0m \u001b[0mcallback\u001b[0m\u001b[0;34m=\u001b[0m\u001b[0;32mNone\u001b[0m\u001b[0;34m)\u001b[0m\u001b[0;34m:\u001b[0m\u001b[0;34m\u001b[0m\u001b[0;34m\u001b[0m\u001b[0m\n\u001b[1;32m    207\u001b[0m         \u001b[0;34m\"\"\"Schedule a func to be run\"\"\"\u001b[0m\u001b[0;34m\u001b[0m\u001b[0;34m\u001b[0m\u001b[0m\n\u001b[0;32m--> 208\u001b[0;31m         \u001b[0mresult\u001b[0m \u001b[0;34m=\u001b[0m \u001b[0mImmediateResult\u001b[0m\u001b[0;34m(\u001b[0m\u001b[0mfunc\u001b[0m\u001b[0;34m)\u001b[0m\u001b[0;34m\u001b[0m\u001b[0;34m\u001b[0m\u001b[0m\n\u001b[0m\u001b[1;32m    209\u001b[0m         \u001b[0;32mif\u001b[0m \u001b[0mcallback\u001b[0m\u001b[0;34m:\u001b[0m\u001b[0;34m\u001b[0m\u001b[0;34m\u001b[0m\u001b[0m\n\u001b[1;32m    210\u001b[0m             \u001b[0mcallback\u001b[0m\u001b[0;34m(\u001b[0m\u001b[0mresult\u001b[0m\u001b[0;34m)\u001b[0m\u001b[0;34m\u001b[0m\u001b[0;34m\u001b[0m\u001b[0m\n",
      "\u001b[0;32m~/opt/anaconda3/lib/python3.8/site-packages/joblib/_parallel_backends.py\u001b[0m in \u001b[0;36m__init__\u001b[0;34m(self, batch)\u001b[0m\n\u001b[1;32m    570\u001b[0m         \u001b[0;31m# Don't delay the application, to avoid keeping the input\u001b[0m\u001b[0;34m\u001b[0m\u001b[0;34m\u001b[0m\u001b[0;34m\u001b[0m\u001b[0m\n\u001b[1;32m    571\u001b[0m         \u001b[0;31m# arguments in memory\u001b[0m\u001b[0;34m\u001b[0m\u001b[0;34m\u001b[0m\u001b[0;34m\u001b[0m\u001b[0m\n\u001b[0;32m--> 572\u001b[0;31m         \u001b[0mself\u001b[0m\u001b[0;34m.\u001b[0m\u001b[0mresults\u001b[0m \u001b[0;34m=\u001b[0m \u001b[0mbatch\u001b[0m\u001b[0;34m(\u001b[0m\u001b[0;34m)\u001b[0m\u001b[0;34m\u001b[0m\u001b[0;34m\u001b[0m\u001b[0m\n\u001b[0m\u001b[1;32m    573\u001b[0m \u001b[0;34m\u001b[0m\u001b[0m\n\u001b[1;32m    574\u001b[0m     \u001b[0;32mdef\u001b[0m \u001b[0mget\u001b[0m\u001b[0;34m(\u001b[0m\u001b[0mself\u001b[0m\u001b[0;34m)\u001b[0m\u001b[0;34m:\u001b[0m\u001b[0;34m\u001b[0m\u001b[0;34m\u001b[0m\u001b[0m\n",
      "\u001b[0;32m~/opt/anaconda3/lib/python3.8/site-packages/joblib/parallel.py\u001b[0m in \u001b[0;36m__call__\u001b[0;34m(self)\u001b[0m\n\u001b[1;32m    260\u001b[0m         \u001b[0;31m# change the default number of processes to -1\u001b[0m\u001b[0;34m\u001b[0m\u001b[0;34m\u001b[0m\u001b[0;34m\u001b[0m\u001b[0m\n\u001b[1;32m    261\u001b[0m         \u001b[0;32mwith\u001b[0m \u001b[0mparallel_backend\u001b[0m\u001b[0;34m(\u001b[0m\u001b[0mself\u001b[0m\u001b[0;34m.\u001b[0m\u001b[0m_backend\u001b[0m\u001b[0;34m,\u001b[0m \u001b[0mn_jobs\u001b[0m\u001b[0;34m=\u001b[0m\u001b[0mself\u001b[0m\u001b[0;34m.\u001b[0m\u001b[0m_n_jobs\u001b[0m\u001b[0;34m)\u001b[0m\u001b[0;34m:\u001b[0m\u001b[0;34m\u001b[0m\u001b[0;34m\u001b[0m\u001b[0m\n\u001b[0;32m--> 262\u001b[0;31m             return [func(*args, **kwargs)\n\u001b[0m\u001b[1;32m    263\u001b[0m                     for func, args, kwargs in self.items]\n\u001b[1;32m    264\u001b[0m \u001b[0;34m\u001b[0m\u001b[0m\n",
      "\u001b[0;32m~/opt/anaconda3/lib/python3.8/site-packages/joblib/parallel.py\u001b[0m in \u001b[0;36m<listcomp>\u001b[0;34m(.0)\u001b[0m\n\u001b[1;32m    260\u001b[0m         \u001b[0;31m# change the default number of processes to -1\u001b[0m\u001b[0;34m\u001b[0m\u001b[0;34m\u001b[0m\u001b[0;34m\u001b[0m\u001b[0m\n\u001b[1;32m    261\u001b[0m         \u001b[0;32mwith\u001b[0m \u001b[0mparallel_backend\u001b[0m\u001b[0;34m(\u001b[0m\u001b[0mself\u001b[0m\u001b[0;34m.\u001b[0m\u001b[0m_backend\u001b[0m\u001b[0;34m,\u001b[0m \u001b[0mn_jobs\u001b[0m\u001b[0;34m=\u001b[0m\u001b[0mself\u001b[0m\u001b[0;34m.\u001b[0m\u001b[0m_n_jobs\u001b[0m\u001b[0;34m)\u001b[0m\u001b[0;34m:\u001b[0m\u001b[0;34m\u001b[0m\u001b[0;34m\u001b[0m\u001b[0m\n\u001b[0;32m--> 262\u001b[0;31m             return [func(*args, **kwargs)\n\u001b[0m\u001b[1;32m    263\u001b[0m                     for func, args, kwargs in self.items]\n\u001b[1;32m    264\u001b[0m \u001b[0;34m\u001b[0m\u001b[0m\n",
      "\u001b[0;32m~/opt/anaconda3/lib/python3.8/site-packages/sklearn/utils/fixes.py\u001b[0m in \u001b[0;36m__call__\u001b[0;34m(self, *args, **kwargs)\u001b[0m\n\u001b[1;32m    220\u001b[0m     \u001b[0;32mdef\u001b[0m \u001b[0m__call__\u001b[0m\u001b[0;34m(\u001b[0m\u001b[0mself\u001b[0m\u001b[0;34m,\u001b[0m \u001b[0;34m*\u001b[0m\u001b[0margs\u001b[0m\u001b[0;34m,\u001b[0m \u001b[0;34m**\u001b[0m\u001b[0mkwargs\u001b[0m\u001b[0;34m)\u001b[0m\u001b[0;34m:\u001b[0m\u001b[0;34m\u001b[0m\u001b[0;34m\u001b[0m\u001b[0m\n\u001b[1;32m    221\u001b[0m         \u001b[0;32mwith\u001b[0m \u001b[0mconfig_context\u001b[0m\u001b[0;34m(\u001b[0m\u001b[0;34m**\u001b[0m\u001b[0mself\u001b[0m\u001b[0;34m.\u001b[0m\u001b[0mconfig\u001b[0m\u001b[0;34m)\u001b[0m\u001b[0;34m:\u001b[0m\u001b[0;34m\u001b[0m\u001b[0;34m\u001b[0m\u001b[0m\n\u001b[0;32m--> 222\u001b[0;31m             \u001b[0;32mreturn\u001b[0m \u001b[0mself\u001b[0m\u001b[0;34m.\u001b[0m\u001b[0mfunction\u001b[0m\u001b[0;34m(\u001b[0m\u001b[0;34m*\u001b[0m\u001b[0margs\u001b[0m\u001b[0;34m,\u001b[0m \u001b[0;34m**\u001b[0m\u001b[0mkwargs\u001b[0m\u001b[0;34m)\u001b[0m\u001b[0;34m\u001b[0m\u001b[0;34m\u001b[0m\u001b[0m\n\u001b[0m",
      "\u001b[0;32m~/opt/anaconda3/lib/python3.8/site-packages/sklearn/model_selection/_validation.py\u001b[0m in \u001b[0;36m_fit_and_score\u001b[0;34m(estimator, X, y, scorer, train, test, verbose, parameters, fit_params, return_train_score, return_parameters, return_n_test_samples, return_times, return_estimator, split_progress, candidate_progress, error_score)\u001b[0m\n\u001b[1;32m    591\u001b[0m             \u001b[0mestimator\u001b[0m\u001b[0;34m.\u001b[0m\u001b[0mfit\u001b[0m\u001b[0;34m(\u001b[0m\u001b[0mX_train\u001b[0m\u001b[0;34m,\u001b[0m \u001b[0;34m**\u001b[0m\u001b[0mfit_params\u001b[0m\u001b[0;34m)\u001b[0m\u001b[0;34m\u001b[0m\u001b[0;34m\u001b[0m\u001b[0m\n\u001b[1;32m    592\u001b[0m         \u001b[0;32melse\u001b[0m\u001b[0;34m:\u001b[0m\u001b[0;34m\u001b[0m\u001b[0;34m\u001b[0m\u001b[0m\n\u001b[0;32m--> 593\u001b[0;31m             \u001b[0mestimator\u001b[0m\u001b[0;34m.\u001b[0m\u001b[0mfit\u001b[0m\u001b[0;34m(\u001b[0m\u001b[0mX_train\u001b[0m\u001b[0;34m,\u001b[0m \u001b[0my_train\u001b[0m\u001b[0;34m,\u001b[0m \u001b[0;34m**\u001b[0m\u001b[0mfit_params\u001b[0m\u001b[0;34m)\u001b[0m\u001b[0;34m\u001b[0m\u001b[0;34m\u001b[0m\u001b[0m\n\u001b[0m\u001b[1;32m    594\u001b[0m \u001b[0;34m\u001b[0m\u001b[0m\n\u001b[1;32m    595\u001b[0m     \u001b[0;32mexcept\u001b[0m \u001b[0mException\u001b[0m \u001b[0;32mas\u001b[0m \u001b[0me\u001b[0m\u001b[0;34m:\u001b[0m\u001b[0;34m\u001b[0m\u001b[0;34m\u001b[0m\u001b[0m\n",
      "\u001b[0;32m~/opt/anaconda3/lib/python3.8/site-packages/lightgbm/sklearn.py\u001b[0m in \u001b[0;36mfit\u001b[0;34m(self, X, y, sample_weight, init_score, eval_set, eval_names, eval_sample_weight, eval_class_weight, eval_init_score, eval_metric, early_stopping_rounds, verbose, feature_name, categorical_feature, callbacks, init_model)\u001b[0m\n\u001b[1;32m    965\u001b[0m                     \u001b[0mvalid_sets\u001b[0m\u001b[0;34m[\u001b[0m\u001b[0mi\u001b[0m\u001b[0;34m]\u001b[0m \u001b[0;34m=\u001b[0m \u001b[0;34m(\u001b[0m\u001b[0mvalid_x\u001b[0m\u001b[0;34m,\u001b[0m \u001b[0mself\u001b[0m\u001b[0;34m.\u001b[0m\u001b[0m_le\u001b[0m\u001b[0;34m.\u001b[0m\u001b[0mtransform\u001b[0m\u001b[0;34m(\u001b[0m\u001b[0mvalid_y\u001b[0m\u001b[0;34m)\u001b[0m\u001b[0;34m)\u001b[0m\u001b[0;34m\u001b[0m\u001b[0;34m\u001b[0m\u001b[0m\n\u001b[1;32m    966\u001b[0m \u001b[0;34m\u001b[0m\u001b[0m\n\u001b[0;32m--> 967\u001b[0;31m         super().fit(X, _y, sample_weight=sample_weight, init_score=init_score, eval_set=valid_sets,\n\u001b[0m\u001b[1;32m    968\u001b[0m                     \u001b[0meval_names\u001b[0m\u001b[0;34m=\u001b[0m\u001b[0meval_names\u001b[0m\u001b[0;34m,\u001b[0m \u001b[0meval_sample_weight\u001b[0m\u001b[0;34m=\u001b[0m\u001b[0meval_sample_weight\u001b[0m\u001b[0;34m,\u001b[0m\u001b[0;34m\u001b[0m\u001b[0;34m\u001b[0m\u001b[0m\n\u001b[1;32m    969\u001b[0m                     \u001b[0meval_class_weight\u001b[0m\u001b[0;34m=\u001b[0m\u001b[0meval_class_weight\u001b[0m\u001b[0;34m,\u001b[0m \u001b[0meval_init_score\u001b[0m\u001b[0;34m=\u001b[0m\u001b[0meval_init_score\u001b[0m\u001b[0;34m,\u001b[0m\u001b[0;34m\u001b[0m\u001b[0;34m\u001b[0m\u001b[0m\n",
      "\u001b[0;32m~/opt/anaconda3/lib/python3.8/site-packages/lightgbm/sklearn.py\u001b[0m in \u001b[0;36mfit\u001b[0;34m(self, X, y, sample_weight, init_score, group, eval_set, eval_names, eval_sample_weight, eval_class_weight, eval_init_score, eval_group, eval_metric, early_stopping_rounds, verbose, feature_name, categorical_feature, callbacks, init_model)\u001b[0m\n\u001b[1;32m    746\u001b[0m         \u001b[0mcallbacks\u001b[0m\u001b[0;34m.\u001b[0m\u001b[0mappend\u001b[0m\u001b[0;34m(\u001b[0m\u001b[0mrecord_evaluation\u001b[0m\u001b[0;34m(\u001b[0m\u001b[0mevals_result\u001b[0m\u001b[0;34m)\u001b[0m\u001b[0;34m)\u001b[0m\u001b[0;34m\u001b[0m\u001b[0;34m\u001b[0m\u001b[0m\n\u001b[1;32m    747\u001b[0m \u001b[0;34m\u001b[0m\u001b[0m\n\u001b[0;32m--> 748\u001b[0;31m         self._Booster = train(\n\u001b[0m\u001b[1;32m    749\u001b[0m             \u001b[0mparams\u001b[0m\u001b[0;34m=\u001b[0m\u001b[0mparams\u001b[0m\u001b[0;34m,\u001b[0m\u001b[0;34m\u001b[0m\u001b[0;34m\u001b[0m\u001b[0m\n\u001b[1;32m    750\u001b[0m             \u001b[0mtrain_set\u001b[0m\u001b[0;34m=\u001b[0m\u001b[0mtrain_set\u001b[0m\u001b[0;34m,\u001b[0m\u001b[0;34m\u001b[0m\u001b[0;34m\u001b[0m\u001b[0m\n",
      "\u001b[0;32m~/opt/anaconda3/lib/python3.8/site-packages/lightgbm/engine.py\u001b[0m in \u001b[0;36mtrain\u001b[0;34m(params, train_set, num_boost_round, valid_sets, valid_names, fobj, feval, init_model, feature_name, categorical_feature, early_stopping_rounds, evals_result, verbose_eval, learning_rates, keep_training_booster, callbacks)\u001b[0m\n\u001b[1;32m    269\u001b[0m     \u001b[0;31m# construct booster\u001b[0m\u001b[0;34m\u001b[0m\u001b[0;34m\u001b[0m\u001b[0;34m\u001b[0m\u001b[0m\n\u001b[1;32m    270\u001b[0m     \u001b[0;32mtry\u001b[0m\u001b[0;34m:\u001b[0m\u001b[0;34m\u001b[0m\u001b[0;34m\u001b[0m\u001b[0m\n\u001b[0;32m--> 271\u001b[0;31m         \u001b[0mbooster\u001b[0m \u001b[0;34m=\u001b[0m \u001b[0mBooster\u001b[0m\u001b[0;34m(\u001b[0m\u001b[0mparams\u001b[0m\u001b[0;34m=\u001b[0m\u001b[0mparams\u001b[0m\u001b[0;34m,\u001b[0m \u001b[0mtrain_set\u001b[0m\u001b[0;34m=\u001b[0m\u001b[0mtrain_set\u001b[0m\u001b[0;34m)\u001b[0m\u001b[0;34m\u001b[0m\u001b[0;34m\u001b[0m\u001b[0m\n\u001b[0m\u001b[1;32m    272\u001b[0m         \u001b[0;32mif\u001b[0m \u001b[0mis_valid_contain_train\u001b[0m\u001b[0;34m:\u001b[0m\u001b[0;34m\u001b[0m\u001b[0;34m\u001b[0m\u001b[0m\n\u001b[1;32m    273\u001b[0m             \u001b[0mbooster\u001b[0m\u001b[0;34m.\u001b[0m\u001b[0mset_train_data_name\u001b[0m\u001b[0;34m(\u001b[0m\u001b[0mtrain_data_name\u001b[0m\u001b[0;34m)\u001b[0m\u001b[0;34m\u001b[0m\u001b[0;34m\u001b[0m\u001b[0m\n",
      "\u001b[0;32m~/opt/anaconda3/lib/python3.8/site-packages/lightgbm/basic.py\u001b[0m in \u001b[0;36m__init__\u001b[0;34m(self, params, train_set, model_file, model_str, silent)\u001b[0m\n\u001b[1;32m   2603\u001b[0m                 )\n\u001b[1;32m   2604\u001b[0m             \u001b[0;31m# construct booster object\u001b[0m\u001b[0;34m\u001b[0m\u001b[0;34m\u001b[0m\u001b[0;34m\u001b[0m\u001b[0m\n\u001b[0;32m-> 2605\u001b[0;31m             \u001b[0mtrain_set\u001b[0m\u001b[0;34m.\u001b[0m\u001b[0mconstruct\u001b[0m\u001b[0;34m(\u001b[0m\u001b[0;34m)\u001b[0m\u001b[0;34m\u001b[0m\u001b[0;34m\u001b[0m\u001b[0m\n\u001b[0m\u001b[1;32m   2606\u001b[0m             \u001b[0;31m# copy the parameters from train_set\u001b[0m\u001b[0;34m\u001b[0m\u001b[0;34m\u001b[0m\u001b[0;34m\u001b[0m\u001b[0m\n\u001b[1;32m   2607\u001b[0m             \u001b[0mparams\u001b[0m\u001b[0;34m.\u001b[0m\u001b[0mupdate\u001b[0m\u001b[0;34m(\u001b[0m\u001b[0mtrain_set\u001b[0m\u001b[0;34m.\u001b[0m\u001b[0mget_params\u001b[0m\u001b[0;34m(\u001b[0m\u001b[0;34m)\u001b[0m\u001b[0;34m)\u001b[0m\u001b[0;34m\u001b[0m\u001b[0;34m\u001b[0m\u001b[0m\n",
      "\u001b[0;32m~/opt/anaconda3/lib/python3.8/site-packages/lightgbm/basic.py\u001b[0m in \u001b[0;36mconstruct\u001b[0;34m(self)\u001b[0m\n\u001b[1;32m   1813\u001b[0m             \u001b[0;32melse\u001b[0m\u001b[0;34m:\u001b[0m\u001b[0;34m\u001b[0m\u001b[0;34m\u001b[0m\u001b[0m\n\u001b[1;32m   1814\u001b[0m                 \u001b[0;31m# create train\u001b[0m\u001b[0;34m\u001b[0m\u001b[0;34m\u001b[0m\u001b[0;34m\u001b[0m\u001b[0m\n\u001b[0;32m-> 1815\u001b[0;31m                 self._lazy_init(self.data, label=self.label,\n\u001b[0m\u001b[1;32m   1816\u001b[0m                                 \u001b[0mweight\u001b[0m\u001b[0;34m=\u001b[0m\u001b[0mself\u001b[0m\u001b[0;34m.\u001b[0m\u001b[0mweight\u001b[0m\u001b[0;34m,\u001b[0m \u001b[0mgroup\u001b[0m\u001b[0;34m=\u001b[0m\u001b[0mself\u001b[0m\u001b[0;34m.\u001b[0m\u001b[0mgroup\u001b[0m\u001b[0;34m,\u001b[0m\u001b[0;34m\u001b[0m\u001b[0;34m\u001b[0m\u001b[0m\n\u001b[1;32m   1817\u001b[0m                                 \u001b[0minit_score\u001b[0m\u001b[0;34m=\u001b[0m\u001b[0mself\u001b[0m\u001b[0;34m.\u001b[0m\u001b[0minit_score\u001b[0m\u001b[0;34m,\u001b[0m \u001b[0mpredictor\u001b[0m\u001b[0;34m=\u001b[0m\u001b[0mself\u001b[0m\u001b[0;34m.\u001b[0m\u001b[0m_predictor\u001b[0m\u001b[0;34m,\u001b[0m\u001b[0;34m\u001b[0m\u001b[0;34m\u001b[0m\u001b[0m\n",
      "\u001b[0;31mKeyboardInterrupt\u001b[0m: "
     ]
    }
   ],
   "source": [
    "clf.fit(train_X, np.ravel(train_y))"
   ]
  },
  {
   "cell_type": "code",
   "execution_count": 125,
   "id": "374bb24c-2f65-4f0a-b51b-c3f9599b1b6f",
   "metadata": {},
   "outputs": [
    {
     "data": {
      "text/plain": [
       "{'n_estimators': 260,\n",
       " 'min_samples_split': 34,\n",
       " 'min_samples_leaf': 56,\n",
       " 'max_samples': 8940,\n",
       " 'max_leaf_nodes': 187,\n",
       " 'max_depth': 7}"
      ]
     },
     "execution_count": 125,
     "metadata": {},
     "output_type": "execute_result"
    }
   ],
   "source": [
    "clf.best_params_"
   ]
  },
  {
   "cell_type": "code",
   "execution_count": 211,
   "id": "480f879f-6b28-4253-a3b5-cefd1f8e8e7b",
   "metadata": {},
   "outputs": [],
   "source": [
    "my_clf = MyRandomForestClassifier(**clf.best_params_, bootstrap=True)\n",
    "my_clf.fit(train_X, train_y)"
   ]
  },
  {
   "cell_type": "code",
   "execution_count": 212,
   "id": "d0ea6559-b14a-46ba-888d-151c62740612",
   "metadata": {
    "tags": []
   },
   "outputs": [
    {
     "name": "stderr",
     "output_type": "stream",
     "text": [
      "[Parallel(n_jobs=1)]: Using backend SequentialBackend with 1 concurrent workers.\n",
      "[Parallel(n_jobs=1)]: Done   1 out of   1 | elapsed:    0.2s remaining:    0.0s\n"
     ]
    },
    {
     "name": "stdout",
     "output_type": "stream",
     "text": [
      "building tree 1 of 260\n",
      "building tree 2 of 260\n",
      "building tree 3 of 260\n",
      "building tree 4 of 260\n",
      "building tree 5 of 260\n",
      "building tree 6 of 260\n",
      "building tree 7 of 260\n",
      "building tree 8 of 260\n",
      "building tree 9 of 260\n",
      "building tree 10 of 260\n",
      "building tree 11 of 260\n",
      "building tree 12 of 260\n",
      "building tree 13 of 260\n",
      "building tree 14 of 260\n",
      "building tree 15 of 260\n",
      "building tree 16 of 260\n",
      "building tree 17 of 260\n",
      "building tree 18 of 260\n",
      "building tree 19 of 260\n",
      "building tree 20 of 260\n",
      "building tree 21 of 260\n",
      "building tree 22 of 260\n",
      "building tree 23 of 260\n",
      "building tree 24 of 260\n",
      "building tree 25 of 260\n",
      "building tree 26 of 260\n",
      "building tree 27 of 260\n",
      "building tree 28 of 260\n",
      "building tree 29 of 260\n",
      "building tree 30 of 260\n",
      "building tree 31 of 260\n",
      "building tree 32 of 260\n",
      "building tree 33 of 260\n",
      "building tree 34 of 260\n",
      "building tree 35 of 260\n",
      "building tree 36 of 260\n",
      "building tree 37 of 260\n",
      "building tree 38 of 260\n",
      "building tree 39 of 260\n",
      "building tree 40 of 260\n",
      "building tree 41 of 260\n",
      "building tree 42 of 260\n",
      "building tree 43 of 260\n",
      "building tree 44 of 260\n",
      "building tree 45 of 260\n",
      "building tree 46 of 260\n",
      "building tree 47 of 260\n",
      "building tree 48 of 260\n",
      "building tree 49 of 260\n",
      "building tree 50 of 260\n",
      "building tree 51 of 260\n",
      "building tree 52 of 260\n",
      "building tree 53 of 260\n",
      "building tree 54 of 260\n",
      "building tree 55 of 260\n",
      "building tree 56 of 260\n",
      "building tree 57 of 260\n",
      "building tree 58 of 260\n",
      "building tree 59 of 260\n",
      "building tree 60 of 260\n",
      "building tree 61 of 260\n",
      "building tree 62 of 260\n",
      "building tree 63 of 260\n",
      "building tree 64 of 260\n",
      "building tree 65 of 260\n",
      "building tree 66 of 260\n",
      "building tree 67 of 260\n",
      "building tree 68 of 260\n",
      "building tree 69 of 260\n",
      "building tree 70 of 260\n",
      "building tree 71 of 260\n",
      "building tree 72 of 260\n",
      "building tree 73 of 260\n",
      "building tree 74 of 260\n",
      "building tree 75 of 260\n",
      "building tree 76 of 260\n",
      "building tree 77 of 260\n",
      "building tree 78 of 260\n",
      "building tree 79 of 260\n",
      "building tree 80 of 260\n",
      "building tree 81 of 260\n",
      "building tree 82 of 260\n",
      "building tree 83 of 260\n",
      "building tree 84 of 260\n",
      "building tree 85 of 260\n",
      "building tree 86 of 260\n",
      "building tree 87 of 260\n",
      "building tree 88 of 260\n",
      "building tree 89 of 260\n",
      "building tree 90 of 260\n",
      "building tree 91 of 260\n",
      "building tree 92 of 260\n",
      "building tree 93 of 260\n",
      "building tree 94 of 260\n",
      "building tree 95 of 260\n",
      "building tree 96 of 260\n",
      "building tree 97 of 260\n",
      "building tree 98 of 260\n",
      "building tree 99 of 260\n",
      "building tree 100 of 260\n",
      "building tree 101 of 260\n",
      "building tree 102 of 260\n",
      "building tree 103 of 260\n",
      "building tree 104 of 260\n",
      "building tree 105 of 260\n",
      "building tree 106 of 260\n",
      "building tree 107 of 260\n",
      "building tree 108 of 260\n",
      "building tree 109 of 260\n",
      "building tree 110 of 260\n",
      "building tree 111 of 260\n",
      "building tree 112 of 260\n",
      "building tree 113 of 260\n",
      "building tree 114 of 260\n",
      "building tree 115 of 260\n",
      "building tree 116 of 260\n",
      "building tree 117 of 260\n",
      "building tree 118 of 260\n",
      "building tree 119 of 260\n",
      "building tree 120 of 260\n",
      "building tree 121 of 260\n",
      "building tree 122 of 260\n",
      "building tree 123 of 260\n",
      "building tree 124 of 260\n",
      "building tree 125 of 260\n",
      "building tree 126 of 260\n",
      "building tree 127 of 260\n",
      "building tree 128 of 260\n",
      "building tree 129 of 260\n",
      "building tree 130 of 260\n",
      "building tree 131 of 260\n",
      "building tree 132 of 260\n",
      "building tree 133 of 260\n",
      "building tree 134 of 260\n",
      "building tree 135 of 260\n",
      "building tree 136 of 260\n",
      "building tree 137 of 260\n",
      "building tree 138 of 260\n",
      "building tree 139 of 260\n",
      "building tree 140 of 260\n",
      "building tree 141 of 260\n",
      "building tree 142 of 260\n",
      "building tree 143 of 260\n",
      "building tree 144 of 260\n",
      "building tree 145 of 260\n",
      "building tree 146 of 260\n",
      "building tree 147 of 260\n",
      "building tree 148 of 260\n",
      "building tree 149 of 260\n",
      "building tree 150 of 260\n",
      "building tree 151 of 260\n",
      "building tree 152 of 260\n",
      "building tree 153 of 260\n",
      "building tree 154 of 260\n",
      "building tree 155 of 260\n",
      "building tree 156 of 260\n",
      "building tree 157 of 260\n",
      "building tree 158 of 260\n",
      "building tree 159 of 260\n",
      "building tree 160 of 260\n",
      "building tree 161 of 260\n",
      "building tree 162 of 260\n",
      "building tree 163 of 260\n",
      "building tree 164 of 260\n",
      "building tree 165 of 260\n",
      "building tree 166 of 260\n",
      "building tree 167 of 260\n",
      "building tree 168 of 260\n",
      "building tree 169 of 260\n",
      "building tree 170 of 260\n",
      "building tree 171 of 260\n",
      "building tree 172 of 260\n",
      "building tree 173 of 260\n",
      "building tree 174 of 260\n",
      "building tree 175 of 260\n",
      "building tree 176 of 260\n",
      "building tree 177 of 260\n",
      "building tree 178 of 260\n",
      "building tree 179 of 260\n",
      "building tree 180 of 260\n",
      "building tree 181 of 260\n",
      "building tree 182 of 260\n",
      "building tree 183 of 260\n",
      "building tree 184 of 260\n",
      "building tree 185 of 260\n",
      "building tree 186 of 260\n",
      "building tree 187 of 260\n",
      "building tree 188 of 260\n",
      "building tree 189 of 260\n",
      "building tree 190 of 260\n",
      "building tree 191 of 260\n",
      "building tree 192 of 260\n",
      "building tree 193 of 260\n",
      "building tree 194 of 260\n",
      "building tree 195 of 260\n",
      "building tree 196 of 260\n",
      "building tree 197 of 260\n",
      "building tree 198 of 260\n",
      "building tree 199 of 260\n",
      "building tree 200 of 260\n",
      "building tree 201 of 260\n",
      "building tree 202 of 260\n",
      "building tree 203 of 260\n",
      "building tree 204 of 260\n",
      "building tree 205 of 260\n",
      "building tree 206 of 260\n",
      "building tree 207 of 260\n",
      "building tree 208 of 260\n",
      "building tree 209 of 260\n",
      "building tree 210 of 260\n",
      "building tree 211 of 260\n",
      "building tree 212 of 260\n",
      "building tree 213 of 260\n",
      "building tree 214 of 260\n",
      "building tree 215 of 260\n",
      "building tree 216 of 260\n",
      "building tree 217 of 260\n",
      "building tree 218 of 260\n",
      "building tree 219 of 260\n",
      "building tree 220 of 260\n",
      "building tree 221 of 260\n",
      "building tree 222 of 260\n",
      "building tree 223 of 260\n",
      "building tree 224 of 260\n",
      "building tree 225 of 260\n",
      "building tree 226 of 260\n",
      "building tree 227 of 260\n",
      "building tree 228 of 260\n",
      "building tree 229 of 260\n",
      "building tree 230 of 260\n",
      "building tree 231 of 260\n",
      "building tree 232 of 260\n",
      "building tree 233 of 260\n",
      "building tree 234 of 260\n",
      "building tree 235 of 260\n",
      "building tree 236 of 260\n",
      "building tree 237 of 260\n",
      "building tree 238 of 260\n",
      "building tree 239 of 260\n",
      "building tree 240 of 260\n",
      "building tree 241 of 260\n",
      "building tree 242 of 260\n",
      "building tree 243 of 260\n",
      "building tree 244 of 260\n",
      "building tree 245 of 260\n",
      "building tree 246 of 260\n",
      "building tree 247 of 260\n",
      "building tree 248 of 260\n",
      "building tree 249 of 260\n",
      "building tree 250 of 260\n",
      "building tree 251 of 260\n",
      "building tree 252 of 260\n",
      "building tree 253 of 260\n",
      "building tree 254 of 260\n",
      "building tree 255 of 260\n",
      "building tree 256 of 260\n",
      "building tree 257 of 260\n",
      "building tree 258 of 260\n",
      "building tree 259 of 260\n",
      "building tree 260 of 260\n"
     ]
    },
    {
     "name": "stderr",
     "output_type": "stream",
     "text": [
      "[Parallel(n_jobs=1)]: Done 260 out of 260 | elapsed:   42.2s finished\n"
     ]
    },
    {
     "data": {
      "text/plain": [
       "RandomForestClassifier(max_depth=7, max_leaf_nodes=187, max_samples=8940,\n",
       "                       min_samples_leaf=56, min_samples_split=34,\n",
       "                       n_estimators=260, verbose=2)"
      ]
     },
     "execution_count": 212,
     "metadata": {},
     "output_type": "execute_result"
    }
   ],
   "source": [
    "rfc_sklearn = RandomForestClassifier(**clf.best_params_, verbose=2, bootstrap=True)\n",
    "rfc_sklearn.fit(train_X, np.ravel(train_y))"
   ]
  },
  {
   "cell_type": "code",
   "execution_count": 213,
   "id": "3856b271-aa06-4829-a52b-9cfb777a022e",
   "metadata": {
    "tags": []
   },
   "outputs": [
    {
     "name": "stdout",
     "output_type": "stream",
     "text": [
      "[LightGBM] [Warning] Unknown parameter: min_samples_split\n",
      "[LightGBM] [Warning] Unknown parameter: bootstrap\n",
      "[LightGBM] [Warning] Unknown parameter: max_samples\n",
      "[LightGBM] [Warning] min_data_in_leaf is set with min_samples_leaf=56, min_child_samples=20 will be ignored. Current value: min_data_in_leaf=56\n",
      "[LightGBM] [Warning] num_leaves is set=31, max_leaf_nodes=187 will be ignored. Current value: num_leaves=31\n",
      "[LightGBM] [Warning] Accuracy may be bad since you didn't explicitly set num_leaves OR 2^max_depth > num_leaves. (num_leaves=31).\n",
      "[LightGBM] [Warning] Unknown parameter: min_samples_split\n",
      "[LightGBM] [Warning] Unknown parameter: bootstrap\n",
      "[LightGBM] [Warning] Unknown parameter: max_samples\n",
      "[LightGBM] [Warning] min_data_in_leaf is set with min_samples_leaf=56, min_child_samples=20 will be ignored. Current value: min_data_in_leaf=56\n",
      "[LightGBM] [Warning] num_leaves is set=31, max_leaf_nodes=187 will be ignored. Current value: num_leaves=31\n",
      "[LightGBM] [Warning] Accuracy may be bad since you didn't explicitly set num_leaves OR 2^max_depth > num_leaves. (num_leaves=31).\n",
      "[LightGBM] [Info] Number of positive: 319758, number of negative: 322047\n",
      "[LightGBM] [Debug] Dataset::GetMultiBinFromAllFeatures: sparse rate 0.000000\n",
      "[LightGBM] [Debug] init for col-wise cost 0.000024 seconds, init for row-wise cost 0.700145 seconds\n",
      "[LightGBM] [Warning] Auto-choosing col-wise multi-threading, the overhead of testing was 0.817165 seconds.\n",
      "You can set `force_col_wise=true` to remove the overhead.\n",
      "[LightGBM] [Info] Total Bins 30074\n",
      "[LightGBM] [Info] Number of data points in the train set: 641805, number of used features: 118\n",
      "[LightGBM] [Info] [binary:BoostFromScore]: pavg=0.498217 -> initscore=-0.007133\n",
      "[LightGBM] [Info] Start training from score -0.007133\n",
      "[LightGBM] [Debug] Trained a tree with leaves = 31 and depth = 7\n",
      "[LightGBM] [Debug] Trained a tree with leaves = 31 and depth = 7\n",
      "[LightGBM] [Debug] Trained a tree with leaves = 31 and depth = 7\n",
      "[LightGBM] [Debug] Trained a tree with leaves = 31 and depth = 7\n",
      "[LightGBM] [Debug] Trained a tree with leaves = 31 and depth = 7\n",
      "[LightGBM] [Debug] Trained a tree with leaves = 31 and depth = 7\n",
      "[LightGBM] [Debug] Trained a tree with leaves = 31 and depth = 7\n",
      "[LightGBM] [Debug] Trained a tree with leaves = 31 and depth = 7\n",
      "[LightGBM] [Debug] Trained a tree with leaves = 31 and depth = 7\n",
      "[LightGBM] [Debug] Trained a tree with leaves = 31 and depth = 7\n",
      "[LightGBM] [Debug] Trained a tree with leaves = 31 and depth = 7\n",
      "[LightGBM] [Debug] Trained a tree with leaves = 31 and depth = 7\n",
      "[LightGBM] [Debug] Trained a tree with leaves = 31 and depth = 7\n",
      "[LightGBM] [Debug] Trained a tree with leaves = 31 and depth = 7\n",
      "[LightGBM] [Debug] Trained a tree with leaves = 31 and depth = 7\n",
      "[LightGBM] [Debug] Trained a tree with leaves = 31 and depth = 7\n",
      "[LightGBM] [Debug] Trained a tree with leaves = 31 and depth = 7\n",
      "[LightGBM] [Debug] Trained a tree with leaves = 31 and depth = 7\n",
      "[LightGBM] [Debug] Trained a tree with leaves = 31 and depth = 7\n",
      "[LightGBM] [Debug] Trained a tree with leaves = 31 and depth = 7\n",
      "[LightGBM] [Debug] Trained a tree with leaves = 31 and depth = 7\n",
      "[LightGBM] [Debug] Trained a tree with leaves = 31 and depth = 7\n",
      "[LightGBM] [Debug] Trained a tree with leaves = 31 and depth = 7\n",
      "[LightGBM] [Debug] Trained a tree with leaves = 31 and depth = 7\n",
      "[LightGBM] [Debug] Trained a tree with leaves = 31 and depth = 7\n",
      "[LightGBM] [Debug] Trained a tree with leaves = 31 and depth = 7\n",
      "[LightGBM] [Debug] Trained a tree with leaves = 31 and depth = 7\n",
      "[LightGBM] [Debug] Trained a tree with leaves = 31 and depth = 7\n",
      "[LightGBM] [Debug] Trained a tree with leaves = 31 and depth = 7\n",
      "[LightGBM] [Debug] Trained a tree with leaves = 31 and depth = 7\n",
      "[LightGBM] [Debug] Trained a tree with leaves = 31 and depth = 7\n",
      "[LightGBM] [Debug] Trained a tree with leaves = 31 and depth = 7\n",
      "[LightGBM] [Debug] Trained a tree with leaves = 31 and depth = 7\n",
      "[LightGBM] [Debug] Trained a tree with leaves = 31 and depth = 7\n",
      "[LightGBM] [Debug] Trained a tree with leaves = 31 and depth = 7\n",
      "[LightGBM] [Debug] Trained a tree with leaves = 31 and depth = 7\n",
      "[LightGBM] [Debug] Trained a tree with leaves = 31 and depth = 7\n",
      "[LightGBM] [Debug] Trained a tree with leaves = 31 and depth = 7\n",
      "[LightGBM] [Debug] Trained a tree with leaves = 31 and depth = 7\n",
      "[LightGBM] [Debug] Trained a tree with leaves = 31 and depth = 7\n",
      "[LightGBM] [Debug] Trained a tree with leaves = 31 and depth = 7\n",
      "[LightGBM] [Debug] Trained a tree with leaves = 31 and depth = 7\n",
      "[LightGBM] [Debug] Trained a tree with leaves = 31 and depth = 7\n",
      "[LightGBM] [Debug] Trained a tree with leaves = 31 and depth = 7\n",
      "[LightGBM] [Debug] Trained a tree with leaves = 31 and depth = 7\n",
      "[LightGBM] [Debug] Trained a tree with leaves = 31 and depth = 7\n",
      "[LightGBM] [Debug] Trained a tree with leaves = 31 and depth = 7\n",
      "[LightGBM] [Debug] Trained a tree with leaves = 31 and depth = 7\n",
      "[LightGBM] [Debug] Trained a tree with leaves = 31 and depth = 7\n",
      "[LightGBM] [Debug] Trained a tree with leaves = 31 and depth = 7\n",
      "[LightGBM] [Debug] Trained a tree with leaves = 31 and depth = 7\n",
      "[LightGBM] [Debug] Trained a tree with leaves = 31 and depth = 7\n",
      "[LightGBM] [Debug] Trained a tree with leaves = 31 and depth = 7\n",
      "[LightGBM] [Debug] Trained a tree with leaves = 31 and depth = 7\n",
      "[LightGBM] [Debug] Trained a tree with leaves = 31 and depth = 7\n",
      "[LightGBM] [Debug] Trained a tree with leaves = 31 and depth = 7\n",
      "[LightGBM] [Debug] Trained a tree with leaves = 31 and depth = 7\n",
      "[LightGBM] [Debug] Trained a tree with leaves = 31 and depth = 7\n",
      "[LightGBM] [Debug] Trained a tree with leaves = 31 and depth = 7\n",
      "[LightGBM] [Debug] Trained a tree with leaves = 31 and depth = 7\n",
      "[LightGBM] [Debug] Trained a tree with leaves = 31 and depth = 7\n",
      "[LightGBM] [Debug] Trained a tree with leaves = 31 and depth = 7\n",
      "[LightGBM] [Debug] Trained a tree with leaves = 31 and depth = 7\n",
      "[LightGBM] [Debug] Trained a tree with leaves = 31 and depth = 7\n",
      "[LightGBM] [Debug] Trained a tree with leaves = 31 and depth = 7\n",
      "[LightGBM] [Debug] Trained a tree with leaves = 31 and depth = 7\n",
      "[LightGBM] [Debug] Trained a tree with leaves = 31 and depth = 7\n",
      "[LightGBM] [Debug] Trained a tree with leaves = 31 and depth = 7\n",
      "[LightGBM] [Debug] Trained a tree with leaves = 31 and depth = 7\n",
      "[LightGBM] [Debug] Trained a tree with leaves = 31 and depth = 7\n",
      "[LightGBM] [Debug] Trained a tree with leaves = 31 and depth = 7\n",
      "[LightGBM] [Debug] Trained a tree with leaves = 31 and depth = 7\n",
      "[LightGBM] [Debug] Trained a tree with leaves = 31 and depth = 7\n",
      "[LightGBM] [Debug] Trained a tree with leaves = 31 and depth = 7\n",
      "[LightGBM] [Debug] Trained a tree with leaves = 31 and depth = 7\n",
      "[LightGBM] [Debug] Trained a tree with leaves = 31 and depth = 7\n",
      "[LightGBM] [Debug] Trained a tree with leaves = 31 and depth = 7\n",
      "[LightGBM] [Debug] Trained a tree with leaves = 31 and depth = 7\n",
      "[LightGBM] [Debug] Trained a tree with leaves = 31 and depth = 7\n",
      "[LightGBM] [Debug] Trained a tree with leaves = 31 and depth = 7\n",
      "[LightGBM] [Debug] Trained a tree with leaves = 31 and depth = 7\n",
      "[LightGBM] [Debug] Trained a tree with leaves = 31 and depth = 7\n",
      "[LightGBM] [Debug] Trained a tree with leaves = 31 and depth = 7\n",
      "[LightGBM] [Debug] Trained a tree with leaves = 31 and depth = 7\n",
      "[LightGBM] [Debug] Trained a tree with leaves = 31 and depth = 7\n",
      "[LightGBM] [Debug] Trained a tree with leaves = 31 and depth = 7\n",
      "[LightGBM] [Debug] Trained a tree with leaves = 31 and depth = 7\n",
      "[LightGBM] [Debug] Trained a tree with leaves = 31 and depth = 7\n",
      "[LightGBM] [Debug] Trained a tree with leaves = 31 and depth = 7\n",
      "[LightGBM] [Debug] Trained a tree with leaves = 31 and depth = 7\n",
      "[LightGBM] [Debug] Trained a tree with leaves = 31 and depth = 7\n",
      "[LightGBM] [Debug] Trained a tree with leaves = 31 and depth = 7\n",
      "[LightGBM] [Debug] Trained a tree with leaves = 31 and depth = 7\n",
      "[LightGBM] [Debug] Trained a tree with leaves = 31 and depth = 7\n",
      "[LightGBM] [Debug] Trained a tree with leaves = 31 and depth = 7\n",
      "[LightGBM] [Debug] Trained a tree with leaves = 31 and depth = 7\n",
      "[LightGBM] [Debug] Trained a tree with leaves = 31 and depth = 7\n",
      "[LightGBM] [Debug] Trained a tree with leaves = 31 and depth = 7\n",
      "[LightGBM] [Debug] Trained a tree with leaves = 31 and depth = 7\n",
      "[LightGBM] [Debug] Trained a tree with leaves = 31 and depth = 7\n",
      "[LightGBM] [Debug] Trained a tree with leaves = 31 and depth = 7\n",
      "[LightGBM] [Debug] Trained a tree with leaves = 31 and depth = 7\n",
      "[LightGBM] [Debug] Trained a tree with leaves = 31 and depth = 7\n",
      "[LightGBM] [Debug] Trained a tree with leaves = 31 and depth = 7\n",
      "[LightGBM] [Debug] Trained a tree with leaves = 31 and depth = 7\n",
      "[LightGBM] [Debug] Trained a tree with leaves = 31 and depth = 7\n",
      "[LightGBM] [Debug] Trained a tree with leaves = 31 and depth = 7\n",
      "[LightGBM] [Debug] Trained a tree with leaves = 31 and depth = 7\n",
      "[LightGBM] [Debug] Trained a tree with leaves = 31 and depth = 7\n",
      "[LightGBM] [Debug] Trained a tree with leaves = 31 and depth = 7\n",
      "[LightGBM] [Debug] Trained a tree with leaves = 31 and depth = 7\n",
      "[LightGBM] [Debug] Trained a tree with leaves = 31 and depth = 7\n",
      "[LightGBM] [Debug] Trained a tree with leaves = 31 and depth = 7\n",
      "[LightGBM] [Debug] Trained a tree with leaves = 31 and depth = 7\n",
      "[LightGBM] [Debug] Trained a tree with leaves = 31 and depth = 7\n",
      "[LightGBM] [Debug] Trained a tree with leaves = 31 and depth = 7\n",
      "[LightGBM] [Debug] Trained a tree with leaves = 31 and depth = 7\n",
      "[LightGBM] [Debug] Trained a tree with leaves = 31 and depth = 7\n",
      "[LightGBM] [Debug] Trained a tree with leaves = 31 and depth = 7\n",
      "[LightGBM] [Debug] Trained a tree with leaves = 31 and depth = 7\n",
      "[LightGBM] [Debug] Trained a tree with leaves = 31 and depth = 7\n",
      "[LightGBM] [Debug] Trained a tree with leaves = 31 and depth = 7\n",
      "[LightGBM] [Debug] Trained a tree with leaves = 31 and depth = 7\n",
      "[LightGBM] [Debug] Trained a tree with leaves = 31 and depth = 7\n",
      "[LightGBM] [Debug] Trained a tree with leaves = 31 and depth = 7\n",
      "[LightGBM] [Debug] Trained a tree with leaves = 31 and depth = 7\n",
      "[LightGBM] [Debug] Trained a tree with leaves = 31 and depth = 7\n",
      "[LightGBM] [Debug] Trained a tree with leaves = 31 and depth = 7\n",
      "[LightGBM] [Debug] Trained a tree with leaves = 31 and depth = 7\n",
      "[LightGBM] [Debug] Trained a tree with leaves = 31 and depth = 7\n",
      "[LightGBM] [Debug] Trained a tree with leaves = 31 and depth = 7\n",
      "[LightGBM] [Debug] Trained a tree with leaves = 31 and depth = 7\n",
      "[LightGBM] [Debug] Trained a tree with leaves = 31 and depth = 7\n",
      "[LightGBM] [Debug] Trained a tree with leaves = 31 and depth = 7\n",
      "[LightGBM] [Debug] Trained a tree with leaves = 31 and depth = 7\n",
      "[LightGBM] [Debug] Trained a tree with leaves = 31 and depth = 7\n",
      "[LightGBM] [Debug] Trained a tree with leaves = 31 and depth = 7\n",
      "[LightGBM] [Debug] Trained a tree with leaves = 31 and depth = 7\n",
      "[LightGBM] [Debug] Trained a tree with leaves = 31 and depth = 7\n",
      "[LightGBM] [Debug] Trained a tree with leaves = 31 and depth = 7\n",
      "[LightGBM] [Debug] Trained a tree with leaves = 31 and depth = 7\n",
      "[LightGBM] [Debug] Trained a tree with leaves = 31 and depth = 7\n",
      "[LightGBM] [Debug] Trained a tree with leaves = 31 and depth = 7\n",
      "[LightGBM] [Debug] Trained a tree with leaves = 31 and depth = 7\n",
      "[LightGBM] [Debug] Trained a tree with leaves = 31 and depth = 7\n",
      "[LightGBM] [Debug] Trained a tree with leaves = 31 and depth = 7\n",
      "[LightGBM] [Debug] Trained a tree with leaves = 31 and depth = 7\n",
      "[LightGBM] [Debug] Trained a tree with leaves = 31 and depth = 7\n",
      "[LightGBM] [Debug] Trained a tree with leaves = 31 and depth = 7\n",
      "[LightGBM] [Debug] Trained a tree with leaves = 31 and depth = 7\n",
      "[LightGBM] [Debug] Trained a tree with leaves = 31 and depth = 7\n",
      "[LightGBM] [Debug] Trained a tree with leaves = 31 and depth = 7\n",
      "[LightGBM] [Debug] Trained a tree with leaves = 31 and depth = 7\n",
      "[LightGBM] [Debug] Trained a tree with leaves = 31 and depth = 7\n",
      "[LightGBM] [Debug] Trained a tree with leaves = 31 and depth = 7\n",
      "[LightGBM] [Debug] Trained a tree with leaves = 31 and depth = 7\n",
      "[LightGBM] [Debug] Trained a tree with leaves = 31 and depth = 7\n",
      "[LightGBM] [Debug] Trained a tree with leaves = 31 and depth = 7\n",
      "[LightGBM] [Debug] Trained a tree with leaves = 31 and depth = 7\n",
      "[LightGBM] [Debug] Trained a tree with leaves = 31 and depth = 7\n",
      "[LightGBM] [Debug] Trained a tree with leaves = 31 and depth = 7\n",
      "[LightGBM] [Debug] Trained a tree with leaves = 31 and depth = 7\n",
      "[LightGBM] [Debug] Trained a tree with leaves = 31 and depth = 7\n",
      "[LightGBM] [Debug] Trained a tree with leaves = 31 and depth = 7\n",
      "[LightGBM] [Debug] Trained a tree with leaves = 31 and depth = 7\n",
      "[LightGBM] [Debug] Trained a tree with leaves = 31 and depth = 7\n",
      "[LightGBM] [Debug] Trained a tree with leaves = 31 and depth = 7\n",
      "[LightGBM] [Debug] Trained a tree with leaves = 31 and depth = 7\n",
      "[LightGBM] [Debug] Trained a tree with leaves = 31 and depth = 7\n",
      "[LightGBM] [Debug] Trained a tree with leaves = 31 and depth = 7\n",
      "[LightGBM] [Debug] Trained a tree with leaves = 31 and depth = 7\n",
      "[LightGBM] [Debug] Trained a tree with leaves = 31 and depth = 7\n",
      "[LightGBM] [Debug] Trained a tree with leaves = 31 and depth = 7\n",
      "[LightGBM] [Debug] Trained a tree with leaves = 31 and depth = 7\n",
      "[LightGBM] [Debug] Trained a tree with leaves = 31 and depth = 7\n",
      "[LightGBM] [Debug] Trained a tree with leaves = 31 and depth = 7\n",
      "[LightGBM] [Debug] Trained a tree with leaves = 31 and depth = 7\n",
      "[LightGBM] [Debug] Trained a tree with leaves = 31 and depth = 7\n",
      "[LightGBM] [Debug] Trained a tree with leaves = 31 and depth = 7\n",
      "[LightGBM] [Debug] Trained a tree with leaves = 31 and depth = 7\n",
      "[LightGBM] [Debug] Trained a tree with leaves = 31 and depth = 7\n",
      "[LightGBM] [Debug] Trained a tree with leaves = 31 and depth = 7\n",
      "[LightGBM] [Debug] Trained a tree with leaves = 31 and depth = 7\n",
      "[LightGBM] [Debug] Trained a tree with leaves = 31 and depth = 7\n",
      "[LightGBM] [Debug] Trained a tree with leaves = 31 and depth = 7\n",
      "[LightGBM] [Debug] Trained a tree with leaves = 31 and depth = 7\n",
      "[LightGBM] [Debug] Trained a tree with leaves = 31 and depth = 7\n",
      "[LightGBM] [Debug] Trained a tree with leaves = 31 and depth = 7\n",
      "[LightGBM] [Debug] Trained a tree with leaves = 31 and depth = 7\n",
      "[LightGBM] [Debug] Trained a tree with leaves = 31 and depth = 7\n",
      "[LightGBM] [Debug] Trained a tree with leaves = 31 and depth = 7\n",
      "[LightGBM] [Debug] Trained a tree with leaves = 31 and depth = 7\n",
      "[LightGBM] [Debug] Trained a tree with leaves = 31 and depth = 7\n",
      "[LightGBM] [Debug] Trained a tree with leaves = 31 and depth = 7\n",
      "[LightGBM] [Debug] Trained a tree with leaves = 31 and depth = 7\n",
      "[LightGBM] [Debug] Trained a tree with leaves = 31 and depth = 7\n",
      "[LightGBM] [Debug] Trained a tree with leaves = 31 and depth = 7\n",
      "[LightGBM] [Debug] Trained a tree with leaves = 31 and depth = 7\n",
      "[LightGBM] [Debug] Trained a tree with leaves = 31 and depth = 7\n",
      "[LightGBM] [Debug] Trained a tree with leaves = 31 and depth = 7\n",
      "[LightGBM] [Debug] Trained a tree with leaves = 31 and depth = 7\n",
      "[LightGBM] [Debug] Trained a tree with leaves = 31 and depth = 7\n",
      "[LightGBM] [Debug] Trained a tree with leaves = 31 and depth = 7\n",
      "[LightGBM] [Debug] Trained a tree with leaves = 31 and depth = 7\n",
      "[LightGBM] [Debug] Trained a tree with leaves = 31 and depth = 7\n",
      "[LightGBM] [Debug] Trained a tree with leaves = 31 and depth = 7\n",
      "[LightGBM] [Debug] Trained a tree with leaves = 31 and depth = 7\n",
      "[LightGBM] [Debug] Trained a tree with leaves = 31 and depth = 7\n",
      "[LightGBM] [Debug] Trained a tree with leaves = 31 and depth = 7\n",
      "[LightGBM] [Debug] Trained a tree with leaves = 31 and depth = 7\n",
      "[LightGBM] [Debug] Trained a tree with leaves = 31 and depth = 7\n",
      "[LightGBM] [Debug] Trained a tree with leaves = 31 and depth = 7\n",
      "[LightGBM] [Debug] Trained a tree with leaves = 31 and depth = 7\n",
      "[LightGBM] [Debug] Trained a tree with leaves = 31 and depth = 7\n",
      "[LightGBM] [Debug] Trained a tree with leaves = 31 and depth = 7\n",
      "[LightGBM] [Debug] Trained a tree with leaves = 31 and depth = 7\n",
      "[LightGBM] [Debug] Trained a tree with leaves = 31 and depth = 7\n",
      "[LightGBM] [Debug] Trained a tree with leaves = 31 and depth = 7\n",
      "[LightGBM] [Debug] Trained a tree with leaves = 31 and depth = 7\n",
      "[LightGBM] [Debug] Trained a tree with leaves = 31 and depth = 7\n",
      "[LightGBM] [Debug] Trained a tree with leaves = 31 and depth = 7\n",
      "[LightGBM] [Debug] Trained a tree with leaves = 31 and depth = 7\n",
      "[LightGBM] [Debug] Trained a tree with leaves = 31 and depth = 7\n",
      "[LightGBM] [Debug] Trained a tree with leaves = 31 and depth = 7\n",
      "[LightGBM] [Debug] Trained a tree with leaves = 31 and depth = 7\n",
      "[LightGBM] [Debug] Trained a tree with leaves = 31 and depth = 7\n",
      "[LightGBM] [Debug] Trained a tree with leaves = 31 and depth = 7\n",
      "[LightGBM] [Debug] Trained a tree with leaves = 31 and depth = 7\n",
      "[LightGBM] [Debug] Trained a tree with leaves = 31 and depth = 7\n",
      "[LightGBM] [Debug] Trained a tree with leaves = 31 and depth = 7\n",
      "[LightGBM] [Debug] Trained a tree with leaves = 31 and depth = 7\n",
      "[LightGBM] [Debug] Trained a tree with leaves = 31 and depth = 7\n",
      "[LightGBM] [Debug] Trained a tree with leaves = 31 and depth = 7\n",
      "[LightGBM] [Debug] Trained a tree with leaves = 31 and depth = 7\n",
      "[LightGBM] [Debug] Trained a tree with leaves = 31 and depth = 7\n",
      "[LightGBM] [Debug] Trained a tree with leaves = 31 and depth = 7\n",
      "[LightGBM] [Debug] Trained a tree with leaves = 31 and depth = 7\n",
      "[LightGBM] [Debug] Trained a tree with leaves = 31 and depth = 7\n",
      "[LightGBM] [Debug] Trained a tree with leaves = 31 and depth = 7\n",
      "[LightGBM] [Debug] Trained a tree with leaves = 31 and depth = 7\n",
      "[LightGBM] [Debug] Trained a tree with leaves = 31 and depth = 7\n",
      "[LightGBM] [Debug] Trained a tree with leaves = 31 and depth = 7\n",
      "[LightGBM] [Debug] Trained a tree with leaves = 31 and depth = 7\n",
      "[LightGBM] [Debug] Trained a tree with leaves = 31 and depth = 7\n",
      "[LightGBM] [Debug] Trained a tree with leaves = 31 and depth = 7\n",
      "[LightGBM] [Debug] Trained a tree with leaves = 31 and depth = 7\n",
      "[LightGBM] [Debug] Trained a tree with leaves = 31 and depth = 7\n",
      "[LightGBM] [Debug] Trained a tree with leaves = 31 and depth = 7\n",
      "[LightGBM] [Debug] Trained a tree with leaves = 31 and depth = 7\n",
      "[LightGBM] [Debug] Trained a tree with leaves = 31 and depth = 7\n",
      "[LightGBM] [Debug] Trained a tree with leaves = 31 and depth = 7\n",
      "[LightGBM] [Debug] Trained a tree with leaves = 31 and depth = 7\n",
      "[LightGBM] [Debug] Trained a tree with leaves = 31 and depth = 7\n",
      "[LightGBM] [Debug] Trained a tree with leaves = 31 and depth = 7\n",
      "[LightGBM] [Debug] Trained a tree with leaves = 31 and depth = 7\n",
      "[LightGBM] [Debug] Trained a tree with leaves = 31 and depth = 7\n",
      "[LightGBM] [Debug] Trained a tree with leaves = 31 and depth = 7\n",
      "[LightGBM] [Debug] Trained a tree with leaves = 31 and depth = 7\n",
      "[LightGBM] [Debug] Trained a tree with leaves = 31 and depth = 7\n",
      "[LightGBM] [Debug] Trained a tree with leaves = 31 and depth = 7\n"
     ]
    },
    {
     "data": {
      "text/plain": [
       "LGBMClassifier(bootstrap=True, max_depth=7, max_leaf_nodes=187,\n",
       "               max_samples=8940, min_samples_leaf=56, min_samples_split=34,\n",
       "               n_estimators=260, verbose=2)"
      ]
     },
     "execution_count": 213,
     "metadata": {},
     "output_type": "execute_result"
    }
   ],
   "source": [
    "lightgbm_rfc = LGBMClassifier(**clf.best_params_, verbose=2, bootstrap=True)\n",
    "lightgbm_rfc.fit(train_X, np.ravel(train_y))"
   ]
  },
  {
   "cell_type": "code",
   "execution_count": 48,
   "id": "97736f04-faa0-4048-a3e0-d0c8bc755c0e",
   "metadata": {},
   "outputs": [
    {
     "data": {
      "text/plain": [
       "0.500518800179682"
      ]
     },
     "execution_count": 48,
     "metadata": {},
     "output_type": "execute_result"
    }
   ],
   "source": [
    "y_pred = my_clf.predict(valid_X)\n",
    "accuracy_score(valid_y, y_pred)"
   ]
  },
  {
   "cell_type": "code",
   "execution_count": 192,
   "id": "9f478afe-5bca-44ef-bb43-a059a23c7d12",
   "metadata": {},
   "outputs": [
    {
     "data": {
      "text/plain": [
       "0.5000127136518436"
      ]
     },
     "execution_count": 192,
     "metadata": {},
     "output_type": "execute_result"
    }
   ],
   "source": [
    "y_pred = my_clf.predict_proba(valid_X)\n",
    "roc_auc_score(valid_y, y_pred[:, 1])"
   ]
  },
  {
   "cell_type": "code",
   "execution_count": 49,
   "id": "2e0adaae-aa70-4ec5-aa18-7865869c0a4f",
   "metadata": {},
   "outputs": [
    {
     "name": "stderr",
     "output_type": "stream",
     "text": [
      "[Parallel(n_jobs=1)]: Using backend SequentialBackend with 1 concurrent workers.\n",
      "[Parallel(n_jobs=1)]: Done   1 out of   1 | elapsed:    0.0s remaining:    0.0s\n",
      "[Parallel(n_jobs=1)]: Done 260 out of 260 | elapsed:    6.1s finished\n"
     ]
    },
    {
     "data": {
      "text/plain": [
       "0.5596873279892697"
      ]
     },
     "execution_count": 49,
     "metadata": {},
     "output_type": "execute_result"
    }
   ],
   "source": [
    "y_pred = rfc_sklearn.predict(valid_X)\n",
    "accuracy_score(valid_y, y_pred)"
   ]
  },
  {
   "cell_type": "code",
   "execution_count": 131,
   "id": "981fdba8-9f1d-4fad-b83f-2d6dbb4da3c4",
   "metadata": {},
   "outputs": [
    {
     "name": "stderr",
     "output_type": "stream",
     "text": [
      "[Parallel(n_jobs=1)]: Using backend SequentialBackend with 1 concurrent workers.\n",
      "[Parallel(n_jobs=1)]: Done   1 out of   1 | elapsed:    0.0s remaining:    0.0s\n",
      "[Parallel(n_jobs=1)]: Done 260 out of 260 | elapsed:    6.7s finished\n"
     ]
    },
    {
     "data": {
      "text/plain": [
       "0.5857196154081727"
      ]
     },
     "execution_count": 131,
     "metadata": {},
     "output_type": "execute_result"
    }
   ],
   "source": [
    "y_pred = rfc_sklearn.predict_proba(valid_X)\n",
    "roc_auc_score(valid_y, y_pred[:, 1])"
   ]
  },
  {
   "cell_type": "code",
   "execution_count": 50,
   "id": "d11bc846-a801-411d-b38c-eab270c3ad5f",
   "metadata": {},
   "outputs": [
    {
     "data": {
      "text/plain": [
       "0.7227582454430996"
      ]
     },
     "execution_count": 50,
     "metadata": {},
     "output_type": "execute_result"
    }
   ],
   "source": [
    "y_pred = lightgbm_rfc.predict(valid_X)\n",
    "accuracy_score(valid_y, y_pred)"
   ]
  },
  {
   "cell_type": "code",
   "execution_count": 155,
   "id": "45901f33-7d40-423f-83f4-48156c703dba",
   "metadata": {},
   "outputs": [
    {
     "data": {
      "text/plain": [
       "0.7871992319241768"
      ]
     },
     "execution_count": 155,
     "metadata": {},
     "output_type": "execute_result"
    }
   ],
   "source": [
    "y_pred = lightgbm_rfc.predict_proba(valid_X)\n",
    "roc_auc_score(valid_y, y_pred[:, 1])"
   ]
  },
  {
   "cell_type": "code",
   "execution_count": 53,
   "id": "9c9a6c74-d649-47c7-b88c-3ffc3eceae79",
   "metadata": {},
   "outputs": [
    {
     "name": "stdout",
     "output_type": "stream",
     "text": [
      "1min 27s ± 3.49 s per loop (mean ± std. dev. of 7 runs, 1 loop each)\n"
     ]
    }
   ],
   "source": [
    "%timeit my_clf.predict_proba(impured_test_X)"
   ]
  },
  {
   "cell_type": "code",
   "execution_count": 54,
   "id": "8fc904a5-4c73-461b-843d-d85f7ab047b7",
   "metadata": {},
   "outputs": [
    {
     "name": "stderr",
     "output_type": "stream",
     "text": [
      "[Parallel(n_jobs=1)]: Using backend SequentialBackend with 1 concurrent workers.\n",
      "[Parallel(n_jobs=1)]: Done   1 out of   1 | elapsed:    0.1s remaining:    0.0s\n",
      "[Parallel(n_jobs=1)]: Done 260 out of 260 | elapsed:    9.6s finished\n",
      "[Parallel(n_jobs=1)]: Using backend SequentialBackend with 1 concurrent workers.\n",
      "[Parallel(n_jobs=1)]: Done   1 out of   1 | elapsed:    0.0s remaining:    0.0s\n",
      "[Parallel(n_jobs=1)]: Done 260 out of 260 | elapsed:    9.3s finished\n",
      "[Parallel(n_jobs=1)]: Using backend SequentialBackend with 1 concurrent workers.\n",
      "[Parallel(n_jobs=1)]: Done   1 out of   1 | elapsed:    0.0s remaining:    0.0s\n",
      "[Parallel(n_jobs=1)]: Done 260 out of 260 | elapsed:    9.5s finished\n",
      "[Parallel(n_jobs=1)]: Using backend SequentialBackend with 1 concurrent workers.\n",
      "[Parallel(n_jobs=1)]: Done   1 out of   1 | elapsed:    0.0s remaining:    0.0s\n",
      "[Parallel(n_jobs=1)]: Done 260 out of 260 | elapsed:   10.0s finished\n",
      "[Parallel(n_jobs=1)]: Using backend SequentialBackend with 1 concurrent workers.\n",
      "[Parallel(n_jobs=1)]: Done   1 out of   1 | elapsed:    0.0s remaining:    0.0s\n",
      "[Parallel(n_jobs=1)]: Done 260 out of 260 | elapsed:    9.6s finished\n",
      "[Parallel(n_jobs=1)]: Using backend SequentialBackend with 1 concurrent workers.\n",
      "[Parallel(n_jobs=1)]: Done   1 out of   1 | elapsed:    0.0s remaining:    0.0s\n",
      "[Parallel(n_jobs=1)]: Done 260 out of 260 | elapsed:    9.5s finished\n",
      "[Parallel(n_jobs=1)]: Using backend SequentialBackend with 1 concurrent workers.\n",
      "[Parallel(n_jobs=1)]: Done   1 out of   1 | elapsed:    0.0s remaining:    0.0s\n",
      "[Parallel(n_jobs=1)]: Done 260 out of 260 | elapsed:    9.8s finished\n",
      "[Parallel(n_jobs=1)]: Using backend SequentialBackend with 1 concurrent workers.\n",
      "[Parallel(n_jobs=1)]: Done   1 out of   1 | elapsed:    0.0s remaining:    0.0s\n"
     ]
    },
    {
     "name": "stdout",
     "output_type": "stream",
     "text": [
      "9.87 s ± 258 ms per loop (mean ± std. dev. of 7 runs, 1 loop each)\n"
     ]
    },
    {
     "name": "stderr",
     "output_type": "stream",
     "text": [
      "[Parallel(n_jobs=1)]: Done 260 out of 260 | elapsed:   10.0s finished\n"
     ]
    }
   ],
   "source": [
    "%timeit rfc_sklearn.predict_proba(impured_test_X)"
   ]
  },
  {
   "cell_type": "code",
   "execution_count": 55,
   "id": "5095c8a1-e750-45a7-81d6-522bfeef0779",
   "metadata": {},
   "outputs": [
    {
     "name": "stdout",
     "output_type": "stream",
     "text": [
      "5.03 s ± 782 ms per loop (mean ± std. dev. of 7 runs, 1 loop each)\n"
     ]
    }
   ],
   "source": [
    "%timeit lightgbm_rfc.predict_proba(impured_test_X)"
   ]
  },
  {
   "cell_type": "code",
   "execution_count": 197,
   "id": "4c6a34a0-dd20-4594-8f89-8fb6e00069fa",
   "metadata": {},
   "outputs": [],
   "source": [
    "class MyEnsemble:\n",
    "    def __init__(self, n_estimators=100, criterion='gini',\n",
    "                 max_depth=None, min_samples_split=2,\n",
    "                 min_samples_leaf=1, min_weight_fraction_leaf=0.0,\n",
    "                 max_features='auto', max_leaf_nodes=None, min_impurity_decrease=0.0,\n",
    "                 min_impurity_split=None, bootstrap=True, random_state=None, max_samples=None):\n",
    "        self.n_estimators = n_estimators\n",
    "        self.criterion = criterion\n",
    "        self.max_depth = max_depth\n",
    "        self.min_samples_split = min_samples_split\n",
    "        self.min_samples_leaf = min_samples_leaf\n",
    "        self.min_weight_fraction_leaf = min_weight_fraction_leaf\n",
    "        self.max_features = max_features\n",
    "        self.max_leaf_nodes = max_leaf_nodes\n",
    "        self.min_impurity_decrease = min_impurity_decrease\n",
    "        # self.min_impurity_split = min_impurity_split\n",
    "        self.bootstrap = bootstrap\n",
    "        self.random_state = random_state\n",
    "        self.max_samples = max_samples\n",
    "\n",
    "        self.my_random_forest = MyRandomForestClassifier(n_estimators=self.n_estimators, criterion=self.criterion, \n",
    "                                                         max_depth=self.max_depth, min_samples_split=self.min_samples_split, \n",
    "                                                         min_samples_leaf=self.min_samples_leaf, min_weight_fraction_leaf=self.min_weight_fraction_leaf, \n",
    "                                                         max_features=self.max_features, max_leaf_nodes=self.max_leaf_nodes, \n",
    "                                                         min_impurity_decrease=self.min_impurity_decrease, bootstrap=self.bootstrap, \n",
    "                                                         random_state=self.random_state, max_samples=self.max_samples)\n",
    "        \n",
    "        self.sklearn_rfc = RandomForestClassifier(n_estimators=self.n_estimators, criterion=self.criterion, \n",
    "                                                  max_depth=self.max_depth, min_samples_split=self.min_samples_split, \n",
    "                                                  min_samples_leaf=self.min_samples_leaf, min_weight_fraction_leaf=self.min_weight_fraction_leaf, \n",
    "                                                  max_features=self.max_features, max_leaf_nodes=self.max_leaf_nodes, \n",
    "                                                  min_impurity_decrease=self.min_impurity_decrease, bootstrap=self.bootstrap, \n",
    "                                                  random_state=self.random_state, max_samples=self.max_samples)\n",
    "        \n",
    "        self.lightgbm_rfc = LGBMClassifier(n_estimators=self.n_estimators, criterion=self.criterion, \n",
    "                                           max_depth=self.max_depth, min_samples_split=self.min_samples_split, \n",
    "                                           min_samples_leaf=self.min_samples_leaf, min_weight_fraction_leaf=self.min_weight_fraction_leaf, \n",
    "                                           max_features=self.max_features, max_leaf_nodes=self.max_leaf_nodes, \n",
    "                                           min_impurity_decrease=self.min_impurity_decrease, bootstrap=self.bootstrap, \n",
    "                                           random_state=self.random_state, max_samples=self.max_samples)\n",
    "        \n",
    "    def fit(self, x, y):\n",
    "        samples_count = x.shape[0]\n",
    "        if self.max_samples is not None:\n",
    "            samples_count = self.max_samples\n",
    "\n",
    "        bootstrapped_x = pd.DataFrame()\n",
    "        bootstrapped_y = pd.DataFrame()\n",
    "\n",
    "        bootstrapped_rows = np.random.choice(x.shape[0], samples_count, replace=self.bootstrap)\n",
    "        bootstrapped_x = x.iloc[bootstrapped_rows]\n",
    "        bootstrapped_y = y.iloc[bootstrapped_rows]\n",
    "        \n",
    "        self.my_random_forest.fit(bootstrapped_x, bootstrapped_y)\n",
    "        self.sklearn_rfc.fit(bootstrapped_x, np.ravel(bootstrapped_y))\n",
    "        self.lightgbm_rfc.fit(bootstrapped_x, np.ravel(bootstrapped_y))\n",
    "\n",
    "    def predict(self, x):\n",
    "        ones = [0 for i in range(x.shape[0])]\n",
    "\n",
    "        predictions = list(self.my_random_forest.predict(x))\n",
    "        for i, val in enumerate(predictions):\n",
    "            ones[i] += val\n",
    "            \n",
    "        predictions = list(self.sklearn_rfc.predict(x))\n",
    "        for i, val in enumerate(predictions):\n",
    "            ones[i] += val\n",
    "\n",
    "        predictions = list(self.lightgbm_rfc.predict(x))\n",
    "        for i, val in enumerate(predictions):\n",
    "            ones[i] += val\n",
    "    \n",
    "        predictions = [1 if x > 1 else 0 for x in ones]\n",
    "        return pd.Series(predictions)\n",
    "    \n",
    "    def predict_proba(self, x):\n",
    "        ones_probabilities = [0 for i in range(x.shape[0])]\n",
    "\n",
    "        predictions = self.my_random_forest.predict_proba(x)\n",
    "        for i, val in enumerate(predictions[:, 1]):\n",
    "            ones_probabilities[i] += val\n",
    "            \n",
    "        predictions = self.sklearn_rfc.predict_proba(x)\n",
    "        for i, val in enumerate(predictions[:, 1]):\n",
    "            ones_probabilities[i] += val\n",
    "\n",
    "        predictions = self.lightgbm_rfc.predict_proba(x)\n",
    "        for i, val in enumerate(predictions[:, 1]):\n",
    "            ones_probabilities[i] += val\n",
    "        \n",
    "        ones_probabilities = [x / 3 for x in ones_probabilities]\n",
    "        zeroes_probabilities = [1 - p for p in ones_probabilities]\n",
    "        probabilities = np.array([zeroes_probabilities, ones_probabilities])\n",
    "        return probabilities.transpose()"
   ]
  },
  {
   "cell_type": "code",
   "execution_count": 198,
   "id": "dbb72898-4eaa-479f-8420-9347a334eea2",
   "metadata": {},
   "outputs": [],
   "source": [
    "my_ensemble = MyEnsemble(**clf.best_params_, bootstrap=True)"
   ]
  },
  {
   "cell_type": "code",
   "execution_count": 200,
   "id": "08515458-2972-4787-b7d7-805eeac35e48",
   "metadata": {},
   "outputs": [],
   "source": [
    "my_ensemble.fit(train_X, train_y)"
   ]
  },
  {
   "cell_type": "code",
   "execution_count": 140,
   "id": "3ade3695-6956-4cc9-ab7b-18386fb39dca",
   "metadata": {},
   "outputs": [],
   "source": [
    "y_pred = my_ensemble.predict(valid_X)"
   ]
  },
  {
   "cell_type": "code",
   "execution_count": 141,
   "id": "7fba3aa8-69fa-42a5-b714-abf489799820",
   "metadata": {},
   "outputs": [
    {
     "data": {
      "text/plain": [
       "0.5494188805304415"
      ]
     },
     "execution_count": 141,
     "metadata": {},
     "output_type": "execute_result"
    }
   ],
   "source": [
    "accuracy_score(valid_y, y_pred)"
   ]
  },
  {
   "cell_type": "code",
   "execution_count": 201,
   "id": "abc56e4f-03f4-4bc7-9ed8-dbf32aa1fab1",
   "metadata": {},
   "outputs": [],
   "source": [
    "y_pred = my_ensemble.predict_proba(valid_X)"
   ]
  },
  {
   "cell_type": "code",
   "execution_count": 202,
   "id": "708f0e47-6e21-4478-81d7-e6472bb2a891",
   "metadata": {},
   "outputs": [
    {
     "data": {
      "text/plain": [
       "0.5877384629348268"
      ]
     },
     "execution_count": 202,
     "metadata": {},
     "output_type": "execute_result"
    }
   ],
   "source": [
    "roc_auc_score(valid_y, y_pred[:, 1])"
   ]
  },
  {
   "cell_type": "code",
   "execution_count": 214,
   "id": "9f247ed4-5a7e-446d-b926-60e48eaf5bef",
   "metadata": {},
   "outputs": [],
   "source": [
    "# y_pred = lightgbm_rfc.predict_proba(impured_test)\n",
    "# y_pred = rfc_sklearn.predict_proba(impured_test)\n",
    "y_pred = my_clf.predict_proba(impured_test)\n",
    "# y_pred = my_ensemble.predict_proba(impured_test)"
   ]
  },
  {
   "cell_type": "code",
   "execution_count": 215,
   "id": "d3a2b2ee-d284-4e79-8a22-c9d1496e3f53",
   "metadata": {},
   "outputs": [],
   "source": [
    "y_pred = pd.DataFrame(data={\n",
    "    'id': test_data.id, \n",
    "    'claim': y_pred[:, 1]}, index=impured_test.index)"
   ]
  },
  {
   "cell_type": "code",
   "execution_count": 216,
   "id": "4842542c-adac-42ff-812c-f24d6cac874d",
   "metadata": {},
   "outputs": [
    {
     "data": {
      "text/html": [
       "<div>\n",
       "<style scoped>\n",
       "    .dataframe tbody tr th:only-of-type {\n",
       "        vertical-align: middle;\n",
       "    }\n",
       "\n",
       "    .dataframe tbody tr th {\n",
       "        vertical-align: top;\n",
       "    }\n",
       "\n",
       "    .dataframe thead th {\n",
       "        text-align: right;\n",
       "    }\n",
       "</style>\n",
       "<table border=\"1\" class=\"dataframe\">\n",
       "  <thead>\n",
       "    <tr style=\"text-align: right;\">\n",
       "      <th></th>\n",
       "      <th>id</th>\n",
       "      <th>claim</th>\n",
       "    </tr>\n",
       "  </thead>\n",
       "  <tbody>\n",
       "    <tr>\n",
       "      <th>0</th>\n",
       "      <td>957919</td>\n",
       "      <td>0.588181</td>\n",
       "    </tr>\n",
       "    <tr>\n",
       "      <th>1</th>\n",
       "      <td>957920</td>\n",
       "      <td>0.493084</td>\n",
       "    </tr>\n",
       "    <tr>\n",
       "      <th>2</th>\n",
       "      <td>957921</td>\n",
       "      <td>0.540083</td>\n",
       "    </tr>\n",
       "    <tr>\n",
       "      <th>3</th>\n",
       "      <td>957922</td>\n",
       "      <td>0.588266</td>\n",
       "    </tr>\n",
       "    <tr>\n",
       "      <th>4</th>\n",
       "      <td>957923</td>\n",
       "      <td>0.556272</td>\n",
       "    </tr>\n",
       "    <tr>\n",
       "      <th>...</th>\n",
       "      <td>...</td>\n",
       "      <td>...</td>\n",
       "    </tr>\n",
       "    <tr>\n",
       "      <th>493469</th>\n",
       "      <td>1451388</td>\n",
       "      <td>0.000000</td>\n",
       "    </tr>\n",
       "    <tr>\n",
       "      <th>493470</th>\n",
       "      <td>1451389</td>\n",
       "      <td>0.000000</td>\n",
       "    </tr>\n",
       "    <tr>\n",
       "      <th>493471</th>\n",
       "      <td>1451390</td>\n",
       "      <td>0.000000</td>\n",
       "    </tr>\n",
       "    <tr>\n",
       "      <th>493472</th>\n",
       "      <td>1451391</td>\n",
       "      <td>0.000000</td>\n",
       "    </tr>\n",
       "    <tr>\n",
       "      <th>493473</th>\n",
       "      <td>1451392</td>\n",
       "      <td>0.000000</td>\n",
       "    </tr>\n",
       "  </tbody>\n",
       "</table>\n",
       "<p>493474 rows × 2 columns</p>\n",
       "</div>"
      ],
      "text/plain": [
       "             id     claim\n",
       "0        957919  0.588181\n",
       "1        957920  0.493084\n",
       "2        957921  0.540083\n",
       "3        957922  0.588266\n",
       "4        957923  0.556272\n",
       "...         ...       ...\n",
       "493469  1451388  0.000000\n",
       "493470  1451389  0.000000\n",
       "493471  1451390  0.000000\n",
       "493472  1451391  0.000000\n",
       "493473  1451392  0.000000\n",
       "\n",
       "[493474 rows x 2 columns]"
      ]
     },
     "execution_count": 216,
     "metadata": {},
     "output_type": "execute_result"
    }
   ],
   "source": [
    "y_pred"
   ]
  },
  {
   "cell_type": "code",
   "execution_count": 217,
   "id": "f52c468a-7724-4cb3-b904-94032799b837",
   "metadata": {},
   "outputs": [],
   "source": [
    "pd.DataFrame(y_pred).to_csv('my_clf_solution.csv',\n",
    "        columns=['id', 'claim'], index=False)"
   ]
  },
  {
   "cell_type": "code",
   "execution_count": null,
   "id": "2caef2de-d747-473d-ad01-d7d1f397b902",
   "metadata": {},
   "outputs": [],
   "source": []
  },
  {
   "cell_type": "code",
   "execution_count": null,
   "id": "255afbf2-dd77-427a-a8fa-f13acaccee14",
   "metadata": {},
   "outputs": [],
   "source": []
  }
 ],
 "metadata": {
  "kernelspec": {
   "display_name": "Python 3",
   "language": "python",
   "name": "python3"
  },
  "language_info": {
   "codemirror_mode": {
    "name": "ipython",
    "version": 3
   },
   "file_extension": ".py",
   "mimetype": "text/x-python",
   "name": "python",
   "nbconvert_exporter": "python",
   "pygments_lexer": "ipython3",
   "version": "3.8.8"
  }
 },
 "nbformat": 4,
 "nbformat_minor": 5
}
