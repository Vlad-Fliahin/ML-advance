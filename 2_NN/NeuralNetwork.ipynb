{
 "cells": [
  {
   "cell_type": "code",
   "execution_count": 1,
   "id": "f5eb48e2-4339-43b6-8178-e6e3206f7718",
   "metadata": {},
   "outputs": [],
   "source": [
    "import torch\n",
    "import torch.nn as nn\n",
    "import numpy as np\n",
    "import pandas as pd\n",
    "\n",
    "from sklearn.cluster import KMeans\n",
    "from sklearn.preprocessing import StandardScaler\n",
    "from sklearn.preprocessing import LabelEncoder\n",
    "from sklearn.model_selection import train_test_split\n",
    "from torch.utils.data import Dataset, DataLoader"
   ]
  },
  {
   "cell_type": "code",
   "execution_count": 2,
   "id": "fe3dd17b-80b6-4a2f-84d9-0cb0b7b0d37f",
   "metadata": {},
   "outputs": [
    {
     "data": {
      "text/plain": [
       "<torch._C.Generator at 0x7fba4e08b5d0>"
      ]
     },
     "execution_count": 2,
     "metadata": {},
     "output_type": "execute_result"
    }
   ],
   "source": [
    "SEED = 28\n",
    "np.random.seed(SEED)\n",
    "torch.manual_seed(SEED)"
   ]
  },
  {
   "cell_type": "code",
   "execution_count": 3,
   "id": "db34b879-aece-47ee-a845-210ab30db4cc",
   "metadata": {},
   "outputs": [],
   "source": [
    "train_data = pd.read_csv('train.csv')"
   ]
  },
  {
   "cell_type": "code",
   "execution_count": 4,
   "id": "a8835e35-27f7-43ff-ad72-d1888a449dbd",
   "metadata": {},
   "outputs": [
    {
     "data": {
      "text/html": [
       "<div>\n",
       "<style scoped>\n",
       "    .dataframe tbody tr th:only-of-type {\n",
       "        vertical-align: middle;\n",
       "    }\n",
       "\n",
       "    .dataframe tbody tr th {\n",
       "        vertical-align: top;\n",
       "    }\n",
       "\n",
       "    .dataframe thead th {\n",
       "        text-align: right;\n",
       "    }\n",
       "</style>\n",
       "<table border=\"1\" class=\"dataframe\">\n",
       "  <thead>\n",
       "    <tr style=\"text-align: right;\">\n",
       "      <th></th>\n",
       "      <th>Unnamed: 0</th>\n",
       "      <th>latitude</th>\n",
       "      <th>longitude</th>\n",
       "      <th>company</th>\n",
       "      <th>is_local</th>\n",
       "      <th>type</th>\n",
       "      <th>fin_1</th>\n",
       "      <th>fin_2</th>\n",
       "      <th>fin_3</th>\n",
       "      <th>fin_4</th>\n",
       "      <th>target</th>\n",
       "    </tr>\n",
       "  </thead>\n",
       "  <tbody>\n",
       "    <tr>\n",
       "      <th>0</th>\n",
       "      <td>0</td>\n",
       "      <td>40.10891</td>\n",
       "      <td>-83.09286</td>\n",
       "      <td>8336</td>\n",
       "      <td>0</td>\n",
       "      <td>3</td>\n",
       "      <td>-135060.089443</td>\n",
       "      <td>86013.396489</td>\n",
       "      <td>1206.094242</td>\n",
       "      <td>52287.082257</td>\n",
       "      <td>0</td>\n",
       "    </tr>\n",
       "    <tr>\n",
       "      <th>1</th>\n",
       "      <td>1</td>\n",
       "      <td>39.86542</td>\n",
       "      <td>-84.06280</td>\n",
       "      <td>18403</td>\n",
       "      <td>1</td>\n",
       "      <td>0</td>\n",
       "      <td>-1766.845055</td>\n",
       "      <td>14985.640180</td>\n",
       "      <td>477.494992</td>\n",
       "      <td>168836.215743</td>\n",
       "      <td>1</td>\n",
       "    </tr>\n",
       "    <tr>\n",
       "      <th>2</th>\n",
       "      <td>2</td>\n",
       "      <td>39.10266</td>\n",
       "      <td>-84.52468</td>\n",
       "      <td>14022</td>\n",
       "      <td>0</td>\n",
       "      <td>3</td>\n",
       "      <td>-177302.873693</td>\n",
       "      <td>44881.958005</td>\n",
       "      <td>1463.339889</td>\n",
       "      <td>130388.243325</td>\n",
       "      <td>0</td>\n",
       "    </tr>\n",
       "    <tr>\n",
       "      <th>3</th>\n",
       "      <td>3</td>\n",
       "      <td>39.10148</td>\n",
       "      <td>-84.52341</td>\n",
       "      <td>11051</td>\n",
       "      <td>0</td>\n",
       "      <td>0</td>\n",
       "      <td>209049.997460</td>\n",
       "      <td>0.000000</td>\n",
       "      <td>95.340075</td>\n",
       "      <td>103267.727546</td>\n",
       "      <td>1</td>\n",
       "    </tr>\n",
       "    <tr>\n",
       "      <th>4</th>\n",
       "      <td>4</td>\n",
       "      <td>41.06213</td>\n",
       "      <td>-81.53784</td>\n",
       "      <td>3243</td>\n",
       "      <td>0</td>\n",
       "      <td>3</td>\n",
       "      <td>8669.269507</td>\n",
       "      <td>0.000000</td>\n",
       "      <td>399.421926</td>\n",
       "      <td>177532.206618</td>\n",
       "      <td>1</td>\n",
       "    </tr>\n",
       "  </tbody>\n",
       "</table>\n",
       "</div>"
      ],
      "text/plain": [
       "   Unnamed: 0  latitude  longitude  company  is_local  type          fin_1  \\\n",
       "0           0  40.10891  -83.09286     8336         0     3 -135060.089443   \n",
       "1           1  39.86542  -84.06280    18403         1     0   -1766.845055   \n",
       "2           2  39.10266  -84.52468    14022         0     3 -177302.873693   \n",
       "3           3  39.10148  -84.52341    11051         0     0  209049.997460   \n",
       "4           4  41.06213  -81.53784     3243         0     3    8669.269507   \n",
       "\n",
       "          fin_2        fin_3          fin_4  target  \n",
       "0  86013.396489  1206.094242   52287.082257       0  \n",
       "1  14985.640180   477.494992  168836.215743       1  \n",
       "2  44881.958005  1463.339889  130388.243325       0  \n",
       "3      0.000000    95.340075  103267.727546       1  \n",
       "4      0.000000   399.421926  177532.206618       1  "
      ]
     },
     "execution_count": 4,
     "metadata": {},
     "output_type": "execute_result"
    }
   ],
   "source": [
    "train_data.head()"
   ]
  },
  {
   "cell_type": "code",
   "execution_count": 5,
   "id": "4c0fd438-b081-4ceb-b9e0-7f11a40b640f",
   "metadata": {},
   "outputs": [
    {
     "name": "stdout",
     "output_type": "stream",
     "text": [
      "<class 'pandas.core.frame.DataFrame'>\n",
      "RangeIndex: 160001 entries, 0 to 160000\n",
      "Data columns (total 11 columns):\n",
      " #   Column      Non-Null Count   Dtype  \n",
      "---  ------      --------------   -----  \n",
      " 0   Unnamed: 0  160001 non-null  int64  \n",
      " 1   latitude    160001 non-null  float64\n",
      " 2   longitude   160001 non-null  float64\n",
      " 3   company     160001 non-null  int64  \n",
      " 4   is_local    160001 non-null  int64  \n",
      " 5   type        160001 non-null  int64  \n",
      " 6   fin_1       160001 non-null  float64\n",
      " 7   fin_2       160001 non-null  float64\n",
      " 8   fin_3       160001 non-null  float64\n",
      " 9   fin_4       160001 non-null  float64\n",
      " 10  target      160001 non-null  int64  \n",
      "dtypes: float64(6), int64(5)\n",
      "memory usage: 13.4 MB\n"
     ]
    }
   ],
   "source": [
    "train_data.info()"
   ]
  },
  {
   "cell_type": "code",
   "execution_count": 6,
   "id": "843f40cc-5579-4404-82dc-a2ebf5efd497",
   "metadata": {},
   "outputs": [
    {
     "data": {
      "text/html": [
       "<div>\n",
       "<style scoped>\n",
       "    .dataframe tbody tr th:only-of-type {\n",
       "        vertical-align: middle;\n",
       "    }\n",
       "\n",
       "    .dataframe tbody tr th {\n",
       "        vertical-align: top;\n",
       "    }\n",
       "\n",
       "    .dataframe thead th {\n",
       "        text-align: right;\n",
       "    }\n",
       "</style>\n",
       "<table border=\"1\" class=\"dataframe\">\n",
       "  <thead>\n",
       "    <tr style=\"text-align: right;\">\n",
       "      <th></th>\n",
       "      <th>Unnamed: 0</th>\n",
       "      <th>latitude</th>\n",
       "      <th>longitude</th>\n",
       "      <th>company</th>\n",
       "      <th>is_local</th>\n",
       "      <th>type</th>\n",
       "      <th>fin_1</th>\n",
       "      <th>fin_2</th>\n",
       "      <th>fin_3</th>\n",
       "      <th>fin_4</th>\n",
       "      <th>target</th>\n",
       "    </tr>\n",
       "  </thead>\n",
       "  <tbody>\n",
       "    <tr>\n",
       "      <th>count</th>\n",
       "      <td>160001.000000</td>\n",
       "      <td>160001.000000</td>\n",
       "      <td>160001.000000</td>\n",
       "      <td>160001.000000</td>\n",
       "      <td>160001.000000</td>\n",
       "      <td>160001.000000</td>\n",
       "      <td>160001.000000</td>\n",
       "      <td>160001.000000</td>\n",
       "      <td>160001.000000</td>\n",
       "      <td>160001.000000</td>\n",
       "      <td>160001.000000</td>\n",
       "    </tr>\n",
       "    <tr>\n",
       "      <th>mean</th>\n",
       "      <td>80000.000000</td>\n",
       "      <td>35.954746</td>\n",
       "      <td>-93.058963</td>\n",
       "      <td>9582.472441</td>\n",
       "      <td>0.157868</td>\n",
       "      <td>2.313473</td>\n",
       "      <td>19753.432114</td>\n",
       "      <td>23521.645197</td>\n",
       "      <td>532.059032</td>\n",
       "      <td>98648.629590</td>\n",
       "      <td>0.595109</td>\n",
       "    </tr>\n",
       "    <tr>\n",
       "      <th>std</th>\n",
       "      <td>46188.454548</td>\n",
       "      <td>7.561538</td>\n",
       "      <td>23.227451</td>\n",
       "      <td>5648.917690</td>\n",
       "      <td>0.364618</td>\n",
       "      <td>1.408469</td>\n",
       "      <td>109273.198383</td>\n",
       "      <td>30622.532195</td>\n",
       "      <td>502.762427</td>\n",
       "      <td>71474.973849</td>\n",
       "      <td>0.490873</td>\n",
       "    </tr>\n",
       "    <tr>\n",
       "      <th>min</th>\n",
       "      <td>0.000000</td>\n",
       "      <td>1.000000</td>\n",
       "      <td>-124.422706</td>\n",
       "      <td>1.000000</td>\n",
       "      <td>0.000000</td>\n",
       "      <td>0.000000</td>\n",
       "      <td>-551041.674432</td>\n",
       "      <td>0.000000</td>\n",
       "      <td>1.000000</td>\n",
       "      <td>0.000000</td>\n",
       "      <td>0.000000</td>\n",
       "    </tr>\n",
       "    <tr>\n",
       "      <th>25%</th>\n",
       "      <td>40000.000000</td>\n",
       "      <td>33.654940</td>\n",
       "      <td>-117.261500</td>\n",
       "      <td>4798.000000</td>\n",
       "      <td>0.000000</td>\n",
       "      <td>1.000000</td>\n",
       "      <td>-51898.897414</td>\n",
       "      <td>0.000000</td>\n",
       "      <td>225.118134</td>\n",
       "      <td>34551.474160</td>\n",
       "      <td>0.000000</td>\n",
       "    </tr>\n",
       "    <tr>\n",
       "      <th>50%</th>\n",
       "      <td>80000.000000</td>\n",
       "      <td>37.333530</td>\n",
       "      <td>-88.218217</td>\n",
       "      <td>10064.000000</td>\n",
       "      <td>0.000000</td>\n",
       "      <td>3.000000</td>\n",
       "      <td>16241.785927</td>\n",
       "      <td>8382.814808</td>\n",
       "      <td>391.468199</td>\n",
       "      <td>84909.879747</td>\n",
       "      <td>1.000000</td>\n",
       "    </tr>\n",
       "    <tr>\n",
       "      <th>75%</th>\n",
       "      <td>120000.000000</td>\n",
       "      <td>40.745879</td>\n",
       "      <td>-80.767440</td>\n",
       "      <td>14049.000000</td>\n",
       "      <td>0.000000</td>\n",
       "      <td>3.000000</td>\n",
       "      <td>92478.316992</td>\n",
       "      <td>40686.069965</td>\n",
       "      <td>671.480200</td>\n",
       "      <td>156391.223512</td>\n",
       "      <td>1.000000</td>\n",
       "    </tr>\n",
       "    <tr>\n",
       "      <th>max</th>\n",
       "      <td>160000.000000</td>\n",
       "      <td>49.000580</td>\n",
       "      <td>1.000000</td>\n",
       "      <td>19997.000000</td>\n",
       "      <td>1.000000</td>\n",
       "      <td>4.000000</td>\n",
       "      <td>557212.884648</td>\n",
       "      <td>205666.441401</td>\n",
       "      <td>21637.539085</td>\n",
       "      <td>249974.729832</td>\n",
       "      <td>1.000000</td>\n",
       "    </tr>\n",
       "  </tbody>\n",
       "</table>\n",
       "</div>"
      ],
      "text/plain": [
       "          Unnamed: 0       latitude      longitude        company  \\\n",
       "count  160001.000000  160001.000000  160001.000000  160001.000000   \n",
       "mean    80000.000000      35.954746     -93.058963    9582.472441   \n",
       "std     46188.454548       7.561538      23.227451    5648.917690   \n",
       "min         0.000000       1.000000    -124.422706       1.000000   \n",
       "25%     40000.000000      33.654940    -117.261500    4798.000000   \n",
       "50%     80000.000000      37.333530     -88.218217   10064.000000   \n",
       "75%    120000.000000      40.745879     -80.767440   14049.000000   \n",
       "max    160000.000000      49.000580       1.000000   19997.000000   \n",
       "\n",
       "            is_local           type          fin_1          fin_2  \\\n",
       "count  160001.000000  160001.000000  160001.000000  160001.000000   \n",
       "mean        0.157868       2.313473   19753.432114   23521.645197   \n",
       "std         0.364618       1.408469  109273.198383   30622.532195   \n",
       "min         0.000000       0.000000 -551041.674432       0.000000   \n",
       "25%         0.000000       1.000000  -51898.897414       0.000000   \n",
       "50%         0.000000       3.000000   16241.785927    8382.814808   \n",
       "75%         0.000000       3.000000   92478.316992   40686.069965   \n",
       "max         1.000000       4.000000  557212.884648  205666.441401   \n",
       "\n",
       "               fin_3          fin_4         target  \n",
       "count  160001.000000  160001.000000  160001.000000  \n",
       "mean      532.059032   98648.629590       0.595109  \n",
       "std       502.762427   71474.973849       0.490873  \n",
       "min         1.000000       0.000000       0.000000  \n",
       "25%       225.118134   34551.474160       0.000000  \n",
       "50%       391.468199   84909.879747       1.000000  \n",
       "75%       671.480200  156391.223512       1.000000  \n",
       "max     21637.539085  249974.729832       1.000000  "
      ]
     },
     "execution_count": 6,
     "metadata": {},
     "output_type": "execute_result"
    }
   ],
   "source": [
    "train_data.describe()"
   ]
  },
  {
   "cell_type": "code",
   "execution_count": 7,
   "id": "608f09fb-023f-4dfd-8f2e-83c6b496c9b5",
   "metadata": {},
   "outputs": [
    {
     "data": {
      "text/plain": [
       "Unnamed: 0    0\n",
       "latitude      0\n",
       "longitude     0\n",
       "company       0\n",
       "is_local      0\n",
       "type          0\n",
       "fin_1         0\n",
       "fin_2         0\n",
       "fin_3         0\n",
       "fin_4         0\n",
       "target        0\n",
       "dtype: int64"
      ]
     },
     "execution_count": 7,
     "metadata": {},
     "output_type": "execute_result"
    }
   ],
   "source": [
    "train_data.isnull().sum()"
   ]
  },
  {
   "cell_type": "code",
   "execution_count": 8,
   "id": "ea84cad3-0114-459f-8cb1-f5dbbde9d7ec",
   "metadata": {},
   "outputs": [],
   "source": [
    "companies = train_data.groupby('company').count().iloc[:, 0]"
   ]
  },
  {
   "cell_type": "code",
   "execution_count": 9,
   "id": "81f576a7-54d7-4251-bb22-0b5c55ae6014",
   "metadata": {},
   "outputs": [
    {
     "data": {
      "text/plain": [
       "company\n",
       "1        4302\n",
       "5         159\n",
       "6          21\n",
       "7          83\n",
       "11         33\n",
       "         ... \n",
       "19971      10\n",
       "19974      45\n",
       "19979      22\n",
       "19985      11\n",
       "19997       6\n",
       "Name: Unnamed: 0, Length: 3686, dtype: int64"
      ]
     },
     "execution_count": 9,
     "metadata": {},
     "output_type": "execute_result"
    }
   ],
   "source": [
    "companies"
   ]
  },
  {
   "cell_type": "code",
   "execution_count": 10,
   "id": "2c750df5-3c1f-4533-b16a-d85c052acdc7",
   "metadata": {},
   "outputs": [
    {
     "data": {
      "text/plain": [
       "company\n",
       "1        4302\n",
       "5         159\n",
       "6          21\n",
       "7          83\n",
       "11         33\n",
       "         ... \n",
       "19960      14\n",
       "19971      10\n",
       "19974      45\n",
       "19979      22\n",
       "19985      11\n",
       "Name: Unnamed: 0, Length: 1483, dtype: int64"
      ]
     },
     "execution_count": 10,
     "metadata": {},
     "output_type": "execute_result"
    }
   ],
   "source": [
    "companies[companies >= 10]"
   ]
  },
  {
   "cell_type": "code",
   "execution_count": 11,
   "id": "003ddcb0-a180-427e-bc60-6aa70e36ca0a",
   "metadata": {},
   "outputs": [],
   "source": [
    "companies_list_to_encode = list(companies[companies > 10].index) + [-1]"
   ]
  },
  {
   "cell_type": "code",
   "execution_count": 12,
   "id": "ef208035-c9de-4b37-a3cb-df7f0928150b",
   "metadata": {},
   "outputs": [
    {
     "data": {
      "text/plain": [
       "1385"
      ]
     },
     "execution_count": 12,
     "metadata": {},
     "output_type": "execute_result"
    }
   ],
   "source": [
    "len(companies_list_to_encode)"
   ]
  },
  {
   "cell_type": "code",
   "execution_count": 13,
   "id": "87de0fbd-9938-4884-87b5-a686cd730704",
   "metadata": {},
   "outputs": [],
   "source": [
    "le = LabelEncoder()"
   ]
  },
  {
   "cell_type": "code",
   "execution_count": 14,
   "id": "61074f28-fdca-41b9-8be9-22fb01cd155d",
   "metadata": {},
   "outputs": [
    {
     "data": {
      "text/plain": [
       "LabelEncoder()"
      ]
     },
     "execution_count": 14,
     "metadata": {},
     "output_type": "execute_result"
    }
   ],
   "source": [
    "le.fit(companies_list_to_encode)"
   ]
  },
  {
   "cell_type": "code",
   "execution_count": 15,
   "id": "7a81d448-b7ac-4b87-ae30-3a657594a1ce",
   "metadata": {},
   "outputs": [],
   "source": [
    "companies_to_replace = list(companies[companies <= 10].index)"
   ]
  },
  {
   "cell_type": "code",
   "execution_count": 16,
   "id": "b137b8e8-a666-4f6a-8f7b-de81596bcdcb",
   "metadata": {},
   "outputs": [],
   "source": [
    "train_data.company.replace(companies_to_replace, -1, inplace=True)"
   ]
  },
  {
   "cell_type": "code",
   "execution_count": 17,
   "id": "1f4f2e9a-7d83-4215-9049-c0c8ecf168a6",
   "metadata": {},
   "outputs": [
    {
     "data": {
      "text/plain": [
       "1385"
      ]
     },
     "execution_count": 17,
     "metadata": {},
     "output_type": "execute_result"
    }
   ],
   "source": [
    "train_data.company.nunique()"
   ]
  },
  {
   "cell_type": "code",
   "execution_count": 18,
   "id": "880659cb-8ccc-42cf-b2e2-0188a18b7245",
   "metadata": {},
   "outputs": [],
   "source": [
    "train_data.company = le.transform(train_data.company)"
   ]
  },
  {
   "cell_type": "code",
   "execution_count": 19,
   "id": "0f70ce62-7a6f-4f4f-b234-c602c186f877",
   "metadata": {
    "tags": []
   },
   "outputs": [
    {
     "data": {
      "text/plain": [
       "1385"
      ]
     },
     "execution_count": 19,
     "metadata": {},
     "output_type": "execute_result"
    }
   ],
   "source": [
    "train_data.company.nunique()"
   ]
  },
  {
   "cell_type": "code",
   "execution_count": 20,
   "id": "5a4432b4-8b03-46c4-9693-4791c533e05a",
   "metadata": {},
   "outputs": [],
   "source": [
    "clustering_data = train_data[['latitude', 'longitude']]"
   ]
  },
  {
   "cell_type": "code",
   "execution_count": 21,
   "id": "698b3547-1073-4ea0-9970-6bb1901b5d78",
   "metadata": {},
   "outputs": [
    {
     "data": {
      "text/html": [
       "<div>\n",
       "<style scoped>\n",
       "    .dataframe tbody tr th:only-of-type {\n",
       "        vertical-align: middle;\n",
       "    }\n",
       "\n",
       "    .dataframe tbody tr th {\n",
       "        vertical-align: top;\n",
       "    }\n",
       "\n",
       "    .dataframe thead th {\n",
       "        text-align: right;\n",
       "    }\n",
       "</style>\n",
       "<table border=\"1\" class=\"dataframe\">\n",
       "  <thead>\n",
       "    <tr style=\"text-align: right;\">\n",
       "      <th></th>\n",
       "      <th>latitude</th>\n",
       "      <th>longitude</th>\n",
       "    </tr>\n",
       "  </thead>\n",
       "  <tbody>\n",
       "    <tr>\n",
       "      <th>0</th>\n",
       "      <td>40.10891</td>\n",
       "      <td>-83.09286</td>\n",
       "    </tr>\n",
       "    <tr>\n",
       "      <th>1</th>\n",
       "      <td>39.86542</td>\n",
       "      <td>-84.06280</td>\n",
       "    </tr>\n",
       "    <tr>\n",
       "      <th>2</th>\n",
       "      <td>39.10266</td>\n",
       "      <td>-84.52468</td>\n",
       "    </tr>\n",
       "    <tr>\n",
       "      <th>3</th>\n",
       "      <td>39.10148</td>\n",
       "      <td>-84.52341</td>\n",
       "    </tr>\n",
       "    <tr>\n",
       "      <th>4</th>\n",
       "      <td>41.06213</td>\n",
       "      <td>-81.53784</td>\n",
       "    </tr>\n",
       "  </tbody>\n",
       "</table>\n",
       "</div>"
      ],
      "text/plain": [
       "   latitude  longitude\n",
       "0  40.10891  -83.09286\n",
       "1  39.86542  -84.06280\n",
       "2  39.10266  -84.52468\n",
       "3  39.10148  -84.52341\n",
       "4  41.06213  -81.53784"
      ]
     },
     "execution_count": 21,
     "metadata": {},
     "output_type": "execute_result"
    }
   ],
   "source": [
    "clustering_data.head()"
   ]
  },
  {
   "cell_type": "code",
   "execution_count": 22,
   "id": "afe62c9a-bf0a-4a4b-ab89-a76ca4471d40",
   "metadata": {},
   "outputs": [],
   "source": [
    "cluster_picker = KMeans(n_clusters=300)"
   ]
  },
  {
   "cell_type": "code",
   "execution_count": 23,
   "id": "af63ae3e-64db-4e46-88ef-aaa57a394f0f",
   "metadata": {},
   "outputs": [],
   "source": [
    "clusters = cluster_picker.fit_predict(clustering_data)"
   ]
  },
  {
   "cell_type": "code",
   "execution_count": 24,
   "id": "f28be353-a4a0-4114-9153-84ad1e926b79",
   "metadata": {},
   "outputs": [
    {
     "data": {
      "text/plain": [
       "array([ 11, 273,  70, ..., 180, 180,  97], dtype=int32)"
      ]
     },
     "execution_count": 24,
     "metadata": {},
     "output_type": "execute_result"
    }
   ],
   "source": [
    "clusters"
   ]
  },
  {
   "cell_type": "code",
   "execution_count": 25,
   "id": "8eacbb9a-ade6-40d9-9c50-074505ec038c",
   "metadata": {},
   "outputs": [],
   "source": [
    "train_data.drop(['latitude', 'longitude'], axis=1, inplace=True)"
   ]
  },
  {
   "cell_type": "code",
   "execution_count": 26,
   "id": "eccb927b-a12c-4ce7-ae95-25423f593144",
   "metadata": {},
   "outputs": [
    {
     "data": {
      "text/html": [
       "<div>\n",
       "<style scoped>\n",
       "    .dataframe tbody tr th:only-of-type {\n",
       "        vertical-align: middle;\n",
       "    }\n",
       "\n",
       "    .dataframe tbody tr th {\n",
       "        vertical-align: top;\n",
       "    }\n",
       "\n",
       "    .dataframe thead th {\n",
       "        text-align: right;\n",
       "    }\n",
       "</style>\n",
       "<table border=\"1\" class=\"dataframe\">\n",
       "  <thead>\n",
       "    <tr style=\"text-align: right;\">\n",
       "      <th></th>\n",
       "      <th>Unnamed: 0</th>\n",
       "      <th>company</th>\n",
       "      <th>is_local</th>\n",
       "      <th>type</th>\n",
       "      <th>fin_1</th>\n",
       "      <th>fin_2</th>\n",
       "      <th>fin_3</th>\n",
       "      <th>fin_4</th>\n",
       "      <th>target</th>\n",
       "    </tr>\n",
       "  </thead>\n",
       "  <tbody>\n",
       "    <tr>\n",
       "      <th>0</th>\n",
       "      <td>0</td>\n",
       "      <td>561</td>\n",
       "      <td>0</td>\n",
       "      <td>3</td>\n",
       "      <td>-135060.089443</td>\n",
       "      <td>86013.396489</td>\n",
       "      <td>1206.094242</td>\n",
       "      <td>52287.082257</td>\n",
       "      <td>0</td>\n",
       "    </tr>\n",
       "    <tr>\n",
       "      <th>1</th>\n",
       "      <td>1</td>\n",
       "      <td>1273</td>\n",
       "      <td>1</td>\n",
       "      <td>0</td>\n",
       "      <td>-1766.845055</td>\n",
       "      <td>14985.640180</td>\n",
       "      <td>477.494992</td>\n",
       "      <td>168836.215743</td>\n",
       "      <td>1</td>\n",
       "    </tr>\n",
       "    <tr>\n",
       "      <th>2</th>\n",
       "      <td>2</td>\n",
       "      <td>973</td>\n",
       "      <td>0</td>\n",
       "      <td>3</td>\n",
       "      <td>-177302.873693</td>\n",
       "      <td>44881.958005</td>\n",
       "      <td>1463.339889</td>\n",
       "      <td>130388.243325</td>\n",
       "      <td>0</td>\n",
       "    </tr>\n",
       "    <tr>\n",
       "      <th>3</th>\n",
       "      <td>3</td>\n",
       "      <td>757</td>\n",
       "      <td>0</td>\n",
       "      <td>0</td>\n",
       "      <td>209049.997460</td>\n",
       "      <td>0.000000</td>\n",
       "      <td>95.340075</td>\n",
       "      <td>103267.727546</td>\n",
       "      <td>1</td>\n",
       "    </tr>\n",
       "    <tr>\n",
       "      <th>4</th>\n",
       "      <td>4</td>\n",
       "      <td>229</td>\n",
       "      <td>0</td>\n",
       "      <td>3</td>\n",
       "      <td>8669.269507</td>\n",
       "      <td>0.000000</td>\n",
       "      <td>399.421926</td>\n",
       "      <td>177532.206618</td>\n",
       "      <td>1</td>\n",
       "    </tr>\n",
       "  </tbody>\n",
       "</table>\n",
       "</div>"
      ],
      "text/plain": [
       "   Unnamed: 0  company  is_local  type          fin_1         fin_2  \\\n",
       "0           0      561         0     3 -135060.089443  86013.396489   \n",
       "1           1     1273         1     0   -1766.845055  14985.640180   \n",
       "2           2      973         0     3 -177302.873693  44881.958005   \n",
       "3           3      757         0     0  209049.997460      0.000000   \n",
       "4           4      229         0     3    8669.269507      0.000000   \n",
       "\n",
       "         fin_3          fin_4  target  \n",
       "0  1206.094242   52287.082257       0  \n",
       "1   477.494992  168836.215743       1  \n",
       "2  1463.339889  130388.243325       0  \n",
       "3    95.340075  103267.727546       1  \n",
       "4   399.421926  177532.206618       1  "
      ]
     },
     "execution_count": 26,
     "metadata": {},
     "output_type": "execute_result"
    }
   ],
   "source": [
    "train_data.head()"
   ]
  },
  {
   "cell_type": "code",
   "execution_count": 27,
   "id": "c46e9e7a-a5f5-4766-a8ef-803cb1deeda2",
   "metadata": {},
   "outputs": [],
   "source": [
    "train_data['geo_cluster'] = clusters"
   ]
  },
  {
   "cell_type": "code",
   "execution_count": 28,
   "id": "f403e333-4136-4e08-9ab8-91a89984365a",
   "metadata": {},
   "outputs": [
    {
     "data": {
      "text/html": [
       "<div>\n",
       "<style scoped>\n",
       "    .dataframe tbody tr th:only-of-type {\n",
       "        vertical-align: middle;\n",
       "    }\n",
       "\n",
       "    .dataframe tbody tr th {\n",
       "        vertical-align: top;\n",
       "    }\n",
       "\n",
       "    .dataframe thead th {\n",
       "        text-align: right;\n",
       "    }\n",
       "</style>\n",
       "<table border=\"1\" class=\"dataframe\">\n",
       "  <thead>\n",
       "    <tr style=\"text-align: right;\">\n",
       "      <th></th>\n",
       "      <th>Unnamed: 0</th>\n",
       "      <th>company</th>\n",
       "      <th>is_local</th>\n",
       "      <th>type</th>\n",
       "      <th>fin_1</th>\n",
       "      <th>fin_2</th>\n",
       "      <th>fin_3</th>\n",
       "      <th>fin_4</th>\n",
       "      <th>target</th>\n",
       "      <th>geo_cluster</th>\n",
       "    </tr>\n",
       "  </thead>\n",
       "  <tbody>\n",
       "    <tr>\n",
       "      <th>0</th>\n",
       "      <td>0</td>\n",
       "      <td>561</td>\n",
       "      <td>0</td>\n",
       "      <td>3</td>\n",
       "      <td>-135060.089443</td>\n",
       "      <td>86013.396489</td>\n",
       "      <td>1206.094242</td>\n",
       "      <td>52287.082257</td>\n",
       "      <td>0</td>\n",
       "      <td>11</td>\n",
       "    </tr>\n",
       "    <tr>\n",
       "      <th>1</th>\n",
       "      <td>1</td>\n",
       "      <td>1273</td>\n",
       "      <td>1</td>\n",
       "      <td>0</td>\n",
       "      <td>-1766.845055</td>\n",
       "      <td>14985.640180</td>\n",
       "      <td>477.494992</td>\n",
       "      <td>168836.215743</td>\n",
       "      <td>1</td>\n",
       "      <td>273</td>\n",
       "    </tr>\n",
       "    <tr>\n",
       "      <th>2</th>\n",
       "      <td>2</td>\n",
       "      <td>973</td>\n",
       "      <td>0</td>\n",
       "      <td>3</td>\n",
       "      <td>-177302.873693</td>\n",
       "      <td>44881.958005</td>\n",
       "      <td>1463.339889</td>\n",
       "      <td>130388.243325</td>\n",
       "      <td>0</td>\n",
       "      <td>70</td>\n",
       "    </tr>\n",
       "    <tr>\n",
       "      <th>3</th>\n",
       "      <td>3</td>\n",
       "      <td>757</td>\n",
       "      <td>0</td>\n",
       "      <td>0</td>\n",
       "      <td>209049.997460</td>\n",
       "      <td>0.000000</td>\n",
       "      <td>95.340075</td>\n",
       "      <td>103267.727546</td>\n",
       "      <td>1</td>\n",
       "      <td>70</td>\n",
       "    </tr>\n",
       "    <tr>\n",
       "      <th>4</th>\n",
       "      <td>4</td>\n",
       "      <td>229</td>\n",
       "      <td>0</td>\n",
       "      <td>3</td>\n",
       "      <td>8669.269507</td>\n",
       "      <td>0.000000</td>\n",
       "      <td>399.421926</td>\n",
       "      <td>177532.206618</td>\n",
       "      <td>1</td>\n",
       "      <td>267</td>\n",
       "    </tr>\n",
       "  </tbody>\n",
       "</table>\n",
       "</div>"
      ],
      "text/plain": [
       "   Unnamed: 0  company  is_local  type          fin_1         fin_2  \\\n",
       "0           0      561         0     3 -135060.089443  86013.396489   \n",
       "1           1     1273         1     0   -1766.845055  14985.640180   \n",
       "2           2      973         0     3 -177302.873693  44881.958005   \n",
       "3           3      757         0     0  209049.997460      0.000000   \n",
       "4           4      229         0     3    8669.269507      0.000000   \n",
       "\n",
       "         fin_3          fin_4  target  geo_cluster  \n",
       "0  1206.094242   52287.082257       0           11  \n",
       "1   477.494992  168836.215743       1          273  \n",
       "2  1463.339889  130388.243325       0           70  \n",
       "3    95.340075  103267.727546       1           70  \n",
       "4   399.421926  177532.206618       1          267  "
      ]
     },
     "execution_count": 28,
     "metadata": {},
     "output_type": "execute_result"
    }
   ],
   "source": [
    "train_data.head()"
   ]
  },
  {
   "cell_type": "code",
   "execution_count": 29,
   "id": "9be3ded6-5d80-4f7d-8e14-f3bebabf582c",
   "metadata": {},
   "outputs": [
    {
     "data": {
      "text/plain": [
       "5"
      ]
     },
     "execution_count": 29,
     "metadata": {},
     "output_type": "execute_result"
    }
   ],
   "source": [
    "train_data.type.nunique()"
   ]
  },
  {
   "cell_type": "code",
   "execution_count": 30,
   "id": "fd1acbba-80cd-4c8e-af77-c75b7b9befc8",
   "metadata": {},
   "outputs": [],
   "source": [
    "train_data.drop(columns=['Unnamed: 0'], inplace=True)"
   ]
  },
  {
   "cell_type": "code",
   "execution_count": 31,
   "id": "29e97f03-10fd-4d45-9b8b-fcdacda83b01",
   "metadata": {},
   "outputs": [
    {
     "data": {
      "text/html": [
       "<div>\n",
       "<style scoped>\n",
       "    .dataframe tbody tr th:only-of-type {\n",
       "        vertical-align: middle;\n",
       "    }\n",
       "\n",
       "    .dataframe tbody tr th {\n",
       "        vertical-align: top;\n",
       "    }\n",
       "\n",
       "    .dataframe thead th {\n",
       "        text-align: right;\n",
       "    }\n",
       "</style>\n",
       "<table border=\"1\" class=\"dataframe\">\n",
       "  <thead>\n",
       "    <tr style=\"text-align: right;\">\n",
       "      <th></th>\n",
       "      <th>company</th>\n",
       "      <th>is_local</th>\n",
       "      <th>type</th>\n",
       "      <th>fin_1</th>\n",
       "      <th>fin_2</th>\n",
       "      <th>fin_3</th>\n",
       "      <th>fin_4</th>\n",
       "      <th>target</th>\n",
       "      <th>geo_cluster</th>\n",
       "    </tr>\n",
       "  </thead>\n",
       "  <tbody>\n",
       "    <tr>\n",
       "      <th>0</th>\n",
       "      <td>561</td>\n",
       "      <td>0</td>\n",
       "      <td>3</td>\n",
       "      <td>-135060.089443</td>\n",
       "      <td>86013.396489</td>\n",
       "      <td>1206.094242</td>\n",
       "      <td>52287.082257</td>\n",
       "      <td>0</td>\n",
       "      <td>11</td>\n",
       "    </tr>\n",
       "    <tr>\n",
       "      <th>1</th>\n",
       "      <td>1273</td>\n",
       "      <td>1</td>\n",
       "      <td>0</td>\n",
       "      <td>-1766.845055</td>\n",
       "      <td>14985.640180</td>\n",
       "      <td>477.494992</td>\n",
       "      <td>168836.215743</td>\n",
       "      <td>1</td>\n",
       "      <td>273</td>\n",
       "    </tr>\n",
       "    <tr>\n",
       "      <th>2</th>\n",
       "      <td>973</td>\n",
       "      <td>0</td>\n",
       "      <td>3</td>\n",
       "      <td>-177302.873693</td>\n",
       "      <td>44881.958005</td>\n",
       "      <td>1463.339889</td>\n",
       "      <td>130388.243325</td>\n",
       "      <td>0</td>\n",
       "      <td>70</td>\n",
       "    </tr>\n",
       "    <tr>\n",
       "      <th>3</th>\n",
       "      <td>757</td>\n",
       "      <td>0</td>\n",
       "      <td>0</td>\n",
       "      <td>209049.997460</td>\n",
       "      <td>0.000000</td>\n",
       "      <td>95.340075</td>\n",
       "      <td>103267.727546</td>\n",
       "      <td>1</td>\n",
       "      <td>70</td>\n",
       "    </tr>\n",
       "    <tr>\n",
       "      <th>4</th>\n",
       "      <td>229</td>\n",
       "      <td>0</td>\n",
       "      <td>3</td>\n",
       "      <td>8669.269507</td>\n",
       "      <td>0.000000</td>\n",
       "      <td>399.421926</td>\n",
       "      <td>177532.206618</td>\n",
       "      <td>1</td>\n",
       "      <td>267</td>\n",
       "    </tr>\n",
       "  </tbody>\n",
       "</table>\n",
       "</div>"
      ],
      "text/plain": [
       "   company  is_local  type          fin_1         fin_2        fin_3  \\\n",
       "0      561         0     3 -135060.089443  86013.396489  1206.094242   \n",
       "1     1273         1     0   -1766.845055  14985.640180   477.494992   \n",
       "2      973         0     3 -177302.873693  44881.958005  1463.339889   \n",
       "3      757         0     0  209049.997460      0.000000    95.340075   \n",
       "4      229         0     3    8669.269507      0.000000   399.421926   \n",
       "\n",
       "           fin_4  target  geo_cluster  \n",
       "0   52287.082257       0           11  \n",
       "1  168836.215743       1          273  \n",
       "2  130388.243325       0           70  \n",
       "3  103267.727546       1           70  \n",
       "4  177532.206618       1          267  "
      ]
     },
     "execution_count": 31,
     "metadata": {},
     "output_type": "execute_result"
    }
   ],
   "source": [
    "train_data.head()"
   ]
  },
  {
   "cell_type": "code",
   "execution_count": 32,
   "id": "508fe717-c9e4-402c-8c19-8c2e88934263",
   "metadata": {},
   "outputs": [],
   "source": [
    "n_companies = len(companies_list_to_encode)\n",
    "n_types = train_data.type.nunique()\n",
    "features = ['fin_1', 'fin_2', 'fin_3', 'fin_4', 'is_local']"
   ]
  },
  {
   "cell_type": "code",
   "execution_count": 33,
   "id": "f9a4ea0e-dc90-40be-9e3a-baf59ed1c445",
   "metadata": {},
   "outputs": [],
   "source": [
    "X, y = train_data.drop('target', axis=1), train_data.target"
   ]
  },
  {
   "cell_type": "code",
   "execution_count": 34,
   "id": "140d3c98-76f5-4e5d-a74a-e802c5a467d7",
   "metadata": {},
   "outputs": [
    {
     "data": {
      "text/html": [
       "<div>\n",
       "<style scoped>\n",
       "    .dataframe tbody tr th:only-of-type {\n",
       "        vertical-align: middle;\n",
       "    }\n",
       "\n",
       "    .dataframe tbody tr th {\n",
       "        vertical-align: top;\n",
       "    }\n",
       "\n",
       "    .dataframe thead th {\n",
       "        text-align: right;\n",
       "    }\n",
       "</style>\n",
       "<table border=\"1\" class=\"dataframe\">\n",
       "  <thead>\n",
       "    <tr style=\"text-align: right;\">\n",
       "      <th></th>\n",
       "      <th>company</th>\n",
       "      <th>is_local</th>\n",
       "      <th>type</th>\n",
       "      <th>fin_1</th>\n",
       "      <th>fin_2</th>\n",
       "      <th>fin_3</th>\n",
       "      <th>fin_4</th>\n",
       "      <th>geo_cluster</th>\n",
       "    </tr>\n",
       "  </thead>\n",
       "  <tbody>\n",
       "    <tr>\n",
       "      <th>0</th>\n",
       "      <td>561</td>\n",
       "      <td>0</td>\n",
       "      <td>3</td>\n",
       "      <td>-135060.089443</td>\n",
       "      <td>86013.396489</td>\n",
       "      <td>1206.094242</td>\n",
       "      <td>52287.082257</td>\n",
       "      <td>11</td>\n",
       "    </tr>\n",
       "    <tr>\n",
       "      <th>1</th>\n",
       "      <td>1273</td>\n",
       "      <td>1</td>\n",
       "      <td>0</td>\n",
       "      <td>-1766.845055</td>\n",
       "      <td>14985.640180</td>\n",
       "      <td>477.494992</td>\n",
       "      <td>168836.215743</td>\n",
       "      <td>273</td>\n",
       "    </tr>\n",
       "    <tr>\n",
       "      <th>2</th>\n",
       "      <td>973</td>\n",
       "      <td>0</td>\n",
       "      <td>3</td>\n",
       "      <td>-177302.873693</td>\n",
       "      <td>44881.958005</td>\n",
       "      <td>1463.339889</td>\n",
       "      <td>130388.243325</td>\n",
       "      <td>70</td>\n",
       "    </tr>\n",
       "    <tr>\n",
       "      <th>3</th>\n",
       "      <td>757</td>\n",
       "      <td>0</td>\n",
       "      <td>0</td>\n",
       "      <td>209049.997460</td>\n",
       "      <td>0.000000</td>\n",
       "      <td>95.340075</td>\n",
       "      <td>103267.727546</td>\n",
       "      <td>70</td>\n",
       "    </tr>\n",
       "    <tr>\n",
       "      <th>4</th>\n",
       "      <td>229</td>\n",
       "      <td>0</td>\n",
       "      <td>3</td>\n",
       "      <td>8669.269507</td>\n",
       "      <td>0.000000</td>\n",
       "      <td>399.421926</td>\n",
       "      <td>177532.206618</td>\n",
       "      <td>267</td>\n",
       "    </tr>\n",
       "  </tbody>\n",
       "</table>\n",
       "</div>"
      ],
      "text/plain": [
       "   company  is_local  type          fin_1         fin_2        fin_3  \\\n",
       "0      561         0     3 -135060.089443  86013.396489  1206.094242   \n",
       "1     1273         1     0   -1766.845055  14985.640180   477.494992   \n",
       "2      973         0     3 -177302.873693  44881.958005  1463.339889   \n",
       "3      757         0     0  209049.997460      0.000000    95.340075   \n",
       "4      229         0     3    8669.269507      0.000000   399.421926   \n",
       "\n",
       "           fin_4  geo_cluster  \n",
       "0   52287.082257           11  \n",
       "1  168836.215743          273  \n",
       "2  130388.243325           70  \n",
       "3  103267.727546           70  \n",
       "4  177532.206618          267  "
      ]
     },
     "execution_count": 34,
     "metadata": {},
     "output_type": "execute_result"
    }
   ],
   "source": [
    "X.head()"
   ]
  },
  {
   "cell_type": "code",
   "execution_count": 35,
   "id": "b70229ec-984b-4c09-a85b-8ffaae375dee",
   "metadata": {},
   "outputs": [],
   "source": [
    "train_X, valid_X, train_y, valid_y = train_test_split(X, y, test_size=0.1, random_state=SEED)"
   ]
  },
  {
   "cell_type": "code",
   "execution_count": 36,
   "id": "5ca792e3-477b-45ba-b12b-cca78c852d6c",
   "metadata": {},
   "outputs": [],
   "source": [
    "test_data = pd.read_csv('test.csv')"
   ]
  },
  {
   "cell_type": "code",
   "execution_count": 37,
   "id": "fdd039bc-d5ae-4728-ad12-c67c1e8d898f",
   "metadata": {},
   "outputs": [],
   "source": [
    "companies_to_replace = set(test_data.company) - set(companies_list_to_encode)"
   ]
  },
  {
   "cell_type": "code",
   "execution_count": 38,
   "id": "c923b637-918e-4b49-9272-c07a627c127d",
   "metadata": {},
   "outputs": [],
   "source": [
    "test_data.company.replace(companies_to_replace, -1, inplace=True)"
   ]
  },
  {
   "cell_type": "code",
   "execution_count": 39,
   "id": "4df073f2-0af2-4cce-acb8-3e999ce22c53",
   "metadata": {},
   "outputs": [],
   "source": [
    "test_data.company = le.transform(test_data.company)"
   ]
  },
  {
   "cell_type": "code",
   "execution_count": 40,
   "id": "88eb13d5-1d06-4e66-8f64-e74f69c58a9c",
   "metadata": {},
   "outputs": [],
   "source": [
    "clustering_data = test_data[['latitude', 'longitude']]"
   ]
  },
  {
   "cell_type": "code",
   "execution_count": 41,
   "id": "9e4b92a1-6e4f-42bf-b1b7-4eb6a8eabddb",
   "metadata": {},
   "outputs": [],
   "source": [
    "clusters = cluster_picker.predict(clustering_data)"
   ]
  },
  {
   "cell_type": "code",
   "execution_count": 42,
   "id": "71f4652a-ef87-4d40-bc63-25a282f37f35",
   "metadata": {},
   "outputs": [],
   "source": [
    "test_data.drop(['latitude', 'longitude'], axis=1, inplace=True)"
   ]
  },
  {
   "cell_type": "code",
   "execution_count": 43,
   "id": "b9df7b1b-2335-4f9d-b89d-22d0067b32a3",
   "metadata": {},
   "outputs": [],
   "source": [
    "test_data['geo_cluster'] = clusters"
   ]
  },
  {
   "cell_type": "code",
   "execution_count": 44,
   "id": "b1a40c5b-3248-435a-9304-4b01ad07a5cb",
   "metadata": {},
   "outputs": [],
   "source": [
    "test_data.drop(columns=['Unnamed: 0'], inplace=True)"
   ]
  },
  {
   "cell_type": "code",
   "execution_count": 45,
   "id": "eea143e7-236c-4354-8057-cfbb736d891b",
   "metadata": {},
   "outputs": [
    {
     "data": {
      "text/plain": [
       "5"
      ]
     },
     "execution_count": 45,
     "metadata": {},
     "output_type": "execute_result"
    }
   ],
   "source": [
    "test_data.type.nunique()"
   ]
  },
  {
   "cell_type": "code",
   "execution_count": 46,
   "id": "74a85ca8-eb42-45b4-866b-967f15a73257",
   "metadata": {},
   "outputs": [
    {
     "data": {
      "text/html": [
       "<div>\n",
       "<style scoped>\n",
       "    .dataframe tbody tr th:only-of-type {\n",
       "        vertical-align: middle;\n",
       "    }\n",
       "\n",
       "    .dataframe tbody tr th {\n",
       "        vertical-align: top;\n",
       "    }\n",
       "\n",
       "    .dataframe thead th {\n",
       "        text-align: right;\n",
       "    }\n",
       "</style>\n",
       "<table border=\"1\" class=\"dataframe\">\n",
       "  <thead>\n",
       "    <tr style=\"text-align: right;\">\n",
       "      <th></th>\n",
       "      <th>company</th>\n",
       "      <th>is_local</th>\n",
       "      <th>type</th>\n",
       "      <th>fin_1</th>\n",
       "      <th>fin_2</th>\n",
       "      <th>fin_3</th>\n",
       "      <th>fin_4</th>\n",
       "      <th>target</th>\n",
       "      <th>geo_cluster</th>\n",
       "    </tr>\n",
       "  </thead>\n",
       "  <tbody>\n",
       "    <tr>\n",
       "      <th>0</th>\n",
       "      <td>0</td>\n",
       "      <td>1</td>\n",
       "      <td>1</td>\n",
       "      <td>113033.389907</td>\n",
       "      <td>0.000000</td>\n",
       "      <td>270.906219</td>\n",
       "      <td>31222.780176</td>\n",
       "      <td>0</td>\n",
       "      <td>97</td>\n",
       "    </tr>\n",
       "    <tr>\n",
       "      <th>1</th>\n",
       "      <td>767</td>\n",
       "      <td>0</td>\n",
       "      <td>0</td>\n",
       "      <td>-87239.590275</td>\n",
       "      <td>73759.387510</td>\n",
       "      <td>759.194862</td>\n",
       "      <td>237587.544996</td>\n",
       "      <td>1</td>\n",
       "      <td>77</td>\n",
       "    </tr>\n",
       "    <tr>\n",
       "      <th>2</th>\n",
       "      <td>0</td>\n",
       "      <td>1</td>\n",
       "      <td>4</td>\n",
       "      <td>-122084.498620</td>\n",
       "      <td>15528.109943</td>\n",
       "      <td>1039.655934</td>\n",
       "      <td>29612.346982</td>\n",
       "      <td>0</td>\n",
       "      <td>103</td>\n",
       "    </tr>\n",
       "    <tr>\n",
       "      <th>3</th>\n",
       "      <td>0</td>\n",
       "      <td>0</td>\n",
       "      <td>1</td>\n",
       "      <td>87355.127256</td>\n",
       "      <td>0.000000</td>\n",
       "      <td>214.594205</td>\n",
       "      <td>163526.475818</td>\n",
       "      <td>1</td>\n",
       "      <td>83</td>\n",
       "    </tr>\n",
       "    <tr>\n",
       "      <th>4</th>\n",
       "      <td>795</td>\n",
       "      <td>0</td>\n",
       "      <td>3</td>\n",
       "      <td>33014.437946</td>\n",
       "      <td>0.000000</td>\n",
       "      <td>379.819724</td>\n",
       "      <td>67499.397999</td>\n",
       "      <td>1</td>\n",
       "      <td>294</td>\n",
       "    </tr>\n",
       "  </tbody>\n",
       "</table>\n",
       "</div>"
      ],
      "text/plain": [
       "   company  is_local  type          fin_1         fin_2        fin_3  \\\n",
       "0        0         1     1  113033.389907      0.000000   270.906219   \n",
       "1      767         0     0  -87239.590275  73759.387510   759.194862   \n",
       "2        0         1     4 -122084.498620  15528.109943  1039.655934   \n",
       "3        0         0     1   87355.127256      0.000000   214.594205   \n",
       "4      795         0     3   33014.437946      0.000000   379.819724   \n",
       "\n",
       "           fin_4  target  geo_cluster  \n",
       "0   31222.780176       0           97  \n",
       "1  237587.544996       1           77  \n",
       "2   29612.346982       0          103  \n",
       "3  163526.475818       1           83  \n",
       "4   67499.397999       1          294  "
      ]
     },
     "execution_count": 46,
     "metadata": {},
     "output_type": "execute_result"
    }
   ],
   "source": [
    "test_data.head()"
   ]
  },
  {
   "cell_type": "code",
   "execution_count": 47,
   "id": "8afc3f59-6aee-49e9-8e3a-741b8e9e2af5",
   "metadata": {},
   "outputs": [],
   "source": [
    "test_X, test_y = test_data.drop(columns=['target']), test_data.target"
   ]
  },
  {
   "cell_type": "code",
   "execution_count": 48,
   "id": "05762b66-2f18-4a46-a632-5e49c64b41ea",
   "metadata": {},
   "outputs": [],
   "source": [
    "class CustomDataset(Dataset):\n",
    "    def __init__(self, x, y):\n",
    "        self.x = x\n",
    "        self.y = y\n",
    "        self.n_samples = x.shape[0]\n",
    "    \n",
    "    def __getitem__(self, index):\n",
    "        return self.x.iloc[index].values, self.y.iloc[index]\n",
    "    \n",
    "    def __len__(self):\n",
    "        return self.n_samples"
   ]
  },
  {
   "cell_type": "code",
   "execution_count": 49,
   "id": "43503ef6-4edd-4d96-b052-c3ad7c1d30e9",
   "metadata": {},
   "outputs": [],
   "source": [
    "def init_weights(m):\n",
    "    torch.nn.init.kaiming_uniform(m.weight)\n",
    "    m.bias.data.fill_(0.01)\n",
    "\n",
    "class NeuralNetwork(nn.Module):\n",
    "    def __init__(self):\n",
    "        super(NeuralNetwork, self).__init__()\n",
    "        self.features_branch = nn.Sequential(\n",
    "            nn.Linear(5, 32),\n",
    "            nn.BatchNorm1d(num_features=32),\n",
    "            nn.ReLU(),\n",
    "            nn.Linear(32, 32),\n",
    "            nn.BatchNorm1d(num_features=32),\n",
    "            nn.ReLU())\n",
    "        self.company_branch = nn.Sequential(\n",
    "            nn.Embedding(n_companies, 128),\n",
    "            nn.ReLU(),\n",
    "            nn.Linear(128, 32),\n",
    "            nn.ReLU(),\n",
    "            )\n",
    "        self.type_branch = nn.Sequential(\n",
    "            nn.Embedding(n_types, 16),\n",
    "            nn.ReLU(),\n",
    "            nn.Linear(16, 16),\n",
    "            nn.ReLU(),\n",
    "        )\n",
    "        self.geo_branch = nn.Sequential(\n",
    "            nn.Embedding(300, 128),\n",
    "            nn.ReLU(),\n",
    "            nn.Linear(128, 32),\n",
    "            nn.ReLU())\n",
    "        self.main_branch = nn.Sequential(\n",
    "            nn.Linear(112, 64),\n",
    "            nn.BatchNorm1d(num_features=64),\n",
    "            nn.ReLU(),\n",
    "            nn.Linear(64, 64),\n",
    "            nn.BatchNorm1d(num_features=64),\n",
    "            nn.ReLU(),\n",
    "            nn.Linear(64, 1),\n",
    "            nn.Sigmoid())\n",
    "        \n",
    "#         self.features_branch.apply(init_weights)\n",
    "#         self.company_branch.apply(init_weights)\n",
    "#         self.type_branch.apply(init_weights)\n",
    "#         self.geo_branch.apply(init_weights)\n",
    "#         self.main_branch.apply(init_weights)\n",
    "        \n",
    "    def forward(self, x):\n",
    "#         print(x[:, [1, 3, 4, 5, 6]])\n",
    "        out1 = self.features_branch(x[:, [1, 3, 4, 5, 6]].to(torch.float32))\n",
    "        out2 = self.company_branch(x[:, 0].to(torch.long))\n",
    "        out3 = self.type_branch(x[:, 2].to(torch.long))\n",
    "        out4 = self.geo_branch(x[:, 7].to(torch.long))\n",
    "        out = torch.cat((out1, out2, out3, out4), 1)\n",
    "        out = self.main_branch(out)\n",
    "        return out"
   ]
  },
  {
   "cell_type": "code",
   "execution_count": 50,
   "id": "053591fd-3b89-4f94-b999-8c28bc1c742b",
   "metadata": {},
   "outputs": [],
   "source": [
    "model = NeuralNetwork()"
   ]
  },
  {
   "cell_type": "code",
   "execution_count": 51,
   "id": "a44024de-77ed-4af3-9202-2ed4664ae171",
   "metadata": {},
   "outputs": [],
   "source": [
    "criterion = nn.BCELoss()\n",
    "optimizer = torch.optim.Adam(model.parameters(), lr=1e-3)"
   ]
  },
  {
   "cell_type": "code",
   "execution_count": 52,
   "id": "87fe4283-fc06-4d09-85fe-ba797092a713",
   "metadata": {},
   "outputs": [],
   "source": [
    "train_dataset = CustomDataset(train_X, train_y)"
   ]
  },
  {
   "cell_type": "code",
   "execution_count": 53,
   "id": "2811e9e4-15df-4041-9934-4b24b5cdbdc5",
   "metadata": {},
   "outputs": [],
   "source": [
    "batch_size = 128"
   ]
  },
  {
   "cell_type": "code",
   "execution_count": 54,
   "id": "20683d78-6be0-40ac-949c-30d3184dfe76",
   "metadata": {},
   "outputs": [],
   "source": [
    "train_dataloader = DataLoader(dataset=train_dataset, batch_size=batch_size, shuffle=True)"
   ]
  },
  {
   "cell_type": "code",
   "execution_count": 55,
   "id": "600d98fa-253f-4819-8161-e0d6d1afabba",
   "metadata": {},
   "outputs": [],
   "source": [
    "valid_dataset = CustomDataset(valid_X, valid_y)\n",
    "valid_dataloader = DataLoader(dataset=valid_dataset, batch_size=batch_size, shuffle=False)"
   ]
  },
  {
   "cell_type": "code",
   "execution_count": 56,
   "id": "acd483c1-e63a-4550-9e2f-9b97944132e7",
   "metadata": {},
   "outputs": [],
   "source": [
    "n_epochs = 10\n",
    "epoch_accuracies = np.arange(n_epochs, dtype=np.float32)"
   ]
  },
  {
   "cell_type": "code",
   "execution_count": 57,
   "id": "ce22de09-e071-40b0-bf85-77c8edc6d45c",
   "metadata": {},
   "outputs": [],
   "source": [
    "def train(dataloader, model, loss_fn, optimizer):\n",
    "    n_iterations = len(dataloader)\n",
    "    model.train()\n",
    "    for i, (x, y) in enumerate(dataloader):\n",
    "        # forward\n",
    "        y = y.reshape(y.shape[0], 1).type(torch.float32)\n",
    "\n",
    "        pred = model(x)\n",
    "        loss = loss_fn(pred, y)\n",
    "\n",
    "        # backwards\n",
    "        optimizer.zero_grad()\n",
    "        loss.backward()\n",
    "        optimizer.step()\n",
    "\n",
    "        if (i+1) % 100 == 0:\n",
    "            print(f'Step {i+1} / {n_iterations}, loss = {loss.item():.4f}')"
   ]
  },
  {
   "cell_type": "code",
   "execution_count": 58,
   "id": "70e8aef9-a8b4-44d5-93e4-829cd14775b0",
   "metadata": {},
   "outputs": [],
   "source": [
    "def test(dataloader, model, loss_fn):\n",
    "    size = len(dataloader.dataset)\n",
    "    num_batches = len(dataloader)\n",
    "    model.eval()\n",
    "    test_loss, correct = 0, 0\n",
    "    with torch.no_grad():\n",
    "        for x, y in dataloader:\n",
    "            y = y.reshape(y.shape[0], 1).to(torch.float32)\n",
    "            \n",
    "            pred = model(x)\n",
    "            test_loss += loss_fn(pred, y).item()\n",
    "#             print(pred)\n",
    "#             print(y)\n",
    "            correct += (pred.round() == y).sum().item()\n",
    "        \n",
    "    test_loss /= num_batches\n",
    "    correct /= size\n",
    "    print(f'Test Error: \\n Accuracy: {(100*correct):>0.1f}%, \\\n",
    "        Avg loss: {test_loss:>8f} \\n')\n",
    "    \n",
    "    return correct"
   ]
  },
  {
   "cell_type": "code",
   "execution_count": 59,
   "id": "004a6e4b-e3ef-48de-a33e-a1a1c7f9e642",
   "metadata": {},
   "outputs": [],
   "source": [
    "def save_checkpoint(state, filename):\n",
    "    print(\"Saving checkpoint...\")\n",
    "    torch.save(state, filename)"
   ]
  },
  {
   "cell_type": "code",
   "execution_count": 60,
   "id": "00ac3c2d-48eb-4e84-b45c-e4a34eaf68c1",
   "metadata": {},
   "outputs": [],
   "source": [
    "def load_checkpoint(checkpoint):\n",
    "    model.load_state_dict(checkpoint['state_dict'])\n",
    "    optimizer.load_state_dict(checkpoint['optimizer'])"
   ]
  },
  {
   "cell_type": "code",
   "execution_count": null,
   "id": "280aa21e-b40f-4308-934f-4a8460cc196a",
   "metadata": {},
   "outputs": [],
   "source": []
  },
  {
   "cell_type": "code",
   "execution_count": 61,
   "id": "9f564bd3-dbe7-40d5-bf99-d02ab62d3a72",
   "metadata": {},
   "outputs": [
    {
     "name": "stdout",
     "output_type": "stream",
     "text": [
      "Epoch 1\n",
      "--------------------------\n",
      "Step 100 / 1125, loss = 0.4636\n",
      "Step 200 / 1125, loss = 0.5119\n",
      "Step 300 / 1125, loss = 0.4832\n",
      "Step 400 / 1125, loss = 0.4197\n",
      "Step 500 / 1125, loss = 0.4236\n",
      "Step 600 / 1125, loss = 0.4369\n",
      "Step 700 / 1125, loss = 0.4644\n",
      "Step 800 / 1125, loss = 0.3712\n",
      "Step 900 / 1125, loss = 0.3788\n",
      "Step 1000 / 1125, loss = 0.4007\n",
      "Step 1100 / 1125, loss = 0.3913\n",
      "Test Error: \n",
      " Accuracy: 77.7%,         Avg loss: 0.435247 \n",
      "\n",
      "Saving checkpoint...\n",
      "Epoch 2\n",
      "--------------------------\n",
      "Step 100 / 1125, loss = 0.4192\n",
      "Step 200 / 1125, loss = 0.4256\n",
      "Step 300 / 1125, loss = 0.4964\n",
      "Step 400 / 1125, loss = 0.4562\n",
      "Step 500 / 1125, loss = 0.4060\n",
      "Step 600 / 1125, loss = 0.3689\n",
      "Step 700 / 1125, loss = 0.4657\n",
      "Step 800 / 1125, loss = 0.4115\n",
      "Step 900 / 1125, loss = 0.4195\n",
      "Step 1000 / 1125, loss = 0.3601\n",
      "Step 1100 / 1125, loss = 0.4399\n",
      "Test Error: \n",
      " Accuracy: 77.8%,         Avg loss: 0.436959 \n",
      "\n",
      "Saving checkpoint...\n",
      "Epoch 3\n",
      "--------------------------\n",
      "Step 100 / 1125, loss = 0.4279\n",
      "Step 200 / 1125, loss = 0.4168\n",
      "Step 300 / 1125, loss = 0.5219\n",
      "Step 400 / 1125, loss = 0.3959\n",
      "Step 500 / 1125, loss = 0.5341\n",
      "Step 600 / 1125, loss = 0.4517\n",
      "Step 700 / 1125, loss = 0.4066\n",
      "Step 800 / 1125, loss = 0.4636\n",
      "Step 900 / 1125, loss = 0.4432\n",
      "Step 1000 / 1125, loss = 0.4923\n",
      "Step 1100 / 1125, loss = 0.4790\n",
      "Test Error: \n",
      " Accuracy: 77.7%,         Avg loss: 0.433615 \n",
      "\n",
      "Saving checkpoint...\n",
      "Epoch 4\n",
      "--------------------------\n",
      "Step 100 / 1125, loss = 0.4051\n",
      "Step 200 / 1125, loss = 0.3791\n",
      "Step 300 / 1125, loss = 0.4744\n",
      "Step 400 / 1125, loss = 0.4003\n",
      "Step 500 / 1125, loss = 0.4205\n",
      "Step 600 / 1125, loss = 0.4164\n",
      "Step 700 / 1125, loss = 0.4861\n",
      "Step 800 / 1125, loss = 0.3968\n",
      "Step 900 / 1125, loss = 0.4558\n",
      "Step 1000 / 1125, loss = 0.4493\n",
      "Step 1100 / 1125, loss = 0.4755\n",
      "Test Error: \n",
      " Accuracy: 77.7%,         Avg loss: 0.432674 \n",
      "\n",
      "Saving checkpoint...\n",
      "Epoch 5\n",
      "--------------------------\n",
      "Step 100 / 1125, loss = 0.3838\n",
      "Step 200 / 1125, loss = 0.4236\n",
      "Step 300 / 1125, loss = 0.3932\n",
      "Step 400 / 1125, loss = 0.3654\n",
      "Step 500 / 1125, loss = 0.4683\n",
      "Step 600 / 1125, loss = 0.4339\n",
      "Step 700 / 1125, loss = 0.4042\n",
      "Step 800 / 1125, loss = 0.4864\n",
      "Step 900 / 1125, loss = 0.3989\n",
      "Step 1000 / 1125, loss = 0.4021\n",
      "Step 1100 / 1125, loss = 0.5099\n",
      "Test Error: \n",
      " Accuracy: 77.6%,         Avg loss: 0.435972 \n",
      "\n",
      "Saving checkpoint...\n",
      "Epoch 6\n",
      "--------------------------\n",
      "Step 100 / 1125, loss = 0.3893\n",
      "Step 200 / 1125, loss = 0.4044\n",
      "Step 300 / 1125, loss = 0.4815\n",
      "Step 400 / 1125, loss = 0.4321\n",
      "Step 500 / 1125, loss = 0.4337\n",
      "Step 600 / 1125, loss = 0.4135\n",
      "Step 700 / 1125, loss = 0.3935\n",
      "Step 800 / 1125, loss = 0.4313\n",
      "Step 900 / 1125, loss = 0.4365\n",
      "Step 1000 / 1125, loss = 0.4140\n",
      "Step 1100 / 1125, loss = 0.4067\n",
      "Test Error: \n",
      " Accuracy: 77.6%,         Avg loss: 0.436295 \n",
      "\n",
      "Saving checkpoint...\n",
      "Epoch 7\n",
      "--------------------------\n",
      "Step 100 / 1125, loss = 0.4146\n",
      "Step 200 / 1125, loss = 0.3881\n",
      "Step 300 / 1125, loss = 0.3653\n",
      "Step 400 / 1125, loss = 0.4804\n",
      "Step 500 / 1125, loss = 0.4940\n",
      "Step 600 / 1125, loss = 0.4099\n",
      "Step 700 / 1125, loss = 0.4284\n",
      "Step 800 / 1125, loss = 0.4727\n",
      "Step 900 / 1125, loss = 0.4021\n",
      "Step 1000 / 1125, loss = 0.4083\n",
      "Step 1100 / 1125, loss = 0.4037\n",
      "Test Error: \n",
      " Accuracy: 77.2%,         Avg loss: 0.438136 \n",
      "\n",
      "Saving checkpoint...\n",
      "Epoch 8\n",
      "--------------------------\n",
      "Step 100 / 1125, loss = 0.4246\n",
      "Step 200 / 1125, loss = 0.4110\n",
      "Step 300 / 1125, loss = 0.4386\n",
      "Step 400 / 1125, loss = 0.4465\n",
      "Step 500 / 1125, loss = 0.4520\n",
      "Step 600 / 1125, loss = 0.3473\n",
      "Step 700 / 1125, loss = 0.4910\n",
      "Step 800 / 1125, loss = 0.4572\n",
      "Step 900 / 1125, loss = 0.4756\n",
      "Step 1000 / 1125, loss = 0.3818\n",
      "Step 1100 / 1125, loss = 0.3945\n",
      "Test Error: \n",
      " Accuracy: 77.3%,         Avg loss: 0.439467 \n",
      "\n",
      "Saving checkpoint...\n",
      "Epoch 9\n",
      "--------------------------\n",
      "Step 100 / 1125, loss = 0.4120\n",
      "Step 200 / 1125, loss = 0.4213\n",
      "Step 300 / 1125, loss = 0.3385\n",
      "Step 400 / 1125, loss = 0.4588\n",
      "Step 500 / 1125, loss = 0.4172\n",
      "Step 600 / 1125, loss = 0.4740\n",
      "Step 700 / 1125, loss = 0.4099\n",
      "Step 800 / 1125, loss = 0.4401\n",
      "Step 900 / 1125, loss = 0.4980\n",
      "Step 1000 / 1125, loss = 0.4079\n",
      "Step 1100 / 1125, loss = 0.3941\n",
      "Test Error: \n",
      " Accuracy: 77.5%,         Avg loss: 0.441299 \n",
      "\n",
      "Saving checkpoint...\n",
      "Epoch 10\n",
      "--------------------------\n",
      "Step 100 / 1125, loss = 0.4513\n",
      "Step 200 / 1125, loss = 0.4428\n",
      "Step 300 / 1125, loss = 0.4347\n",
      "Step 400 / 1125, loss = 0.4609\n",
      "Step 500 / 1125, loss = 0.3900\n",
      "Step 600 / 1125, loss = 0.3677\n",
      "Step 700 / 1125, loss = 0.3827\n",
      "Step 800 / 1125, loss = 0.4338\n",
      "Step 900 / 1125, loss = 0.5244\n",
      "Step 1000 / 1125, loss = 0.4488\n",
      "Step 1100 / 1125, loss = 0.5087\n",
      "Test Error: \n",
      " Accuracy: 77.1%,         Avg loss: 0.442871 \n",
      "\n",
      "Saving checkpoint...\n",
      "Done!\n"
     ]
    }
   ],
   "source": [
    "for epoch in range(n_epochs):\n",
    "    print(f'Epoch {epoch+1}\\n--------------------------')\n",
    "    train(train_dataloader, model, criterion, optimizer)\n",
    "    accuracy = test(valid_dataloader, model, criterion)\n",
    "    epoch_accuracies[epoch] = accuracy\n",
    "    checkpoint = {'state_dict': model.state_dict(), 'optimizer': optimizer.state_dict()}\n",
    "    save_checkpoint(checkpoint, f'{epoch}.pth.tar')\n",
    "print(\"Done!\")"
   ]
  },
  {
   "cell_type": "code",
   "execution_count": 62,
   "id": "2e7b1b0e-8cdf-47f8-a209-0e48b3a0bde6",
   "metadata": {},
   "outputs": [],
   "source": [
    "best_model = epoch_accuracies.argmax()"
   ]
  },
  {
   "cell_type": "code",
   "execution_count": 63,
   "id": "cb3fef41-2e89-4a71-a294-34fb16fa5188",
   "metadata": {},
   "outputs": [],
   "source": [
    "load_checkpoint(torch.load(f'{best_model}.pth.tar'))"
   ]
  },
  {
   "cell_type": "code",
   "execution_count": 64,
   "id": "7bbe4275-a511-4b4c-95e6-fcf15f022505",
   "metadata": {},
   "outputs": [],
   "source": [
    "test_dataset = CustomDataset(test_X, test_y)\n",
    "test_dataloader = DataLoader(dataset=test_dataset, batch_size=batch_size, shuffle=False)"
   ]
  },
  {
   "cell_type": "code",
   "execution_count": 65,
   "id": "1004e7db-73b1-446f-98d5-515aa575e026",
   "metadata": {},
   "outputs": [
    {
     "name": "stdout",
     "output_type": "stream",
     "text": [
      "Test Error: \n",
      " Accuracy: 77.2%,         Avg loss: 0.441616 \n",
      "\n"
     ]
    },
    {
     "data": {
      "text/plain": [
       "0.7723"
      ]
     },
     "execution_count": 65,
     "metadata": {},
     "output_type": "execute_result"
    }
   ],
   "source": [
    "test(test_dataloader, model, criterion)"
   ]
  },
  {
   "cell_type": "code",
   "execution_count": 72,
   "id": "45afca8f-4804-43e0-a7f9-8f751da41db7",
   "metadata": {},
   "outputs": [
    {
     "data": {
      "text/plain": [
       "237377"
      ]
     },
     "execution_count": 72,
     "metadata": {},
     "output_type": "execute_result"
    }
   ],
   "source": [
    "sum(p.numel() for p in model.parameters() if p.requires_grad)"
   ]
  }
 ],
 "metadata": {
  "kernelspec": {
   "display_name": "Python 3",
   "language": "python",
   "name": "python3"
  },
  "language_info": {
   "codemirror_mode": {
    "name": "ipython",
    "version": 3
   },
   "file_extension": ".py",
   "mimetype": "text/x-python",
   "name": "python",
   "nbconvert_exporter": "python",
   "pygments_lexer": "ipython3",
   "version": "3.8.8"
  }
 },
 "nbformat": 4,
 "nbformat_minor": 5
}
